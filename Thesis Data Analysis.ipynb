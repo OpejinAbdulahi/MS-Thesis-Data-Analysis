{
 "cells": [
  {
   "cell_type": "code",
   "execution_count": 2,
   "id": "0972cdb1",
   "metadata": {},
   "outputs": [
    {
     "data": {
      "text/plain": [
       "<Figure size 1200x800 with 0 Axes>"
      ]
     },
     "metadata": {},
     "output_type": "display_data"
    }
   ],
   "source": [
    "import numpy as np\n",
    "import pandas as pd\n",
    "import matplotlib.pyplot as plt\n",
    "import seaborn as sns\n",
    "import pytz\n",
    "from datetime import datetime, timedelta\n",
    "import scipy.stats as stats\n",
    "import pingouin as pg\n",
    "\n",
    "fig = plt.figure(figsize=(12,8))\n",
    "plt.style.use(\"fivethirtyeight\")\n",
    "\n",
    "import warnings\n",
    "warnings.filterwarnings(\"ignore\")"
   ]
  },
  {
   "cell_type": "code",
   "execution_count": 3,
   "id": "9524164a",
   "metadata": {},
   "outputs": [],
   "source": [
    "# Loading the two datasets\n",
    "purpleair = pd.read_csv(r'C:\\Users\\OPEJINA22\\OneDrive - East Carolina University\\Desktop\\Fall 2023\\Thesis GEOG 7000\\Data\\The Two Data\\Cleaned_GeoAir_Data.csv')"
   ]
  },
  {
   "cell_type": "code",
   "execution_count": 4,
   "id": "832f8507",
   "metadata": {},
   "outputs": [
    {
     "data": {
      "text/plain": [
       "(387876, 6)"
      ]
     },
     "execution_count": 4,
     "metadata": {},
     "output_type": "execute_result"
    }
   ],
   "source": [
    "purpleair.shape"
   ]
  },
  {
   "cell_type": "code",
   "execution_count": 5,
   "id": "15cbe11d",
   "metadata": {},
   "outputs": [],
   "source": [
    "geoair = pd.read_csv(r'C:\\Users\\OPEJINA22\\OneDrive - East Carolina University\\Desktop\\Fall 2023\\Thesis GEOG 7000\\Data\\The Two Data\\Cleaned_PurpleAir_Data.csv')"
   ]
  },
  {
   "cell_type": "code",
   "execution_count": 6,
   "id": "1b6b6936",
   "metadata": {},
   "outputs": [
    {
     "data": {
      "text/plain": [
       "(368692, 6)"
      ]
     },
     "execution_count": 6,
     "metadata": {},
     "output_type": "execute_result"
    }
   ],
   "source": [
    "geoair.shape"
   ]
  },
  {
   "cell_type": "code",
   "execution_count": 7,
   "id": "fd85eb9a",
   "metadata": {},
   "outputs": [],
   "source": [
    "Variables = pd.read_csv(r'C:\\Users\\OPEJINA22\\OneDrive - East Carolina University\\Desktop\\Fall 2023\\Thesis GEOG 7000\\Data\\The Two Data\\Variables.csv')"
   ]
  },
  {
   "cell_type": "code",
   "execution_count": 8,
   "id": "c0fb9515",
   "metadata": {},
   "outputs": [
    {
     "data": {
      "text/plain": [
       "(101, 12)"
      ]
     },
     "execution_count": 8,
     "metadata": {},
     "output_type": "execute_result"
    }
   ],
   "source": [
    "Variables.shape"
   ]
  },
  {
   "cell_type": "code",
   "execution_count": 9,
   "id": "11ef8247",
   "metadata": {},
   "outputs": [
    {
     "data": {
      "text/html": [
       "<div>\n",
       "<style scoped>\n",
       "    .dataframe tbody tr th:only-of-type {\n",
       "        vertical-align: middle;\n",
       "    }\n",
       "\n",
       "    .dataframe tbody tr th {\n",
       "        vertical-align: top;\n",
       "    }\n",
       "\n",
       "    .dataframe thead th {\n",
       "        text-align: right;\n",
       "    }\n",
       "</style>\n",
       "<table border=\"1\" class=\"dataframe\">\n",
       "  <thead>\n",
       "    <tr style=\"text-align: right;\">\n",
       "      <th></th>\n",
       "      <th>datetime</th>\n",
       "      <th>new_lat</th>\n",
       "      <th>new_lon</th>\n",
       "      <th>ID.1</th>\n",
       "      <th>PM25</th>\n",
       "      <th>place</th>\n",
       "    </tr>\n",
       "  </thead>\n",
       "  <tbody>\n",
       "    <tr>\n",
       "      <th>0</th>\n",
       "      <td>2021-09-26 00-00</td>\n",
       "      <td>34.833961</td>\n",
       "      <td>-77.661139</td>\n",
       "      <td>P12</td>\n",
       "      <td>12.31</td>\n",
       "      <td>Home</td>\n",
       "    </tr>\n",
       "    <tr>\n",
       "      <th>1</th>\n",
       "      <td>2021-09-26 00-00</td>\n",
       "      <td>35.190660</td>\n",
       "      <td>-77.670215</td>\n",
       "      <td>P15</td>\n",
       "      <td>2.19</td>\n",
       "      <td>Home</td>\n",
       "    </tr>\n",
       "    <tr>\n",
       "      <th>2</th>\n",
       "      <td>2021-09-26 00-00</td>\n",
       "      <td>35.403127</td>\n",
       "      <td>-77.728539</td>\n",
       "      <td>P11</td>\n",
       "      <td>2.23</td>\n",
       "      <td>Home</td>\n",
       "    </tr>\n",
       "    <tr>\n",
       "      <th>3</th>\n",
       "      <td>2021-09-26 00-00</td>\n",
       "      <td>35.542208</td>\n",
       "      <td>-77.363569</td>\n",
       "      <td>P5</td>\n",
       "      <td>2.36</td>\n",
       "      <td>Home</td>\n",
       "    </tr>\n",
       "    <tr>\n",
       "      <th>4</th>\n",
       "      <td>2021-09-26 00-00</td>\n",
       "      <td>35.542245</td>\n",
       "      <td>-77.363584</td>\n",
       "      <td>P7</td>\n",
       "      <td>1.53</td>\n",
       "      <td>Home</td>\n",
       "    </tr>\n",
       "  </tbody>\n",
       "</table>\n",
       "</div>"
      ],
      "text/plain": [
       "           datetime    new_lat    new_lon ID.1   PM25 place\n",
       "0  2021-09-26 00-00  34.833961 -77.661139  P12  12.31  Home\n",
       "1  2021-09-26 00-00  35.190660 -77.670215  P15   2.19  Home\n",
       "2  2021-09-26 00-00  35.403127 -77.728539  P11   2.23  Home\n",
       "3  2021-09-26 00-00  35.542208 -77.363569   P5   2.36  Home\n",
       "4  2021-09-26 00-00  35.542245 -77.363584   P7   1.53  Home"
      ]
     },
     "execution_count": 9,
     "metadata": {},
     "output_type": "execute_result"
    }
   ],
   "source": [
    "purpleair.head()"
   ]
  },
  {
   "cell_type": "code",
   "execution_count": 10,
   "id": "e37f1074",
   "metadata": {},
   "outputs": [
    {
     "data": {
      "text/html": [
       "<div>\n",
       "<style scoped>\n",
       "    .dataframe tbody tr th:only-of-type {\n",
       "        vertical-align: middle;\n",
       "    }\n",
       "\n",
       "    .dataframe tbody tr th {\n",
       "        vertical-align: top;\n",
       "    }\n",
       "\n",
       "    .dataframe thead th {\n",
       "        text-align: right;\n",
       "    }\n",
       "</style>\n",
       "<table border=\"1\" class=\"dataframe\">\n",
       "  <thead>\n",
       "    <tr style=\"text-align: right;\">\n",
       "      <th></th>\n",
       "      <th>Unnamed: 0</th>\n",
       "      <th>datetime</th>\n",
       "      <th>new_lat</th>\n",
       "      <th>new_lon</th>\n",
       "      <th>ID.1</th>\n",
       "      <th>pm 2.5</th>\n",
       "    </tr>\n",
       "  </thead>\n",
       "  <tbody>\n",
       "    <tr>\n",
       "      <th>0</th>\n",
       "      <td>0</td>\n",
       "      <td>2021-09-26 00-00</td>\n",
       "      <td>35.542208</td>\n",
       "      <td>-77.363569</td>\n",
       "      <td>P5</td>\n",
       "      <td>152.727997</td>\n",
       "    </tr>\n",
       "    <tr>\n",
       "      <th>1</th>\n",
       "      <td>1</td>\n",
       "      <td>2021-09-26 00-00</td>\n",
       "      <td>35.542245</td>\n",
       "      <td>-77.363584</td>\n",
       "      <td>P7</td>\n",
       "      <td>152.727005</td>\n",
       "    </tr>\n",
       "    <tr>\n",
       "      <th>2</th>\n",
       "      <td>2</td>\n",
       "      <td>2021-09-26 00-00</td>\n",
       "      <td>35.403127</td>\n",
       "      <td>-77.728539</td>\n",
       "      <td>P11</td>\n",
       "      <td>155.072998</td>\n",
       "    </tr>\n",
       "    <tr>\n",
       "      <th>3</th>\n",
       "      <td>3</td>\n",
       "      <td>2021-09-26 00-00</td>\n",
       "      <td>34.833961</td>\n",
       "      <td>-77.661139</td>\n",
       "      <td>P12</td>\n",
       "      <td>16.270800</td>\n",
       "    </tr>\n",
       "    <tr>\n",
       "      <th>4</th>\n",
       "      <td>4</td>\n",
       "      <td>2021-09-26 00-00</td>\n",
       "      <td>35.655075</td>\n",
       "      <td>-77.425822</td>\n",
       "      <td>P13</td>\n",
       "      <td>151.994003</td>\n",
       "    </tr>\n",
       "  </tbody>\n",
       "</table>\n",
       "</div>"
      ],
      "text/plain": [
       "   Unnamed: 0          datetime    new_lat    new_lon ID.1      pm 2.5\n",
       "0           0  2021-09-26 00-00  35.542208 -77.363569   P5  152.727997\n",
       "1           1  2021-09-26 00-00  35.542245 -77.363584   P7  152.727005\n",
       "2           2  2021-09-26 00-00  35.403127 -77.728539  P11  155.072998\n",
       "3           3  2021-09-26 00-00  34.833961 -77.661139  P12   16.270800\n",
       "4           4  2021-09-26 00-00  35.655075 -77.425822  P13  151.994003"
      ]
     },
     "execution_count": 10,
     "metadata": {},
     "output_type": "execute_result"
    }
   ],
   "source": [
    "geoair.head()"
   ]
  },
  {
   "cell_type": "code",
   "execution_count": 11,
   "id": "4c075c35",
   "metadata": {},
   "outputs": [
    {
     "data": {
      "text/html": [
       "<div>\n",
       "<style scoped>\n",
       "    .dataframe tbody tr th:only-of-type {\n",
       "        vertical-align: middle;\n",
       "    }\n",
       "\n",
       "    .dataframe tbody tr th {\n",
       "        vertical-align: top;\n",
       "    }\n",
       "\n",
       "    .dataframe thead th {\n",
       "        text-align: right;\n",
       "    }\n",
       "</style>\n",
       "<table border=\"1\" class=\"dataframe\">\n",
       "  <thead>\n",
       "    <tr style=\"text-align: right;\">\n",
       "      <th></th>\n",
       "      <th>ID.1</th>\n",
       "      <th>gender</th>\n",
       "      <th>gender_status</th>\n",
       "      <th>race_heritage</th>\n",
       "      <th>race_status</th>\n",
       "      <th>home_type</th>\n",
       "      <th>home_status</th>\n",
       "      <th>income_code</th>\n",
       "      <th>address_city</th>\n",
       "      <th>Income_status</th>\n",
       "      <th>address</th>\n",
       "      <th>address_status</th>\n",
       "    </tr>\n",
       "  </thead>\n",
       "  <tbody>\n",
       "    <tr>\n",
       "      <th>0</th>\n",
       "      <td>P3</td>\n",
       "      <td>2</td>\n",
       "      <td>Female</td>\n",
       "      <td>1</td>\n",
       "      <td>Hispanic</td>\n",
       "      <td>1</td>\n",
       "      <td>Mobile</td>\n",
       "      <td>8</td>\n",
       "      <td>Greenville, NC</td>\n",
       "      <td>High Income</td>\n",
       "      <td>1</td>\n",
       "      <td>Urban</td>\n",
       "    </tr>\n",
       "    <tr>\n",
       "      <th>1</th>\n",
       "      <td>P4</td>\n",
       "      <td>2</td>\n",
       "      <td>Female</td>\n",
       "      <td>1</td>\n",
       "      <td>Hispanic</td>\n",
       "      <td>1</td>\n",
       "      <td>Mobile</td>\n",
       "      <td>1</td>\n",
       "      <td>Pinetown, NC</td>\n",
       "      <td>Low Income</td>\n",
       "      <td>2</td>\n",
       "      <td>Rural</td>\n",
       "    </tr>\n",
       "    <tr>\n",
       "      <th>2</th>\n",
       "      <td>P5</td>\n",
       "      <td>2</td>\n",
       "      <td>Female</td>\n",
       "      <td>1</td>\n",
       "      <td>Hispanic</td>\n",
       "      <td>3</td>\n",
       "      <td>Fam_attach</td>\n",
       "      <td>1</td>\n",
       "      <td>Winterville, NC</td>\n",
       "      <td>Low Income</td>\n",
       "      <td>1</td>\n",
       "      <td>Urban</td>\n",
       "    </tr>\n",
       "    <tr>\n",
       "      <th>3</th>\n",
       "      <td>P6</td>\n",
       "      <td>2</td>\n",
       "      <td>Female</td>\n",
       "      <td>1</td>\n",
       "      <td>Hispanic</td>\n",
       "      <td>1</td>\n",
       "      <td>Mobile</td>\n",
       "      <td>3</td>\n",
       "      <td>JACKSONVILLE</td>\n",
       "      <td>Low Income</td>\n",
       "      <td>1</td>\n",
       "      <td>Urban</td>\n",
       "    </tr>\n",
       "    <tr>\n",
       "      <th>4</th>\n",
       "      <td>P7</td>\n",
       "      <td>1</td>\n",
       "      <td>Male</td>\n",
       "      <td>1</td>\n",
       "      <td>Hispanic</td>\n",
       "      <td>2</td>\n",
       "      <td>Fam_detach</td>\n",
       "      <td>10</td>\n",
       "      <td>Winterville, NC</td>\n",
       "      <td>No_response</td>\n",
       "      <td>1</td>\n",
       "      <td>Urban</td>\n",
       "    </tr>\n",
       "  </tbody>\n",
       "</table>\n",
       "</div>"
      ],
      "text/plain": [
       "  ID.1  gender gender_status  race_heritage race_status  home_type  \\\n",
       "0   P3       2        Female              1    Hispanic          1   \n",
       "1   P4       2        Female              1    Hispanic          1   \n",
       "2   P5       2        Female              1    Hispanic          3   \n",
       "3   P6       2        Female              1    Hispanic          1   \n",
       "4   P7       1          Male              1    Hispanic          2   \n",
       "\n",
       "  home_status  income_code     address_city Income_status  address  \\\n",
       "0      Mobile            8   Greenville, NC   High Income        1   \n",
       "1      Mobile            1     Pinetown, NC    Low Income        2   \n",
       "2  Fam_attach            1  Winterville, NC    Low Income        1   \n",
       "3      Mobile            3     JACKSONVILLE    Low Income        1   \n",
       "4  Fam_detach           10  Winterville, NC   No_response        1   \n",
       "\n",
       "  address_status  \n",
       "0          Urban  \n",
       "1          Rural  \n",
       "2          Urban  \n",
       "3          Urban  \n",
       "4          Urban  "
      ]
     },
     "execution_count": 11,
     "metadata": {},
     "output_type": "execute_result"
    }
   ],
   "source": [
    "Variables.head()"
   ]
  },
  {
   "cell_type": "code",
   "execution_count": 12,
   "id": "39947af8",
   "metadata": {},
   "outputs": [],
   "source": [
    "# Join the Purpleair data with new income data\n",
    "purpleair = purpleair.merge(Variables, on='ID.1', how='left') # Left join"
   ]
  },
  {
   "cell_type": "code",
   "execution_count": 13,
   "id": "5d0444aa",
   "metadata": {},
   "outputs": [],
   "source": [
    "# Create a column and concatenat datetime field and ID.1 as its value for left join for purpleair data\n",
    "purpleair['Filter'] = purpleair['ID.1'] + purpleair['datetime']"
   ]
  },
  {
   "cell_type": "code",
   "execution_count": 14,
   "id": "005f8ee3",
   "metadata": {},
   "outputs": [
    {
     "data": {
      "text/html": [
       "<div>\n",
       "<style scoped>\n",
       "    .dataframe tbody tr th:only-of-type {\n",
       "        vertical-align: middle;\n",
       "    }\n",
       "\n",
       "    .dataframe tbody tr th {\n",
       "        vertical-align: top;\n",
       "    }\n",
       "\n",
       "    .dataframe thead th {\n",
       "        text-align: right;\n",
       "    }\n",
       "</style>\n",
       "<table border=\"1\" class=\"dataframe\">\n",
       "  <thead>\n",
       "    <tr style=\"text-align: right;\">\n",
       "      <th></th>\n",
       "      <th>datetime</th>\n",
       "      <th>new_lat</th>\n",
       "      <th>new_lon</th>\n",
       "      <th>ID.1</th>\n",
       "      <th>PM25</th>\n",
       "      <th>place</th>\n",
       "      <th>gender</th>\n",
       "      <th>gender_status</th>\n",
       "      <th>race_heritage</th>\n",
       "      <th>race_status</th>\n",
       "      <th>home_type</th>\n",
       "      <th>home_status</th>\n",
       "      <th>income_code</th>\n",
       "      <th>address_city</th>\n",
       "      <th>Income_status</th>\n",
       "      <th>address</th>\n",
       "      <th>address_status</th>\n",
       "      <th>Filter</th>\n",
       "    </tr>\n",
       "  </thead>\n",
       "  <tbody>\n",
       "    <tr>\n",
       "      <th>0</th>\n",
       "      <td>2021-09-26 00-00</td>\n",
       "      <td>34.833961</td>\n",
       "      <td>-77.661139</td>\n",
       "      <td>P12</td>\n",
       "      <td>12.31</td>\n",
       "      <td>Home</td>\n",
       "      <td>2</td>\n",
       "      <td>Female</td>\n",
       "      <td>1</td>\n",
       "      <td>Hispanic</td>\n",
       "      <td>7</td>\n",
       "      <td>No_response</td>\n",
       "      <td>4</td>\n",
       "      <td>Chinquapin</td>\n",
       "      <td>Middle Income</td>\n",
       "      <td>2</td>\n",
       "      <td>Rural</td>\n",
       "      <td>P122021-09-26 00-00</td>\n",
       "    </tr>\n",
       "    <tr>\n",
       "      <th>1</th>\n",
       "      <td>2021-09-26 00-00</td>\n",
       "      <td>35.190660</td>\n",
       "      <td>-77.670215</td>\n",
       "      <td>P15</td>\n",
       "      <td>2.19</td>\n",
       "      <td>Home</td>\n",
       "      <td>1</td>\n",
       "      <td>Male</td>\n",
       "      <td>1</td>\n",
       "      <td>Hispanic</td>\n",
       "      <td>1</td>\n",
       "      <td>Mobile</td>\n",
       "      <td>2</td>\n",
       "      <td>Kinston, NC</td>\n",
       "      <td>Low Income</td>\n",
       "      <td>2</td>\n",
       "      <td>Rural</td>\n",
       "      <td>P152021-09-26 00-00</td>\n",
       "    </tr>\n",
       "    <tr>\n",
       "      <th>2</th>\n",
       "      <td>2021-09-26 00-00</td>\n",
       "      <td>35.403127</td>\n",
       "      <td>-77.728539</td>\n",
       "      <td>P11</td>\n",
       "      <td>2.23</td>\n",
       "      <td>Home</td>\n",
       "      <td>2</td>\n",
       "      <td>Female</td>\n",
       "      <td>1</td>\n",
       "      <td>Hispanic</td>\n",
       "      <td>1</td>\n",
       "      <td>Mobile</td>\n",
       "      <td>2</td>\n",
       "      <td>La Grange, NC</td>\n",
       "      <td>Low Income</td>\n",
       "      <td>2</td>\n",
       "      <td>Rural</td>\n",
       "      <td>P112021-09-26 00-00</td>\n",
       "    </tr>\n",
       "    <tr>\n",
       "      <th>3</th>\n",
       "      <td>2021-09-26 00-00</td>\n",
       "      <td>35.542208</td>\n",
       "      <td>-77.363569</td>\n",
       "      <td>P5</td>\n",
       "      <td>2.36</td>\n",
       "      <td>Home</td>\n",
       "      <td>2</td>\n",
       "      <td>Female</td>\n",
       "      <td>1</td>\n",
       "      <td>Hispanic</td>\n",
       "      <td>3</td>\n",
       "      <td>Fam_attach</td>\n",
       "      <td>1</td>\n",
       "      <td>Winterville, NC</td>\n",
       "      <td>Low Income</td>\n",
       "      <td>1</td>\n",
       "      <td>Urban</td>\n",
       "      <td>P52021-09-26 00-00</td>\n",
       "    </tr>\n",
       "    <tr>\n",
       "      <th>4</th>\n",
       "      <td>2021-09-26 00-00</td>\n",
       "      <td>35.542245</td>\n",
       "      <td>-77.363584</td>\n",
       "      <td>P7</td>\n",
       "      <td>1.53</td>\n",
       "      <td>Home</td>\n",
       "      <td>1</td>\n",
       "      <td>Male</td>\n",
       "      <td>1</td>\n",
       "      <td>Hispanic</td>\n",
       "      <td>2</td>\n",
       "      <td>Fam_detach</td>\n",
       "      <td>10</td>\n",
       "      <td>Winterville, NC</td>\n",
       "      <td>No_response</td>\n",
       "      <td>1</td>\n",
       "      <td>Urban</td>\n",
       "      <td>P72021-09-26 00-00</td>\n",
       "    </tr>\n",
       "  </tbody>\n",
       "</table>\n",
       "</div>"
      ],
      "text/plain": [
       "           datetime    new_lat    new_lon ID.1   PM25 place  gender  \\\n",
       "0  2021-09-26 00-00  34.833961 -77.661139  P12  12.31  Home       2   \n",
       "1  2021-09-26 00-00  35.190660 -77.670215  P15   2.19  Home       1   \n",
       "2  2021-09-26 00-00  35.403127 -77.728539  P11   2.23  Home       2   \n",
       "3  2021-09-26 00-00  35.542208 -77.363569   P5   2.36  Home       2   \n",
       "4  2021-09-26 00-00  35.542245 -77.363584   P7   1.53  Home       1   \n",
       "\n",
       "  gender_status  race_heritage race_status  home_type  home_status  \\\n",
       "0        Female              1    Hispanic          7  No_response   \n",
       "1          Male              1    Hispanic          1       Mobile   \n",
       "2        Female              1    Hispanic          1       Mobile   \n",
       "3        Female              1    Hispanic          3   Fam_attach   \n",
       "4          Male              1    Hispanic          2   Fam_detach   \n",
       "\n",
       "   income_code     address_city  Income_status  address address_status  \\\n",
       "0            4       Chinquapin  Middle Income        2          Rural   \n",
       "1            2     Kinston, NC      Low Income        2          Rural   \n",
       "2            2    La Grange, NC     Low Income        2          Rural   \n",
       "3            1  Winterville, NC     Low Income        1          Urban   \n",
       "4           10  Winterville, NC    No_response        1          Urban   \n",
       "\n",
       "                Filter  \n",
       "0  P122021-09-26 00-00  \n",
       "1  P152021-09-26 00-00  \n",
       "2  P112021-09-26 00-00  \n",
       "3   P52021-09-26 00-00  \n",
       "4   P72021-09-26 00-00  "
      ]
     },
     "execution_count": 14,
     "metadata": {},
     "output_type": "execute_result"
    }
   ],
   "source": [
    "purpleair.head()"
   ]
  },
  {
   "cell_type": "code",
   "execution_count": 15,
   "id": "5ea7303f",
   "metadata": {},
   "outputs": [
    {
     "data": {
      "text/plain": [
       "(387876, 18)"
      ]
     },
     "execution_count": 15,
     "metadata": {},
     "output_type": "execute_result"
    }
   ],
   "source": [
    "purpleair.shape"
   ]
  },
  {
   "cell_type": "code",
   "execution_count": 16,
   "id": "f0874b59",
   "metadata": {},
   "outputs": [],
   "source": [
    "# Create a column and concatenat datetime field and ID.1 as its value for left join for geoeair data\n",
    "geoair['Filter'] = geoair['ID.1'] + geoair['datetime']"
   ]
  },
  {
   "cell_type": "code",
   "execution_count": 17,
   "id": "8f1b82c0",
   "metadata": {},
   "outputs": [
    {
     "data": {
      "text/html": [
       "<div>\n",
       "<style scoped>\n",
       "    .dataframe tbody tr th:only-of-type {\n",
       "        vertical-align: middle;\n",
       "    }\n",
       "\n",
       "    .dataframe tbody tr th {\n",
       "        vertical-align: top;\n",
       "    }\n",
       "\n",
       "    .dataframe thead th {\n",
       "        text-align: right;\n",
       "    }\n",
       "</style>\n",
       "<table border=\"1\" class=\"dataframe\">\n",
       "  <thead>\n",
       "    <tr style=\"text-align: right;\">\n",
       "      <th></th>\n",
       "      <th>Unnamed: 0</th>\n",
       "      <th>datetime</th>\n",
       "      <th>new_lat</th>\n",
       "      <th>new_lon</th>\n",
       "      <th>ID.1</th>\n",
       "      <th>pm 2.5</th>\n",
       "      <th>Filter</th>\n",
       "    </tr>\n",
       "  </thead>\n",
       "  <tbody>\n",
       "    <tr>\n",
       "      <th>0</th>\n",
       "      <td>0</td>\n",
       "      <td>2021-09-26 00-00</td>\n",
       "      <td>35.542208</td>\n",
       "      <td>-77.363569</td>\n",
       "      <td>P5</td>\n",
       "      <td>152.727997</td>\n",
       "      <td>P52021-09-26 00-00</td>\n",
       "    </tr>\n",
       "    <tr>\n",
       "      <th>1</th>\n",
       "      <td>1</td>\n",
       "      <td>2021-09-26 00-00</td>\n",
       "      <td>35.542245</td>\n",
       "      <td>-77.363584</td>\n",
       "      <td>P7</td>\n",
       "      <td>152.727005</td>\n",
       "      <td>P72021-09-26 00-00</td>\n",
       "    </tr>\n",
       "    <tr>\n",
       "      <th>2</th>\n",
       "      <td>2</td>\n",
       "      <td>2021-09-26 00-00</td>\n",
       "      <td>35.403127</td>\n",
       "      <td>-77.728539</td>\n",
       "      <td>P11</td>\n",
       "      <td>155.072998</td>\n",
       "      <td>P112021-09-26 00-00</td>\n",
       "    </tr>\n",
       "    <tr>\n",
       "      <th>3</th>\n",
       "      <td>3</td>\n",
       "      <td>2021-09-26 00-00</td>\n",
       "      <td>34.833961</td>\n",
       "      <td>-77.661139</td>\n",
       "      <td>P12</td>\n",
       "      <td>16.270800</td>\n",
       "      <td>P122021-09-26 00-00</td>\n",
       "    </tr>\n",
       "    <tr>\n",
       "      <th>4</th>\n",
       "      <td>4</td>\n",
       "      <td>2021-09-26 00-00</td>\n",
       "      <td>35.655075</td>\n",
       "      <td>-77.425822</td>\n",
       "      <td>P13</td>\n",
       "      <td>151.994003</td>\n",
       "      <td>P132021-09-26 00-00</td>\n",
       "    </tr>\n",
       "  </tbody>\n",
       "</table>\n",
       "</div>"
      ],
      "text/plain": [
       "   Unnamed: 0          datetime    new_lat    new_lon ID.1      pm 2.5  \\\n",
       "0           0  2021-09-26 00-00  35.542208 -77.363569   P5  152.727997   \n",
       "1           1  2021-09-26 00-00  35.542245 -77.363584   P7  152.727005   \n",
       "2           2  2021-09-26 00-00  35.403127 -77.728539  P11  155.072998   \n",
       "3           3  2021-09-26 00-00  34.833961 -77.661139  P12   16.270800   \n",
       "4           4  2021-09-26 00-00  35.655075 -77.425822  P13  151.994003   \n",
       "\n",
       "                Filter  \n",
       "0   P52021-09-26 00-00  \n",
       "1   P72021-09-26 00-00  \n",
       "2  P112021-09-26 00-00  \n",
       "3  P122021-09-26 00-00  \n",
       "4  P132021-09-26 00-00  "
      ]
     },
     "execution_count": 17,
     "metadata": {},
     "output_type": "execute_result"
    }
   ],
   "source": [
    "geoair.head()"
   ]
  },
  {
   "cell_type": "code",
   "execution_count": 18,
   "id": "866a40dd",
   "metadata": {},
   "outputs": [
    {
     "data": {
      "text/plain": [
       "(368692, 7)"
      ]
     },
     "execution_count": 18,
     "metadata": {},
     "output_type": "execute_result"
    }
   ],
   "source": [
    "geoair.shape"
   ]
  },
  {
   "cell_type": "code",
   "execution_count": 19,
   "id": "a742d097",
   "metadata": {},
   "outputs": [],
   "source": [
    "#Join the two dataframe/datasets using the created common field (\"Filter\")\n",
    "merged_df = pd.merge(purpleair, geoair, on='Filter', how='inner')  # inner join"
   ]
  },
  {
   "cell_type": "code",
   "execution_count": 20,
   "id": "b206d7b7",
   "metadata": {},
   "outputs": [
    {
     "data": {
      "text/html": [
       "<div>\n",
       "<style scoped>\n",
       "    .dataframe tbody tr th:only-of-type {\n",
       "        vertical-align: middle;\n",
       "    }\n",
       "\n",
       "    .dataframe tbody tr th {\n",
       "        vertical-align: top;\n",
       "    }\n",
       "\n",
       "    .dataframe thead th {\n",
       "        text-align: right;\n",
       "    }\n",
       "</style>\n",
       "<table border=\"1\" class=\"dataframe\">\n",
       "  <thead>\n",
       "    <tr style=\"text-align: right;\">\n",
       "      <th></th>\n",
       "      <th>datetime_x</th>\n",
       "      <th>new_lat_x</th>\n",
       "      <th>new_lon_x</th>\n",
       "      <th>ID.1_x</th>\n",
       "      <th>PM25</th>\n",
       "      <th>place</th>\n",
       "      <th>gender</th>\n",
       "      <th>gender_status</th>\n",
       "      <th>race_heritage</th>\n",
       "      <th>race_status</th>\n",
       "      <th>...</th>\n",
       "      <th>Income_status</th>\n",
       "      <th>address</th>\n",
       "      <th>address_status</th>\n",
       "      <th>Filter</th>\n",
       "      <th>Unnamed: 0</th>\n",
       "      <th>datetime_y</th>\n",
       "      <th>new_lat_y</th>\n",
       "      <th>new_lon_y</th>\n",
       "      <th>ID.1_y</th>\n",
       "      <th>pm 2.5</th>\n",
       "    </tr>\n",
       "  </thead>\n",
       "  <tbody>\n",
       "    <tr>\n",
       "      <th>0</th>\n",
       "      <td>2021-09-26 00-00</td>\n",
       "      <td>34.833961</td>\n",
       "      <td>-77.661139</td>\n",
       "      <td>P12</td>\n",
       "      <td>12.31</td>\n",
       "      <td>Home</td>\n",
       "      <td>2</td>\n",
       "      <td>Female</td>\n",
       "      <td>1</td>\n",
       "      <td>Hispanic</td>\n",
       "      <td>...</td>\n",
       "      <td>Middle Income</td>\n",
       "      <td>2</td>\n",
       "      <td>Rural</td>\n",
       "      <td>P122021-09-26 00-00</td>\n",
       "      <td>3</td>\n",
       "      <td>2021-09-26 00-00</td>\n",
       "      <td>34.833961</td>\n",
       "      <td>-77.661139</td>\n",
       "      <td>P12</td>\n",
       "      <td>16.270800</td>\n",
       "    </tr>\n",
       "    <tr>\n",
       "      <th>1</th>\n",
       "      <td>2021-09-26 00-00</td>\n",
       "      <td>35.190660</td>\n",
       "      <td>-77.670215</td>\n",
       "      <td>P15</td>\n",
       "      <td>2.19</td>\n",
       "      <td>Home</td>\n",
       "      <td>1</td>\n",
       "      <td>Male</td>\n",
       "      <td>1</td>\n",
       "      <td>Hispanic</td>\n",
       "      <td>...</td>\n",
       "      <td>Low Income</td>\n",
       "      <td>2</td>\n",
       "      <td>Rural</td>\n",
       "      <td>P152021-09-26 00-00</td>\n",
       "      <td>6</td>\n",
       "      <td>2021-09-26 00-00</td>\n",
       "      <td>35.190660</td>\n",
       "      <td>-77.670215</td>\n",
       "      <td>P15</td>\n",
       "      <td>16.452499</td>\n",
       "    </tr>\n",
       "    <tr>\n",
       "      <th>2</th>\n",
       "      <td>2021-09-26 00-00</td>\n",
       "      <td>35.403127</td>\n",
       "      <td>-77.728539</td>\n",
       "      <td>P11</td>\n",
       "      <td>2.23</td>\n",
       "      <td>Home</td>\n",
       "      <td>2</td>\n",
       "      <td>Female</td>\n",
       "      <td>1</td>\n",
       "      <td>Hispanic</td>\n",
       "      <td>...</td>\n",
       "      <td>Low Income</td>\n",
       "      <td>2</td>\n",
       "      <td>Rural</td>\n",
       "      <td>P112021-09-26 00-00</td>\n",
       "      <td>2</td>\n",
       "      <td>2021-09-26 00-00</td>\n",
       "      <td>35.403127</td>\n",
       "      <td>-77.728539</td>\n",
       "      <td>P11</td>\n",
       "      <td>155.072998</td>\n",
       "    </tr>\n",
       "    <tr>\n",
       "      <th>3</th>\n",
       "      <td>2021-09-26 00-00</td>\n",
       "      <td>35.542208</td>\n",
       "      <td>-77.363569</td>\n",
       "      <td>P5</td>\n",
       "      <td>2.36</td>\n",
       "      <td>Home</td>\n",
       "      <td>2</td>\n",
       "      <td>Female</td>\n",
       "      <td>1</td>\n",
       "      <td>Hispanic</td>\n",
       "      <td>...</td>\n",
       "      <td>Low Income</td>\n",
       "      <td>1</td>\n",
       "      <td>Urban</td>\n",
       "      <td>P52021-09-26 00-00</td>\n",
       "      <td>0</td>\n",
       "      <td>2021-09-26 00-00</td>\n",
       "      <td>35.542208</td>\n",
       "      <td>-77.363569</td>\n",
       "      <td>P5</td>\n",
       "      <td>152.727997</td>\n",
       "    </tr>\n",
       "    <tr>\n",
       "      <th>4</th>\n",
       "      <td>2021-09-26 00-00</td>\n",
       "      <td>35.542245</td>\n",
       "      <td>-77.363584</td>\n",
       "      <td>P7</td>\n",
       "      <td>1.53</td>\n",
       "      <td>Home</td>\n",
       "      <td>1</td>\n",
       "      <td>Male</td>\n",
       "      <td>1</td>\n",
       "      <td>Hispanic</td>\n",
       "      <td>...</td>\n",
       "      <td>No_response</td>\n",
       "      <td>1</td>\n",
       "      <td>Urban</td>\n",
       "      <td>P72021-09-26 00-00</td>\n",
       "      <td>1</td>\n",
       "      <td>2021-09-26 00-00</td>\n",
       "      <td>35.542245</td>\n",
       "      <td>-77.363584</td>\n",
       "      <td>P7</td>\n",
       "      <td>152.727005</td>\n",
       "    </tr>\n",
       "  </tbody>\n",
       "</table>\n",
       "<p>5 rows × 24 columns</p>\n",
       "</div>"
      ],
      "text/plain": [
       "         datetime_x  new_lat_x  new_lon_x ID.1_x   PM25 place  gender  \\\n",
       "0  2021-09-26 00-00  34.833961 -77.661139    P12  12.31  Home       2   \n",
       "1  2021-09-26 00-00  35.190660 -77.670215    P15   2.19  Home       1   \n",
       "2  2021-09-26 00-00  35.403127 -77.728539    P11   2.23  Home       2   \n",
       "3  2021-09-26 00-00  35.542208 -77.363569     P5   2.36  Home       2   \n",
       "4  2021-09-26 00-00  35.542245 -77.363584     P7   1.53  Home       1   \n",
       "\n",
       "  gender_status  race_heritage race_status  ...  Income_status address  \\\n",
       "0        Female              1    Hispanic  ...  Middle Income       2   \n",
       "1          Male              1    Hispanic  ...     Low Income       2   \n",
       "2        Female              1    Hispanic  ...     Low Income       2   \n",
       "3        Female              1    Hispanic  ...     Low Income       1   \n",
       "4          Male              1    Hispanic  ...    No_response       1   \n",
       "\n",
       "   address_status               Filter Unnamed: 0        datetime_y  \\\n",
       "0           Rural  P122021-09-26 00-00          3  2021-09-26 00-00   \n",
       "1           Rural  P152021-09-26 00-00          6  2021-09-26 00-00   \n",
       "2           Rural  P112021-09-26 00-00          2  2021-09-26 00-00   \n",
       "3           Urban   P52021-09-26 00-00          0  2021-09-26 00-00   \n",
       "4           Urban   P72021-09-26 00-00          1  2021-09-26 00-00   \n",
       "\n",
       "   new_lat_y  new_lon_y  ID.1_y      pm 2.5  \n",
       "0  34.833961 -77.661139     P12   16.270800  \n",
       "1  35.190660 -77.670215     P15   16.452499  \n",
       "2  35.403127 -77.728539     P11  155.072998  \n",
       "3  35.542208 -77.363569      P5  152.727997  \n",
       "4  35.542245 -77.363584      P7  152.727005  \n",
       "\n",
       "[5 rows x 24 columns]"
      ]
     },
     "execution_count": 20,
     "metadata": {},
     "output_type": "execute_result"
    }
   ],
   "source": [
    "merged_df.head()"
   ]
  },
  {
   "cell_type": "code",
   "execution_count": 21,
   "id": "edb7de04",
   "metadata": {},
   "outputs": [
    {
     "data": {
      "text/plain": [
       "(370748, 24)"
      ]
     },
     "execution_count": 21,
     "metadata": {},
     "output_type": "execute_result"
    }
   ],
   "source": [
    "merged_df.shape"
   ]
  },
  {
   "cell_type": "code",
   "execution_count": 22,
   "id": "2fb166c3",
   "metadata": {},
   "outputs": [
    {
     "data": {
      "text/plain": [
       "True"
      ]
     },
     "execution_count": 22,
     "metadata": {},
     "output_type": "execute_result"
    }
   ],
   "source": [
    "merged_df.isnull().values.any()"
   ]
  },
  {
   "cell_type": "code",
   "execution_count": 23,
   "id": "e3180b10",
   "metadata": {},
   "outputs": [],
   "source": [
    "# create new column and reduce the number of datetime_x column characters to 10 \n",
    "max_characters = 10  # Replace with your desired maximum character length\n",
    "merged_df['new_date'] = merged_df['datetime_x'].str[:max_characters]"
   ]
  },
  {
   "cell_type": "code",
   "execution_count": 24,
   "id": "d1c3d9ca",
   "metadata": {},
   "outputs": [
    {
     "data": {
      "text/html": [
       "<div>\n",
       "<style scoped>\n",
       "    .dataframe tbody tr th:only-of-type {\n",
       "        vertical-align: middle;\n",
       "    }\n",
       "\n",
       "    .dataframe tbody tr th {\n",
       "        vertical-align: top;\n",
       "    }\n",
       "\n",
       "    .dataframe thead th {\n",
       "        text-align: right;\n",
       "    }\n",
       "</style>\n",
       "<table border=\"1\" class=\"dataframe\">\n",
       "  <thead>\n",
       "    <tr style=\"text-align: right;\">\n",
       "      <th></th>\n",
       "      <th>datetime_x</th>\n",
       "      <th>new_lat_x</th>\n",
       "      <th>new_lon_x</th>\n",
       "      <th>ID.1_x</th>\n",
       "      <th>PM25</th>\n",
       "      <th>place</th>\n",
       "      <th>gender</th>\n",
       "      <th>gender_status</th>\n",
       "      <th>race_heritage</th>\n",
       "      <th>race_status</th>\n",
       "      <th>...</th>\n",
       "      <th>address</th>\n",
       "      <th>address_status</th>\n",
       "      <th>Filter</th>\n",
       "      <th>Unnamed: 0</th>\n",
       "      <th>datetime_y</th>\n",
       "      <th>new_lat_y</th>\n",
       "      <th>new_lon_y</th>\n",
       "      <th>ID.1_y</th>\n",
       "      <th>pm 2.5</th>\n",
       "      <th>new_date</th>\n",
       "    </tr>\n",
       "  </thead>\n",
       "  <tbody>\n",
       "    <tr>\n",
       "      <th>0</th>\n",
       "      <td>2021-09-26 00-00</td>\n",
       "      <td>34.833961</td>\n",
       "      <td>-77.661139</td>\n",
       "      <td>P12</td>\n",
       "      <td>12.31</td>\n",
       "      <td>Home</td>\n",
       "      <td>2</td>\n",
       "      <td>Female</td>\n",
       "      <td>1</td>\n",
       "      <td>Hispanic</td>\n",
       "      <td>...</td>\n",
       "      <td>2</td>\n",
       "      <td>Rural</td>\n",
       "      <td>P122021-09-26 00-00</td>\n",
       "      <td>3</td>\n",
       "      <td>2021-09-26 00-00</td>\n",
       "      <td>34.833961</td>\n",
       "      <td>-77.661139</td>\n",
       "      <td>P12</td>\n",
       "      <td>16.270800</td>\n",
       "      <td>2021-09-26</td>\n",
       "    </tr>\n",
       "    <tr>\n",
       "      <th>1</th>\n",
       "      <td>2021-09-26 00-00</td>\n",
       "      <td>35.190660</td>\n",
       "      <td>-77.670215</td>\n",
       "      <td>P15</td>\n",
       "      <td>2.19</td>\n",
       "      <td>Home</td>\n",
       "      <td>1</td>\n",
       "      <td>Male</td>\n",
       "      <td>1</td>\n",
       "      <td>Hispanic</td>\n",
       "      <td>...</td>\n",
       "      <td>2</td>\n",
       "      <td>Rural</td>\n",
       "      <td>P152021-09-26 00-00</td>\n",
       "      <td>6</td>\n",
       "      <td>2021-09-26 00-00</td>\n",
       "      <td>35.190660</td>\n",
       "      <td>-77.670215</td>\n",
       "      <td>P15</td>\n",
       "      <td>16.452499</td>\n",
       "      <td>2021-09-26</td>\n",
       "    </tr>\n",
       "    <tr>\n",
       "      <th>2</th>\n",
       "      <td>2021-09-26 00-00</td>\n",
       "      <td>35.403127</td>\n",
       "      <td>-77.728539</td>\n",
       "      <td>P11</td>\n",
       "      <td>2.23</td>\n",
       "      <td>Home</td>\n",
       "      <td>2</td>\n",
       "      <td>Female</td>\n",
       "      <td>1</td>\n",
       "      <td>Hispanic</td>\n",
       "      <td>...</td>\n",
       "      <td>2</td>\n",
       "      <td>Rural</td>\n",
       "      <td>P112021-09-26 00-00</td>\n",
       "      <td>2</td>\n",
       "      <td>2021-09-26 00-00</td>\n",
       "      <td>35.403127</td>\n",
       "      <td>-77.728539</td>\n",
       "      <td>P11</td>\n",
       "      <td>155.072998</td>\n",
       "      <td>2021-09-26</td>\n",
       "    </tr>\n",
       "    <tr>\n",
       "      <th>3</th>\n",
       "      <td>2021-09-26 00-00</td>\n",
       "      <td>35.542208</td>\n",
       "      <td>-77.363569</td>\n",
       "      <td>P5</td>\n",
       "      <td>2.36</td>\n",
       "      <td>Home</td>\n",
       "      <td>2</td>\n",
       "      <td>Female</td>\n",
       "      <td>1</td>\n",
       "      <td>Hispanic</td>\n",
       "      <td>...</td>\n",
       "      <td>1</td>\n",
       "      <td>Urban</td>\n",
       "      <td>P52021-09-26 00-00</td>\n",
       "      <td>0</td>\n",
       "      <td>2021-09-26 00-00</td>\n",
       "      <td>35.542208</td>\n",
       "      <td>-77.363569</td>\n",
       "      <td>P5</td>\n",
       "      <td>152.727997</td>\n",
       "      <td>2021-09-26</td>\n",
       "    </tr>\n",
       "    <tr>\n",
       "      <th>4</th>\n",
       "      <td>2021-09-26 00-00</td>\n",
       "      <td>35.542245</td>\n",
       "      <td>-77.363584</td>\n",
       "      <td>P7</td>\n",
       "      <td>1.53</td>\n",
       "      <td>Home</td>\n",
       "      <td>1</td>\n",
       "      <td>Male</td>\n",
       "      <td>1</td>\n",
       "      <td>Hispanic</td>\n",
       "      <td>...</td>\n",
       "      <td>1</td>\n",
       "      <td>Urban</td>\n",
       "      <td>P72021-09-26 00-00</td>\n",
       "      <td>1</td>\n",
       "      <td>2021-09-26 00-00</td>\n",
       "      <td>35.542245</td>\n",
       "      <td>-77.363584</td>\n",
       "      <td>P7</td>\n",
       "      <td>152.727005</td>\n",
       "      <td>2021-09-26</td>\n",
       "    </tr>\n",
       "  </tbody>\n",
       "</table>\n",
       "<p>5 rows × 25 columns</p>\n",
       "</div>"
      ],
      "text/plain": [
       "         datetime_x  new_lat_x  new_lon_x ID.1_x   PM25 place  gender  \\\n",
       "0  2021-09-26 00-00  34.833961 -77.661139    P12  12.31  Home       2   \n",
       "1  2021-09-26 00-00  35.190660 -77.670215    P15   2.19  Home       1   \n",
       "2  2021-09-26 00-00  35.403127 -77.728539    P11   2.23  Home       2   \n",
       "3  2021-09-26 00-00  35.542208 -77.363569     P5   2.36  Home       2   \n",
       "4  2021-09-26 00-00  35.542245 -77.363584     P7   1.53  Home       1   \n",
       "\n",
       "  gender_status  race_heritage race_status  ...  address address_status  \\\n",
       "0        Female              1    Hispanic  ...        2          Rural   \n",
       "1          Male              1    Hispanic  ...        2          Rural   \n",
       "2        Female              1    Hispanic  ...        2          Rural   \n",
       "3        Female              1    Hispanic  ...        1          Urban   \n",
       "4          Male              1    Hispanic  ...        1          Urban   \n",
       "\n",
       "                Filter Unnamed: 0        datetime_y  new_lat_y  new_lon_y  \\\n",
       "0  P122021-09-26 00-00          3  2021-09-26 00-00  34.833961 -77.661139   \n",
       "1  P152021-09-26 00-00          6  2021-09-26 00-00  35.190660 -77.670215   \n",
       "2  P112021-09-26 00-00          2  2021-09-26 00-00  35.403127 -77.728539   \n",
       "3   P52021-09-26 00-00          0  2021-09-26 00-00  35.542208 -77.363569   \n",
       "4   P72021-09-26 00-00          1  2021-09-26 00-00  35.542245 -77.363584   \n",
       "\n",
       "  ID.1_y      pm 2.5    new_date  \n",
       "0    P12   16.270800  2021-09-26  \n",
       "1    P15   16.452499  2021-09-26  \n",
       "2    P11  155.072998  2021-09-26  \n",
       "3     P5  152.727997  2021-09-26  \n",
       "4     P7  152.727005  2021-09-26  \n",
       "\n",
       "[5 rows x 25 columns]"
      ]
     },
     "execution_count": 24,
     "metadata": {},
     "output_type": "execute_result"
    }
   ],
   "source": [
    "merged_df.head()"
   ]
  },
  {
   "cell_type": "code",
   "execution_count": 25,
   "id": "0cdcfb60",
   "metadata": {},
   "outputs": [],
   "source": [
    "# Create a new column \"datetime\" and populate day of the week for each instance in the dataset\n",
    "merged_df['day_of_week'] = pd.to_datetime(merged_df['new_date']).dt.strftime('%A')"
   ]
  },
  {
   "cell_type": "code",
   "execution_count": 26,
   "id": "24cbd0f5",
   "metadata": {},
   "outputs": [],
   "source": [
    "# Replace all -999 in place column with \"Home\"\n",
    "merged_df.loc[merged_df['place'] == '-999', 'place'] = 'Home'"
   ]
  },
  {
   "cell_type": "code",
   "execution_count": 27,
   "id": "1c310768",
   "metadata": {},
   "outputs": [
    {
     "data": {
      "text/html": [
       "<div>\n",
       "<style scoped>\n",
       "    .dataframe tbody tr th:only-of-type {\n",
       "        vertical-align: middle;\n",
       "    }\n",
       "\n",
       "    .dataframe tbody tr th {\n",
       "        vertical-align: top;\n",
       "    }\n",
       "\n",
       "    .dataframe thead th {\n",
       "        text-align: right;\n",
       "    }\n",
       "</style>\n",
       "<table border=\"1\" class=\"dataframe\">\n",
       "  <thead>\n",
       "    <tr style=\"text-align: right;\">\n",
       "      <th></th>\n",
       "      <th>datetime_x</th>\n",
       "      <th>new_lat_x</th>\n",
       "      <th>new_lon_x</th>\n",
       "      <th>ID.1_x</th>\n",
       "      <th>PM25</th>\n",
       "      <th>place</th>\n",
       "      <th>gender</th>\n",
       "      <th>gender_status</th>\n",
       "      <th>race_heritage</th>\n",
       "      <th>race_status</th>\n",
       "      <th>...</th>\n",
       "      <th>address_status</th>\n",
       "      <th>Filter</th>\n",
       "      <th>Unnamed: 0</th>\n",
       "      <th>datetime_y</th>\n",
       "      <th>new_lat_y</th>\n",
       "      <th>new_lon_y</th>\n",
       "      <th>ID.1_y</th>\n",
       "      <th>pm 2.5</th>\n",
       "      <th>new_date</th>\n",
       "      <th>day_of_week</th>\n",
       "    </tr>\n",
       "  </thead>\n",
       "  <tbody>\n",
       "    <tr>\n",
       "      <th>0</th>\n",
       "      <td>2021-09-26 00-00</td>\n",
       "      <td>34.833961</td>\n",
       "      <td>-77.661139</td>\n",
       "      <td>P12</td>\n",
       "      <td>12.31</td>\n",
       "      <td>Home</td>\n",
       "      <td>2</td>\n",
       "      <td>Female</td>\n",
       "      <td>1</td>\n",
       "      <td>Hispanic</td>\n",
       "      <td>...</td>\n",
       "      <td>Rural</td>\n",
       "      <td>P122021-09-26 00-00</td>\n",
       "      <td>3</td>\n",
       "      <td>2021-09-26 00-00</td>\n",
       "      <td>34.833961</td>\n",
       "      <td>-77.661139</td>\n",
       "      <td>P12</td>\n",
       "      <td>16.270800</td>\n",
       "      <td>2021-09-26</td>\n",
       "      <td>Sunday</td>\n",
       "    </tr>\n",
       "    <tr>\n",
       "      <th>1</th>\n",
       "      <td>2021-09-26 00-00</td>\n",
       "      <td>35.190660</td>\n",
       "      <td>-77.670215</td>\n",
       "      <td>P15</td>\n",
       "      <td>2.19</td>\n",
       "      <td>Home</td>\n",
       "      <td>1</td>\n",
       "      <td>Male</td>\n",
       "      <td>1</td>\n",
       "      <td>Hispanic</td>\n",
       "      <td>...</td>\n",
       "      <td>Rural</td>\n",
       "      <td>P152021-09-26 00-00</td>\n",
       "      <td>6</td>\n",
       "      <td>2021-09-26 00-00</td>\n",
       "      <td>35.190660</td>\n",
       "      <td>-77.670215</td>\n",
       "      <td>P15</td>\n",
       "      <td>16.452499</td>\n",
       "      <td>2021-09-26</td>\n",
       "      <td>Sunday</td>\n",
       "    </tr>\n",
       "    <tr>\n",
       "      <th>2</th>\n",
       "      <td>2021-09-26 00-00</td>\n",
       "      <td>35.403127</td>\n",
       "      <td>-77.728539</td>\n",
       "      <td>P11</td>\n",
       "      <td>2.23</td>\n",
       "      <td>Home</td>\n",
       "      <td>2</td>\n",
       "      <td>Female</td>\n",
       "      <td>1</td>\n",
       "      <td>Hispanic</td>\n",
       "      <td>...</td>\n",
       "      <td>Rural</td>\n",
       "      <td>P112021-09-26 00-00</td>\n",
       "      <td>2</td>\n",
       "      <td>2021-09-26 00-00</td>\n",
       "      <td>35.403127</td>\n",
       "      <td>-77.728539</td>\n",
       "      <td>P11</td>\n",
       "      <td>155.072998</td>\n",
       "      <td>2021-09-26</td>\n",
       "      <td>Sunday</td>\n",
       "    </tr>\n",
       "    <tr>\n",
       "      <th>3</th>\n",
       "      <td>2021-09-26 00-00</td>\n",
       "      <td>35.542208</td>\n",
       "      <td>-77.363569</td>\n",
       "      <td>P5</td>\n",
       "      <td>2.36</td>\n",
       "      <td>Home</td>\n",
       "      <td>2</td>\n",
       "      <td>Female</td>\n",
       "      <td>1</td>\n",
       "      <td>Hispanic</td>\n",
       "      <td>...</td>\n",
       "      <td>Urban</td>\n",
       "      <td>P52021-09-26 00-00</td>\n",
       "      <td>0</td>\n",
       "      <td>2021-09-26 00-00</td>\n",
       "      <td>35.542208</td>\n",
       "      <td>-77.363569</td>\n",
       "      <td>P5</td>\n",
       "      <td>152.727997</td>\n",
       "      <td>2021-09-26</td>\n",
       "      <td>Sunday</td>\n",
       "    </tr>\n",
       "    <tr>\n",
       "      <th>4</th>\n",
       "      <td>2021-09-26 00-00</td>\n",
       "      <td>35.542245</td>\n",
       "      <td>-77.363584</td>\n",
       "      <td>P7</td>\n",
       "      <td>1.53</td>\n",
       "      <td>Home</td>\n",
       "      <td>1</td>\n",
       "      <td>Male</td>\n",
       "      <td>1</td>\n",
       "      <td>Hispanic</td>\n",
       "      <td>...</td>\n",
       "      <td>Urban</td>\n",
       "      <td>P72021-09-26 00-00</td>\n",
       "      <td>1</td>\n",
       "      <td>2021-09-26 00-00</td>\n",
       "      <td>35.542245</td>\n",
       "      <td>-77.363584</td>\n",
       "      <td>P7</td>\n",
       "      <td>152.727005</td>\n",
       "      <td>2021-09-26</td>\n",
       "      <td>Sunday</td>\n",
       "    </tr>\n",
       "  </tbody>\n",
       "</table>\n",
       "<p>5 rows × 26 columns</p>\n",
       "</div>"
      ],
      "text/plain": [
       "         datetime_x  new_lat_x  new_lon_x ID.1_x   PM25 place  gender  \\\n",
       "0  2021-09-26 00-00  34.833961 -77.661139    P12  12.31  Home       2   \n",
       "1  2021-09-26 00-00  35.190660 -77.670215    P15   2.19  Home       1   \n",
       "2  2021-09-26 00-00  35.403127 -77.728539    P11   2.23  Home       2   \n",
       "3  2021-09-26 00-00  35.542208 -77.363569     P5   2.36  Home       2   \n",
       "4  2021-09-26 00-00  35.542245 -77.363584     P7   1.53  Home       1   \n",
       "\n",
       "  gender_status  race_heritage race_status  ...  address_status  \\\n",
       "0        Female              1    Hispanic  ...           Rural   \n",
       "1          Male              1    Hispanic  ...           Rural   \n",
       "2        Female              1    Hispanic  ...           Rural   \n",
       "3        Female              1    Hispanic  ...           Urban   \n",
       "4          Male              1    Hispanic  ...           Urban   \n",
       "\n",
       "                Filter  Unnamed: 0        datetime_y  new_lat_y  new_lon_y  \\\n",
       "0  P122021-09-26 00-00           3  2021-09-26 00-00  34.833961 -77.661139   \n",
       "1  P152021-09-26 00-00           6  2021-09-26 00-00  35.190660 -77.670215   \n",
       "2  P112021-09-26 00-00           2  2021-09-26 00-00  35.403127 -77.728539   \n",
       "3   P52021-09-26 00-00           0  2021-09-26 00-00  35.542208 -77.363569   \n",
       "4   P72021-09-26 00-00           1  2021-09-26 00-00  35.542245 -77.363584   \n",
       "\n",
       "  ID.1_y      pm 2.5    new_date day_of_week  \n",
       "0    P12   16.270800  2021-09-26      Sunday  \n",
       "1    P15   16.452499  2021-09-26      Sunday  \n",
       "2    P11  155.072998  2021-09-26      Sunday  \n",
       "3     P5  152.727997  2021-09-26      Sunday  \n",
       "4     P7  152.727005  2021-09-26      Sunday  \n",
       "\n",
       "[5 rows x 26 columns]"
      ]
     },
     "execution_count": 27,
     "metadata": {},
     "output_type": "execute_result"
    }
   ],
   "source": [
    "merged_df.head()"
   ]
  },
  {
   "cell_type": "code",
   "execution_count": 28,
   "id": "10cb0154",
   "metadata": {},
   "outputs": [
    {
     "data": {
      "text/plain": [
       "Index(['datetime_x', 'new_lat_x', 'new_lon_x', 'ID.1_x', 'PM25', 'place',\n",
       "       'gender', 'gender_status', 'race_heritage', 'race_status', 'home_type',\n",
       "       'home_status', 'income_code', 'address_city', 'Income_status',\n",
       "       'address', 'address_status', 'Filter', 'Unnamed: 0', 'datetime_y',\n",
       "       'new_lat_y', 'new_lon_y', 'ID.1_y', 'pm 2.5', 'new_date',\n",
       "       'day_of_week'],\n",
       "      dtype='object')"
      ]
     },
     "execution_count": 28,
     "metadata": {},
     "output_type": "execute_result"
    }
   ],
   "source": [
    "merged_df.columns\n"
   ]
  },
  {
   "cell_type": "code",
   "execution_count": 29,
   "id": "4778c551",
   "metadata": {},
   "outputs": [],
   "source": [
    "# Define a  function to categorize the day_of_week in to either weekday or weekend \n",
    "def categorize_day(day):\n",
    "    if day in ['Saturday', 'Sunday']:\n",
    "        return 'Weekend'\n",
    "    else:\n",
    "        return 'Weekday'\n",
    "    \n",
    "# Apply the custom function to the 'day_week' column\n",
    "merged_df['week_date'] = merged_df['day_of_week'].apply(categorize_day)"
   ]
  },
  {
   "cell_type": "code",
   "execution_count": 30,
   "id": "ae9a9380",
   "metadata": {},
   "outputs": [],
   "source": [
    "# Save the merge file to a folder in csv format\n",
    "#merged_df.to_csv(r'C:\\Users\\OPEJINA22\\OneDrive - East Carolina University\\Desktop\\Fall 2023\\Thesis GEOG 7000\\Data\\The Two Data\\Merge_Data.csv', index=False)"
   ]
  },
  {
   "cell_type": "code",
   "execution_count": 31,
   "id": "f1ded62e",
   "metadata": {},
   "outputs": [],
   "source": [
    "# Sepereate geoair dataframe after the data has been merged\n",
    "df = merged_df[['datetime_x', 'new_lat_x', 'new_lon_x', 'ID.1_x', 'place', 'day_of_week', 'week_date', 'Income_status','gender_status', 'race_status', 'home_status', 'address_status', 'PM25', 'pm 2.5']]\n"
   ]
  },
  {
   "cell_type": "code",
   "execution_count": 32,
   "id": "d66317c0",
   "metadata": {},
   "outputs": [],
   "source": [
    "# Rename the column names \n",
    "df.rename(columns={'datetime_x': 'datetime', 'new_lat_x': 'new_lat', 'new_lon_x':'new_long', 'ID.1_x': 'ID.1', 'PM25':'Geo', 'pm 2.5':'Pur', 'place':'place', 'day_of_week':'day_of_week', 'week_date':'week_date', 'Income_status':'Income_status'}, inplace=True)"
   ]
  },
  {
   "cell_type": "code",
   "execution_count": 33,
   "id": "0c866e41",
   "metadata": {},
   "outputs": [
    {
     "data": {
      "text/html": [
       "<div>\n",
       "<style scoped>\n",
       "    .dataframe tbody tr th:only-of-type {\n",
       "        vertical-align: middle;\n",
       "    }\n",
       "\n",
       "    .dataframe tbody tr th {\n",
       "        vertical-align: top;\n",
       "    }\n",
       "\n",
       "    .dataframe thead th {\n",
       "        text-align: right;\n",
       "    }\n",
       "</style>\n",
       "<table border=\"1\" class=\"dataframe\">\n",
       "  <thead>\n",
       "    <tr style=\"text-align: right;\">\n",
       "      <th></th>\n",
       "      <th>datetime</th>\n",
       "      <th>new_lat</th>\n",
       "      <th>new_long</th>\n",
       "      <th>ID.1</th>\n",
       "      <th>place</th>\n",
       "      <th>day_of_week</th>\n",
       "      <th>week_date</th>\n",
       "      <th>Income_status</th>\n",
       "      <th>gender_status</th>\n",
       "      <th>race_status</th>\n",
       "      <th>home_status</th>\n",
       "      <th>address_status</th>\n",
       "      <th>Geo</th>\n",
       "      <th>Pur</th>\n",
       "    </tr>\n",
       "  </thead>\n",
       "  <tbody>\n",
       "    <tr>\n",
       "      <th>0</th>\n",
       "      <td>2021-09-26 00-00</td>\n",
       "      <td>34.833961</td>\n",
       "      <td>-77.661139</td>\n",
       "      <td>P12</td>\n",
       "      <td>Home</td>\n",
       "      <td>Sunday</td>\n",
       "      <td>Weekend</td>\n",
       "      <td>Middle Income</td>\n",
       "      <td>Female</td>\n",
       "      <td>Hispanic</td>\n",
       "      <td>No_response</td>\n",
       "      <td>Rural</td>\n",
       "      <td>12.31</td>\n",
       "      <td>16.270800</td>\n",
       "    </tr>\n",
       "    <tr>\n",
       "      <th>1</th>\n",
       "      <td>2021-09-26 00-00</td>\n",
       "      <td>35.190660</td>\n",
       "      <td>-77.670215</td>\n",
       "      <td>P15</td>\n",
       "      <td>Home</td>\n",
       "      <td>Sunday</td>\n",
       "      <td>Weekend</td>\n",
       "      <td>Low Income</td>\n",
       "      <td>Male</td>\n",
       "      <td>Hispanic</td>\n",
       "      <td>Mobile</td>\n",
       "      <td>Rural</td>\n",
       "      <td>2.19</td>\n",
       "      <td>16.452499</td>\n",
       "    </tr>\n",
       "    <tr>\n",
       "      <th>2</th>\n",
       "      <td>2021-09-26 00-00</td>\n",
       "      <td>35.403127</td>\n",
       "      <td>-77.728539</td>\n",
       "      <td>P11</td>\n",
       "      <td>Home</td>\n",
       "      <td>Sunday</td>\n",
       "      <td>Weekend</td>\n",
       "      <td>Low Income</td>\n",
       "      <td>Female</td>\n",
       "      <td>Hispanic</td>\n",
       "      <td>Mobile</td>\n",
       "      <td>Rural</td>\n",
       "      <td>2.23</td>\n",
       "      <td>155.072998</td>\n",
       "    </tr>\n",
       "    <tr>\n",
       "      <th>3</th>\n",
       "      <td>2021-09-26 00-00</td>\n",
       "      <td>35.542208</td>\n",
       "      <td>-77.363569</td>\n",
       "      <td>P5</td>\n",
       "      <td>Home</td>\n",
       "      <td>Sunday</td>\n",
       "      <td>Weekend</td>\n",
       "      <td>Low Income</td>\n",
       "      <td>Female</td>\n",
       "      <td>Hispanic</td>\n",
       "      <td>Fam_attach</td>\n",
       "      <td>Urban</td>\n",
       "      <td>2.36</td>\n",
       "      <td>152.727997</td>\n",
       "    </tr>\n",
       "    <tr>\n",
       "      <th>4</th>\n",
       "      <td>2021-09-26 00-00</td>\n",
       "      <td>35.542245</td>\n",
       "      <td>-77.363584</td>\n",
       "      <td>P7</td>\n",
       "      <td>Home</td>\n",
       "      <td>Sunday</td>\n",
       "      <td>Weekend</td>\n",
       "      <td>No_response</td>\n",
       "      <td>Male</td>\n",
       "      <td>Hispanic</td>\n",
       "      <td>Fam_detach</td>\n",
       "      <td>Urban</td>\n",
       "      <td>1.53</td>\n",
       "      <td>152.727005</td>\n",
       "    </tr>\n",
       "  </tbody>\n",
       "</table>\n",
       "</div>"
      ],
      "text/plain": [
       "           datetime    new_lat   new_long ID.1 place day_of_week week_date  \\\n",
       "0  2021-09-26 00-00  34.833961 -77.661139  P12  Home      Sunday   Weekend   \n",
       "1  2021-09-26 00-00  35.190660 -77.670215  P15  Home      Sunday   Weekend   \n",
       "2  2021-09-26 00-00  35.403127 -77.728539  P11  Home      Sunday   Weekend   \n",
       "3  2021-09-26 00-00  35.542208 -77.363569   P5  Home      Sunday   Weekend   \n",
       "4  2021-09-26 00-00  35.542245 -77.363584   P7  Home      Sunday   Weekend   \n",
       "\n",
       "   Income_status gender_status race_status  home_status address_status    Geo  \\\n",
       "0  Middle Income        Female    Hispanic  No_response          Rural  12.31   \n",
       "1     Low Income          Male    Hispanic       Mobile          Rural   2.19   \n",
       "2     Low Income        Female    Hispanic       Mobile          Rural   2.23   \n",
       "3     Low Income        Female    Hispanic   Fam_attach          Urban   2.36   \n",
       "4    No_response          Male    Hispanic   Fam_detach          Urban   1.53   \n",
       "\n",
       "          Pur  \n",
       "0   16.270800  \n",
       "1   16.452499  \n",
       "2  155.072998  \n",
       "3  152.727997  \n",
       "4  152.727005  "
      ]
     },
     "execution_count": 33,
     "metadata": {},
     "output_type": "execute_result"
    }
   ],
   "source": [
    "df.head()"
   ]
  },
  {
   "cell_type": "code",
   "execution_count": 34,
   "id": "9f495c8e",
   "metadata": {},
   "outputs": [],
   "source": [
    "# Create a new column and round up the values in pm 2.5 to int \n",
    "#df['Geo'] = round(df['Geo'])\n",
    "#f['Pur'] = round(df['Pur'])"
   ]
  },
  {
   "cell_type": "code",
   "execution_count": 35,
   "id": "0c1c6ee6",
   "metadata": {},
   "outputs": [
    {
     "data": {
      "text/html": [
       "<div>\n",
       "<style scoped>\n",
       "    .dataframe tbody tr th:only-of-type {\n",
       "        vertical-align: middle;\n",
       "    }\n",
       "\n",
       "    .dataframe tbody tr th {\n",
       "        vertical-align: top;\n",
       "    }\n",
       "\n",
       "    .dataframe thead th {\n",
       "        text-align: right;\n",
       "    }\n",
       "</style>\n",
       "<table border=\"1\" class=\"dataframe\">\n",
       "  <thead>\n",
       "    <tr style=\"text-align: right;\">\n",
       "      <th></th>\n",
       "      <th>datetime</th>\n",
       "      <th>new_lat</th>\n",
       "      <th>new_long</th>\n",
       "      <th>ID.1</th>\n",
       "      <th>place</th>\n",
       "      <th>day_of_week</th>\n",
       "      <th>week_date</th>\n",
       "      <th>Income_status</th>\n",
       "      <th>gender_status</th>\n",
       "      <th>race_status</th>\n",
       "      <th>home_status</th>\n",
       "      <th>address_status</th>\n",
       "      <th>Geo</th>\n",
       "      <th>Pur</th>\n",
       "    </tr>\n",
       "  </thead>\n",
       "  <tbody>\n",
       "    <tr>\n",
       "      <th>0</th>\n",
       "      <td>2021-09-26 00-00</td>\n",
       "      <td>34.833961</td>\n",
       "      <td>-77.661139</td>\n",
       "      <td>P12</td>\n",
       "      <td>Home</td>\n",
       "      <td>Sunday</td>\n",
       "      <td>Weekend</td>\n",
       "      <td>Middle Income</td>\n",
       "      <td>Female</td>\n",
       "      <td>Hispanic</td>\n",
       "      <td>No_response</td>\n",
       "      <td>Rural</td>\n",
       "      <td>12.31</td>\n",
       "      <td>16.270800</td>\n",
       "    </tr>\n",
       "    <tr>\n",
       "      <th>1</th>\n",
       "      <td>2021-09-26 00-00</td>\n",
       "      <td>35.190660</td>\n",
       "      <td>-77.670215</td>\n",
       "      <td>P15</td>\n",
       "      <td>Home</td>\n",
       "      <td>Sunday</td>\n",
       "      <td>Weekend</td>\n",
       "      <td>Low Income</td>\n",
       "      <td>Male</td>\n",
       "      <td>Hispanic</td>\n",
       "      <td>Mobile</td>\n",
       "      <td>Rural</td>\n",
       "      <td>2.19</td>\n",
       "      <td>16.452499</td>\n",
       "    </tr>\n",
       "    <tr>\n",
       "      <th>2</th>\n",
       "      <td>2021-09-26 00-00</td>\n",
       "      <td>35.403127</td>\n",
       "      <td>-77.728539</td>\n",
       "      <td>P11</td>\n",
       "      <td>Home</td>\n",
       "      <td>Sunday</td>\n",
       "      <td>Weekend</td>\n",
       "      <td>Low Income</td>\n",
       "      <td>Female</td>\n",
       "      <td>Hispanic</td>\n",
       "      <td>Mobile</td>\n",
       "      <td>Rural</td>\n",
       "      <td>2.23</td>\n",
       "      <td>155.072998</td>\n",
       "    </tr>\n",
       "    <tr>\n",
       "      <th>3</th>\n",
       "      <td>2021-09-26 00-00</td>\n",
       "      <td>35.542208</td>\n",
       "      <td>-77.363569</td>\n",
       "      <td>P5</td>\n",
       "      <td>Home</td>\n",
       "      <td>Sunday</td>\n",
       "      <td>Weekend</td>\n",
       "      <td>Low Income</td>\n",
       "      <td>Female</td>\n",
       "      <td>Hispanic</td>\n",
       "      <td>Fam_attach</td>\n",
       "      <td>Urban</td>\n",
       "      <td>2.36</td>\n",
       "      <td>152.727997</td>\n",
       "    </tr>\n",
       "    <tr>\n",
       "      <th>4</th>\n",
       "      <td>2021-09-26 00-00</td>\n",
       "      <td>35.542245</td>\n",
       "      <td>-77.363584</td>\n",
       "      <td>P7</td>\n",
       "      <td>Home</td>\n",
       "      <td>Sunday</td>\n",
       "      <td>Weekend</td>\n",
       "      <td>No_response</td>\n",
       "      <td>Male</td>\n",
       "      <td>Hispanic</td>\n",
       "      <td>Fam_detach</td>\n",
       "      <td>Urban</td>\n",
       "      <td>1.53</td>\n",
       "      <td>152.727005</td>\n",
       "    </tr>\n",
       "  </tbody>\n",
       "</table>\n",
       "</div>"
      ],
      "text/plain": [
       "           datetime    new_lat   new_long ID.1 place day_of_week week_date  \\\n",
       "0  2021-09-26 00-00  34.833961 -77.661139  P12  Home      Sunday   Weekend   \n",
       "1  2021-09-26 00-00  35.190660 -77.670215  P15  Home      Sunday   Weekend   \n",
       "2  2021-09-26 00-00  35.403127 -77.728539  P11  Home      Sunday   Weekend   \n",
       "3  2021-09-26 00-00  35.542208 -77.363569   P5  Home      Sunday   Weekend   \n",
       "4  2021-09-26 00-00  35.542245 -77.363584   P7  Home      Sunday   Weekend   \n",
       "\n",
       "   Income_status gender_status race_status  home_status address_status    Geo  \\\n",
       "0  Middle Income        Female    Hispanic  No_response          Rural  12.31   \n",
       "1     Low Income          Male    Hispanic       Mobile          Rural   2.19   \n",
       "2     Low Income        Female    Hispanic       Mobile          Rural   2.23   \n",
       "3     Low Income        Female    Hispanic   Fam_attach          Urban   2.36   \n",
       "4    No_response          Male    Hispanic   Fam_detach          Urban   1.53   \n",
       "\n",
       "          Pur  \n",
       "0   16.270800  \n",
       "1   16.452499  \n",
       "2  155.072998  \n",
       "3  152.727997  \n",
       "4  152.727005  "
      ]
     },
     "execution_count": 35,
     "metadata": {},
     "output_type": "execute_result"
    }
   ],
   "source": [
    "df.head()"
   ]
  },
  {
   "cell_type": "code",
   "execution_count": 36,
   "id": "0fae3575",
   "metadata": {},
   "outputs": [
    {
     "data": {
      "text/plain": [
       "(370748, 14)"
      ]
     },
     "execution_count": 36,
     "metadata": {},
     "output_type": "execute_result"
    }
   ],
   "source": [
    "df.shape"
   ]
  },
  {
   "cell_type": "code",
   "execution_count": 37,
   "id": "11737b39",
   "metadata": {},
   "outputs": [],
   "source": [
    "# Create a new column and round up the values in pm 2.5 to int \n",
    "# purpleair_refined['abs_pm 2.5'] = np.ceil(purpleair_refined['pm 2.5']).fillna(0).astype(int)"
   ]
  },
  {
   "cell_type": "code",
   "execution_count": 38,
   "id": "3cb83157",
   "metadata": {},
   "outputs": [],
   "source": [
    "df.to_csv(r'C:\\Users\\OPEJINA22\\OneDrive - East Carolina University\\Desktop\\Fall 2023\\Thesis GEOG 7000\\Data\\The Two Data\\Dataset_2_Expo.csv')\n"
   ]
  },
  {
   "cell_type": "code",
   "execution_count": 39,
   "id": "b9467d26",
   "metadata": {},
   "outputs": [
    {
     "data": {
      "text/html": [
       "<div>\n",
       "<style scoped>\n",
       "    .dataframe tbody tr th:only-of-type {\n",
       "        vertical-align: middle;\n",
       "    }\n",
       "\n",
       "    .dataframe tbody tr th {\n",
       "        vertical-align: top;\n",
       "    }\n",
       "\n",
       "    .dataframe thead th {\n",
       "        text-align: right;\n",
       "    }\n",
       "</style>\n",
       "<table border=\"1\" class=\"dataframe\">\n",
       "  <thead>\n",
       "    <tr style=\"text-align: right;\">\n",
       "      <th></th>\n",
       "      <th>new_lat</th>\n",
       "      <th>new_long</th>\n",
       "      <th>Geo</th>\n",
       "      <th>Pur</th>\n",
       "    </tr>\n",
       "  </thead>\n",
       "  <tbody>\n",
       "    <tr>\n",
       "      <th>count</th>\n",
       "      <td>370748.000000</td>\n",
       "      <td>370748.000000</td>\n",
       "      <td>370748.000000</td>\n",
       "      <td>370748.000000</td>\n",
       "    </tr>\n",
       "    <tr>\n",
       "      <th>mean</th>\n",
       "      <td>35.569471</td>\n",
       "      <td>-77.538175</td>\n",
       "      <td>13.101234</td>\n",
       "      <td>43.876604</td>\n",
       "    </tr>\n",
       "    <tr>\n",
       "      <th>std</th>\n",
       "      <td>0.274689</td>\n",
       "      <td>0.491669</td>\n",
       "      <td>82.209752</td>\n",
       "      <td>84.067849</td>\n",
       "    </tr>\n",
       "    <tr>\n",
       "      <th>min</th>\n",
       "      <td>34.203834</td>\n",
       "      <td>-79.374824</td>\n",
       "      <td>0.000000</td>\n",
       "      <td>1.000050</td>\n",
       "    </tr>\n",
       "    <tr>\n",
       "      <th>25%</th>\n",
       "      <td>35.520690</td>\n",
       "      <td>-77.667880</td>\n",
       "      <td>1.720000</td>\n",
       "      <td>4.985755</td>\n",
       "    </tr>\n",
       "    <tr>\n",
       "      <th>50%</th>\n",
       "      <td>35.569585</td>\n",
       "      <td>-77.388011</td>\n",
       "      <td>2.930000</td>\n",
       "      <td>9.940810</td>\n",
       "    </tr>\n",
       "    <tr>\n",
       "      <th>75%</th>\n",
       "      <td>35.608876</td>\n",
       "      <td>-77.335351</td>\n",
       "      <td>5.670000</td>\n",
       "      <td>22.554775</td>\n",
       "    </tr>\n",
       "    <tr>\n",
       "      <th>max</th>\n",
       "      <td>36.704481</td>\n",
       "      <td>-75.965158</td>\n",
       "      <td>13240.740000</td>\n",
       "      <td>1734.479980</td>\n",
       "    </tr>\n",
       "  </tbody>\n",
       "</table>\n",
       "</div>"
      ],
      "text/plain": [
       "             new_lat       new_long            Geo            Pur\n",
       "count  370748.000000  370748.000000  370748.000000  370748.000000\n",
       "mean       35.569471     -77.538175      13.101234      43.876604\n",
       "std         0.274689       0.491669      82.209752      84.067849\n",
       "min        34.203834     -79.374824       0.000000       1.000050\n",
       "25%        35.520690     -77.667880       1.720000       4.985755\n",
       "50%        35.569585     -77.388011       2.930000       9.940810\n",
       "75%        35.608876     -77.335351       5.670000      22.554775\n",
       "max        36.704481     -75.965158   13240.740000    1734.479980"
      ]
     },
     "execution_count": 39,
     "metadata": {},
     "output_type": "execute_result"
    }
   ],
   "source": [
    "df.describe()"
   ]
  },
  {
   "cell_type": "code",
   "execution_count": 40,
   "id": "c1713c70",
   "metadata": {},
   "outputs": [
    {
     "data": {
      "text/html": [
       "<div>\n",
       "<style scoped>\n",
       "    .dataframe tbody tr th:only-of-type {\n",
       "        vertical-align: middle;\n",
       "    }\n",
       "\n",
       "    .dataframe tbody tr th {\n",
       "        vertical-align: top;\n",
       "    }\n",
       "\n",
       "    .dataframe thead th {\n",
       "        text-align: right;\n",
       "    }\n",
       "</style>\n",
       "<table border=\"1\" class=\"dataframe\">\n",
       "  <thead>\n",
       "    <tr style=\"text-align: right;\">\n",
       "      <th></th>\n",
       "      <th>new_lat</th>\n",
       "      <th>new_long</th>\n",
       "      <th>Geo</th>\n",
       "      <th>Pur</th>\n",
       "    </tr>\n",
       "  </thead>\n",
       "  <tbody>\n",
       "    <tr>\n",
       "      <th>count</th>\n",
       "      <td>35.000000</td>\n",
       "      <td>35.000000</td>\n",
       "      <td>35.000000</td>\n",
       "      <td>35.000000</td>\n",
       "    </tr>\n",
       "    <tr>\n",
       "      <th>mean</th>\n",
       "      <td>35.616102</td>\n",
       "      <td>-77.512744</td>\n",
       "      <td>8.554851</td>\n",
       "      <td>46.258445</td>\n",
       "    </tr>\n",
       "    <tr>\n",
       "      <th>std</th>\n",
       "      <td>0.274886</td>\n",
       "      <td>0.428560</td>\n",
       "      <td>13.697661</td>\n",
       "      <td>56.355556</td>\n",
       "    </tr>\n",
       "    <tr>\n",
       "      <th>min</th>\n",
       "      <td>34.988618</td>\n",
       "      <td>-79.085705</td>\n",
       "      <td>1.623826</td>\n",
       "      <td>4.582232</td>\n",
       "    </tr>\n",
       "    <tr>\n",
       "      <th>25%</th>\n",
       "      <td>35.548567</td>\n",
       "      <td>-77.546937</td>\n",
       "      <td>2.804431</td>\n",
       "      <td>12.734419</td>\n",
       "    </tr>\n",
       "    <tr>\n",
       "      <th>50%</th>\n",
       "      <td>35.571535</td>\n",
       "      <td>-77.394214</td>\n",
       "      <td>4.046734</td>\n",
       "      <td>27.301130</td>\n",
       "    </tr>\n",
       "    <tr>\n",
       "      <th>75%</th>\n",
       "      <td>35.615838</td>\n",
       "      <td>-77.353605</td>\n",
       "      <td>8.004609</td>\n",
       "      <td>60.881434</td>\n",
       "    </tr>\n",
       "    <tr>\n",
       "      <th>max</th>\n",
       "      <td>36.441318</td>\n",
       "      <td>-76.814970</td>\n",
       "      <td>68.738539</td>\n",
       "      <td>240.454879</td>\n",
       "    </tr>\n",
       "  </tbody>\n",
       "</table>\n",
       "</div>"
      ],
      "text/plain": [
       "         new_lat   new_long        Geo         Pur\n",
       "count  35.000000  35.000000  35.000000   35.000000\n",
       "mean   35.616102 -77.512744   8.554851   46.258445\n",
       "std     0.274886   0.428560  13.697661   56.355556\n",
       "min    34.988618 -79.085705   1.623826    4.582232\n",
       "25%    35.548567 -77.546937   2.804431   12.734419\n",
       "50%    35.571535 -77.394214   4.046734   27.301130\n",
       "75%    35.615838 -77.353605   8.004609   60.881434\n",
       "max    36.441318 -76.814970  68.738539  240.454879"
      ]
     },
     "execution_count": 40,
     "metadata": {},
     "output_type": "execute_result"
    }
   ],
   "source": [
    "male = df[df['gender_status'] == 'Male'].groupby('ID.1').mean()\n",
    "male.describe()"
   ]
  },
  {
   "cell_type": "code",
   "execution_count": 41,
   "id": "46a0d6ef",
   "metadata": {},
   "outputs": [
    {
     "data": {
      "text/html": [
       "<div>\n",
       "<style scoped>\n",
       "    .dataframe tbody tr th:only-of-type {\n",
       "        vertical-align: middle;\n",
       "    }\n",
       "\n",
       "    .dataframe tbody tr th {\n",
       "        vertical-align: top;\n",
       "    }\n",
       "\n",
       "    .dataframe thead th {\n",
       "        text-align: right;\n",
       "    }\n",
       "</style>\n",
       "<table border=\"1\" class=\"dataframe\">\n",
       "  <thead>\n",
       "    <tr style=\"text-align: right;\">\n",
       "      <th></th>\n",
       "      <th>new_lat</th>\n",
       "      <th>new_long</th>\n",
       "      <th>Geo</th>\n",
       "      <th>Pur</th>\n",
       "    </tr>\n",
       "  </thead>\n",
       "  <tbody>\n",
       "    <tr>\n",
       "      <th>count</th>\n",
       "      <td>65.000000</td>\n",
       "      <td>65.000000</td>\n",
       "      <td>65.000000</td>\n",
       "      <td>65.000000</td>\n",
       "    </tr>\n",
       "    <tr>\n",
       "      <th>mean</th>\n",
       "      <td>35.544997</td>\n",
       "      <td>-77.538779</td>\n",
       "      <td>15.647880</td>\n",
       "      <td>43.776154</td>\n",
       "    </tr>\n",
       "    <tr>\n",
       "      <th>std</th>\n",
       "      <td>0.261609</td>\n",
       "      <td>0.456696</td>\n",
       "      <td>22.865454</td>\n",
       "      <td>43.281917</td>\n",
       "    </tr>\n",
       "    <tr>\n",
       "      <th>min</th>\n",
       "      <td>34.695309</td>\n",
       "      <td>-79.074047</td>\n",
       "      <td>1.699526</td>\n",
       "      <td>3.795506</td>\n",
       "    </tr>\n",
       "    <tr>\n",
       "      <th>25%</th>\n",
       "      <td>35.431759</td>\n",
       "      <td>-77.700642</td>\n",
       "      <td>4.140902</td>\n",
       "      <td>11.112890</td>\n",
       "    </tr>\n",
       "    <tr>\n",
       "      <th>50%</th>\n",
       "      <td>35.564525</td>\n",
       "      <td>-77.404138</td>\n",
       "      <td>6.337840</td>\n",
       "      <td>26.875142</td>\n",
       "    </tr>\n",
       "    <tr>\n",
       "      <th>75%</th>\n",
       "      <td>35.602852</td>\n",
       "      <td>-77.333154</td>\n",
       "      <td>16.187773</td>\n",
       "      <td>61.830527</td>\n",
       "    </tr>\n",
       "    <tr>\n",
       "      <th>max</th>\n",
       "      <td>36.427385</td>\n",
       "      <td>-76.406498</td>\n",
       "      <td>105.016596</td>\n",
       "      <td>181.963546</td>\n",
       "    </tr>\n",
       "  </tbody>\n",
       "</table>\n",
       "</div>"
      ],
      "text/plain": [
       "         new_lat   new_long         Geo         Pur\n",
       "count  65.000000  65.000000   65.000000   65.000000\n",
       "mean   35.544997 -77.538779   15.647880   43.776154\n",
       "std     0.261609   0.456696   22.865454   43.281917\n",
       "min    34.695309 -79.074047    1.699526    3.795506\n",
       "25%    35.431759 -77.700642    4.140902   11.112890\n",
       "50%    35.564525 -77.404138    6.337840   26.875142\n",
       "75%    35.602852 -77.333154   16.187773   61.830527\n",
       "max    36.427385 -76.406498  105.016596  181.963546"
      ]
     },
     "execution_count": 41,
     "metadata": {},
     "output_type": "execute_result"
    }
   ],
   "source": [
    "female = df[df['gender_status'] == 'Female'].groupby('ID.1').mean()\n",
    "female.describe()"
   ]
  },
  {
   "cell_type": "code",
   "execution_count": 42,
   "id": "c2b118e3",
   "metadata": {},
   "outputs": [
    {
     "data": {
      "text/html": [
       "<div>\n",
       "<style scoped>\n",
       "    .dataframe tbody tr th:only-of-type {\n",
       "        vertical-align: middle;\n",
       "    }\n",
       "\n",
       "    .dataframe tbody tr th {\n",
       "        vertical-align: top;\n",
       "    }\n",
       "\n",
       "    .dataframe thead th {\n",
       "        text-align: right;\n",
       "    }\n",
       "</style>\n",
       "<table border=\"1\" class=\"dataframe\">\n",
       "  <thead>\n",
       "    <tr style=\"text-align: right;\">\n",
       "      <th></th>\n",
       "      <th>Geo</th>\n",
       "      <th>Pur</th>\n",
       "    </tr>\n",
       "    <tr>\n",
       "      <th>ID.1</th>\n",
       "      <th></th>\n",
       "      <th></th>\n",
       "    </tr>\n",
       "  </thead>\n",
       "  <tbody>\n",
       "    <tr>\n",
       "      <th>P100</th>\n",
       "      <td>2.695886</td>\n",
       "      <td>27.301130</td>\n",
       "    </tr>\n",
       "    <tr>\n",
       "      <th>P102</th>\n",
       "      <td>19.931826</td>\n",
       "      <td>11.178761</td>\n",
       "    </tr>\n",
       "    <tr>\n",
       "      <th>P103</th>\n",
       "      <td>1.699526</td>\n",
       "      <td>11.037757</td>\n",
       "    </tr>\n",
       "    <tr>\n",
       "      <th>P104</th>\n",
       "      <td>2.798707</td>\n",
       "      <td>11.246972</td>\n",
       "    </tr>\n",
       "    <tr>\n",
       "      <th>P105</th>\n",
       "      <td>2.390378</td>\n",
       "      <td>6.772109</td>\n",
       "    </tr>\n",
       "    <tr>\n",
       "      <th>...</th>\n",
       "      <td>...</td>\n",
       "      <td>...</td>\n",
       "    </tr>\n",
       "    <tr>\n",
       "      <th>P95</th>\n",
       "      <td>12.855662</td>\n",
       "      <td>5.190360</td>\n",
       "    </tr>\n",
       "    <tr>\n",
       "      <th>P96</th>\n",
       "      <td>5.425578</td>\n",
       "      <td>6.660607</td>\n",
       "    </tr>\n",
       "    <tr>\n",
       "      <th>P97</th>\n",
       "      <td>2.367281</td>\n",
       "      <td>43.184766</td>\n",
       "    </tr>\n",
       "    <tr>\n",
       "      <th>P98</th>\n",
       "      <td>3.007641</td>\n",
       "      <td>28.760200</td>\n",
       "    </tr>\n",
       "    <tr>\n",
       "      <th>P99</th>\n",
       "      <td>2.082727</td>\n",
       "      <td>37.967318</td>\n",
       "    </tr>\n",
       "  </tbody>\n",
       "</table>\n",
       "<p>100 rows × 2 columns</p>\n",
       "</div>"
      ],
      "text/plain": [
       "            Geo        Pur\n",
       "ID.1                      \n",
       "P100   2.695886  27.301130\n",
       "P102  19.931826  11.178761\n",
       "P103   1.699526  11.037757\n",
       "P104   2.798707  11.246972\n",
       "P105   2.390378   6.772109\n",
       "...         ...        ...\n",
       "P95   12.855662   5.190360\n",
       "P96    5.425578   6.660607\n",
       "P97    2.367281  43.184766\n",
       "P98    3.007641  28.760200\n",
       "P99    2.082727  37.967318\n",
       "\n",
       "[100 rows x 2 columns]"
      ]
     },
     "execution_count": 42,
     "metadata": {},
     "output_type": "execute_result"
    }
   ],
   "source": [
    "a = df.groupby(['ID.1'])[['Geo', 'Pur','Income_status']].mean()\n",
    "a"
   ]
  },
  {
   "cell_type": "markdown",
   "id": "82dedabb",
   "metadata": {},
   "source": [
    "# Objective One"
   ]
  },
  {
   "cell_type": "markdown",
   "id": "bf379055",
   "metadata": {},
   "source": [
    "# Assessing Bias in the whole of the two datasets"
   ]
  },
  {
   "cell_type": "code",
   "execution_count": 43,
   "id": "dd09aef7",
   "metadata": {},
   "outputs": [
    {
     "name": "stdout",
     "output_type": "stream",
     "text": [
      "Paired Sample T-Test Results:\n",
      "T-statistic: 5.94365728821684\n",
      "P-value: 0.000000042\n",
      "Reject the null hypothesis: There is a significant difference between the paired variables.\n",
      "Mean of Differences: 31.479636205015396\n"
     ]
    }
   ],
   "source": [
    "# Perform a paired sample t-test\n",
    "t_statistic, p_value = stats.ttest_rel(a['Pur'], a['Geo'])\n",
    "\n",
    "# Display the results\n",
    "print(\"Paired Sample T-Test Results:\")\n",
    "print(f\"T-statistic: {t_statistic}\")\n",
    "print(f\"P-value: {p_value:.9f}\")\n",
    "\n",
    "# Interpret the results\n",
    "alpha = 0.05  # Set your desired level of significance\n",
    "if p_value < alpha:\n",
    "    print(\"Reject the null hypothesis: There is a significant difference between the paired variables.\")\n",
    "else:\n",
    "    print(\"Fail to reject the null hypothesis: There is no significant difference between the paired variables.\")\n",
    "    \n",
    "    \n",
    "# Assuming you have a DataFrame 'df' with columns 'Column1' and 'Column2'\n",
    "mean_difference = (a['Pur'] - a['Geo']).mean()\n",
    "print(\"Mean of Differences:\", mean_difference)"
   ]
  },
  {
   "cell_type": "code",
   "execution_count": 44,
   "id": "8b3ef592",
   "metadata": {},
   "outputs": [
    {
     "data": {
      "text/plain": [
       "count    100.000000\n",
       "mean      44.644956\n",
       "std       47.991497\n",
       "min        3.795506\n",
       "25%       11.162294\n",
       "50%       27.118481\n",
       "75%       61.326215\n",
       "max      240.454879\n",
       "Name: Pur, dtype: float64"
      ]
     },
     "execution_count": 44,
     "metadata": {},
     "output_type": "execute_result"
    }
   ],
   "source": [
    "a['Pur'].describe()"
   ]
  },
  {
   "cell_type": "code",
   "execution_count": 45,
   "id": "6953fe6a",
   "metadata": {},
   "outputs": [
    {
     "data": {
      "text/plain": [
       "count    100.000000\n",
       "mean      13.165320\n",
       "std       20.346721\n",
       "min        1.623826\n",
       "25%        3.093739\n",
       "50%        5.614985\n",
       "75%       11.738195\n",
       "max      105.016596\n",
       "Name: Geo, dtype: float64"
      ]
     },
     "execution_count": 45,
     "metadata": {},
     "output_type": "execute_result"
    }
   ],
   "source": [
    "a['Geo'].describe()"
   ]
  },
  {
   "cell_type": "markdown",
   "id": "1e106656",
   "metadata": {},
   "source": [
    "# Bias in the Home exposure estimate from the two datasets"
   ]
  },
  {
   "cell_type": "code",
   "execution_count": 46,
   "id": "b6b24065",
   "metadata": {},
   "outputs": [
    {
     "name": "stdout",
     "output_type": "stream",
     "text": [
      "Paired Sample T-Test Results:\n",
      "T-statistic: 5.735542938740224\n",
      "P-value: 0.000000106\n",
      "Reject the null hypothesis: There is a significant difference between the paired variables.\n",
      "Mean of Differences: 30.876085319070306\n"
     ]
    }
   ],
   "source": [
    "hom = df[df['place'] == \"Home\"].groupby('ID.1')[('Pur', 'Geo')].mean()\n",
    "\n",
    "# Perform a paired sample t-test\n",
    "t_statistic, p_value = stats.ttest_rel(hom['Pur'], hom['Geo'])\n",
    "\n",
    "# Display the results\n",
    "print(\"Paired Sample T-Test Results:\")\n",
    "print(f\"T-statistic: {t_statistic}\")\n",
    "print(f\"P-value: {p_value:.9f}\")\n",
    "\n",
    "# Interpret the results\n",
    "alpha = 0.05  # Set your desired level of significance\n",
    "if p_value < alpha:\n",
    "    print(\"Reject the null hypothesis: There is a significant difference between the paired variables.\")\n",
    "else:\n",
    "    print(\"Fail to reject the null hypothesis: There is no significant difference between the paired variables.\")\n",
    "    \n",
    "# Assuming you have a DataFrame 'df' with columns 'Column1' and 'Column2'\n",
    "mean_difference = (hom['Pur'] - hom['Geo']).mean()\n",
    "print(\"Mean of Differences:\", mean_difference)"
   ]
  },
  {
   "cell_type": "code",
   "execution_count": 47,
   "id": "a3e3f50b",
   "metadata": {},
   "outputs": [
    {
     "data": {
      "text/plain": [
       "count    100.000000\n",
       "mean      44.836246\n",
       "std       46.560914\n",
       "min        3.795506\n",
       "25%       11.671666\n",
       "50%       26.943027\n",
       "75%       63.081700\n",
       "max      203.220203\n",
       "Name: Pur, dtype: float64"
      ]
     },
     "execution_count": 47,
     "metadata": {},
     "output_type": "execute_result"
    }
   ],
   "source": [
    "hom['Pur'].describe()"
   ]
  },
  {
   "cell_type": "code",
   "execution_count": 48,
   "id": "3fa6aa9e",
   "metadata": {},
   "outputs": [
    {
     "data": {
      "text/plain": [
       "count    100.000000\n",
       "mean      13.960161\n",
       "std       23.423542\n",
       "min        1.486462\n",
       "25%        3.062737\n",
       "50%        4.814488\n",
       "75%       11.014974\n",
       "max      106.991472\n",
       "Name: Geo, dtype: float64"
      ]
     },
     "execution_count": 48,
     "metadata": {},
     "output_type": "execute_result"
    }
   ],
   "source": [
    "hom['Geo'].describe()"
   ]
  },
  {
   "cell_type": "markdown",
   "id": "ab6d9601",
   "metadata": {},
   "source": [
    "# Bias in the In-Transit exposure estimate from the two datasets"
   ]
  },
  {
   "cell_type": "code",
   "execution_count": 49,
   "id": "5b7f9692",
   "metadata": {},
   "outputs": [
    {
     "name": "stdout",
     "output_type": "stream",
     "text": [
      "Paired Sample T-Test Results:\n",
      "T-statistic: 4.249032082543658\n",
      "P-value: 0.000050939\n",
      "Reject the null hypothesis: There is a significant difference between the paired variables.\n",
      "Mean of Differences: 34.050898716748364\n"
     ]
    }
   ],
   "source": [
    "transit = df[df['place'] == \"In-Transit\"].groupby('ID.1')[('Pur', 'Geo')].mean()\n",
    "\n",
    "# Perform a paired sample t-test\n",
    "t_statistic, p_value = stats.ttest_rel(transit['Pur'], transit['Geo'])\n",
    "\n",
    "# Display the results\n",
    "print(\"Paired Sample T-Test Results:\")\n",
    "print(f\"T-statistic: {t_statistic}\")\n",
    "print(f\"P-value: {p_value:.9f}\")\n",
    "\n",
    "# Interpret the results\n",
    "alpha = 0.05  # Set your desired level of significance\n",
    "if p_value < alpha:\n",
    "    print(\"Reject the null hypothesis: There is a significant difference between the paired variables.\")\n",
    "else:\n",
    "    print(\"Fail to reject the null hypothesis: There is no significant difference between the paired variables.\")\n",
    "    \n",
    "    \n",
    "# Assuming you have a DataFrame 'df' with columns 'Column1' and 'Column2'\n",
    "mean_difference = (transit['Pur'] - transit['Geo']).mean()\n",
    "print(\"Mean of Differences:\", mean_difference)"
   ]
  },
  {
   "cell_type": "code",
   "execution_count": 50,
   "id": "6853d4d7",
   "metadata": {},
   "outputs": [
    {
     "data": {
      "text/plain": [
       "count     94.000000\n",
       "mean      44.420992\n",
       "std       53.434256\n",
       "min        2.401234\n",
       "25%        7.148806\n",
       "50%       23.746347\n",
       "75%       65.219058\n",
       "max      339.557686\n",
       "Name: Pur, dtype: float64"
      ]
     },
     "execution_count": 50,
     "metadata": {},
     "output_type": "execute_result"
    }
   ],
   "source": [
    "transit['Pur'].describe()"
   ]
  },
  {
   "cell_type": "code",
   "execution_count": 51,
   "id": "0b48ecc2",
   "metadata": {},
   "outputs": [
    {
     "data": {
      "text/plain": [
       "count     94.000000\n",
       "mean      10.370093\n",
       "std       56.068780\n",
       "min        1.246489\n",
       "25%        2.091496\n",
       "50%        2.880299\n",
       "75%        4.427662\n",
       "max      544.943333\n",
       "Name: Geo, dtype: float64"
      ]
     },
     "execution_count": 51,
     "metadata": {},
     "output_type": "execute_result"
    }
   ],
   "source": [
    "transit['Geo'].describe()"
   ]
  },
  {
   "cell_type": "markdown",
   "id": "bd918dec",
   "metadata": {},
   "source": [
    "# Bias in the Work exposure estimate from the two datasets"
   ]
  },
  {
   "cell_type": "code",
   "execution_count": 52,
   "id": "25d4bc23",
   "metadata": {},
   "outputs": [
    {
     "name": "stdout",
     "output_type": "stream",
     "text": [
      "Paired Sample T-Test Results:\n",
      "T-statistic: 4.675929483721277\n",
      "P-value: 0.000023276\n",
      "Reject the null hypothesis: There is a significant difference between the paired variables.\n",
      "Mean of Differences: 31.128968288856093\n"
     ]
    }
   ],
   "source": [
    "work = df[df['place'] == \"Work\"].groupby('ID.1')[('Pur', 'Geo')].mean()\n",
    "\n",
    "# Perform a paired sample t-test['Geo_pm2.5']\n",
    "t_statistic, p_value = stats.ttest_rel(work['Pur'], work['Geo'])\n",
    "\n",
    "# Display the results\n",
    "print(\"Paired Sample T-Test Results:\")\n",
    "print(f\"T-statistic: {t_statistic}\")\n",
    "print(f\"P-value: {p_value:.9f}\")\n",
    "\n",
    "# Interpret the results\n",
    "alpha = 0.05  # Set your desired level of significance\n",
    "if p_value < alpha:\n",
    "    print(\"Reject the null hypothesis: There is a significant difference between the paired variables.\")\n",
    "else:\n",
    "    print(\"Fail to reject the null hypothesis: There is no significant difference between the paired variables.\")\n",
    "    \n",
    "\n",
    "# Assuming you have a DataFrame 'df' with columns 'Column1' and 'Column2'\n",
    "mean_difference = (work['Pur'] - work['Geo']).mean()\n",
    "print(\"Mean of Differences:\", mean_difference)"
   ]
  },
  {
   "cell_type": "code",
   "execution_count": 53,
   "id": "fe20233d",
   "metadata": {},
   "outputs": [
    {
     "data": {
      "text/plain": [
       "count     50.000000\n",
       "mean      38.401182\n",
       "std       46.126668\n",
       "min        1.869952\n",
       "25%        9.098628\n",
       "50%       26.485556\n",
       "75%       56.323854\n",
       "max      292.841623\n",
       "Name: Pur, dtype: float64"
      ]
     },
     "execution_count": 53,
     "metadata": {},
     "output_type": "execute_result"
    }
   ],
   "source": [
    "work['Pur'].describe()"
   ]
  },
  {
   "cell_type": "code",
   "execution_count": 54,
   "id": "8181e9cf",
   "metadata": {},
   "outputs": [
    {
     "data": {
      "text/plain": [
       "count    50.000000\n",
       "mean      7.272214\n",
       "std      12.165024\n",
       "min       0.885000\n",
       "25%       1.887230\n",
       "50%       2.749378\n",
       "75%       7.015807\n",
       "max      61.915569\n",
       "Name: Geo, dtype: float64"
      ]
     },
     "execution_count": 54,
     "metadata": {},
     "output_type": "execute_result"
    }
   ],
   "source": [
    "work['Geo'].describe()"
   ]
  },
  {
   "cell_type": "markdown",
   "id": "52c5d7bc",
   "metadata": {},
   "source": [
    "# Bias in the Other Places exposure estimate from the two datasets"
   ]
  },
  {
   "cell_type": "code",
   "execution_count": 55,
   "id": "28f95a56",
   "metadata": {},
   "outputs": [
    {
     "name": "stdout",
     "output_type": "stream",
     "text": [
      "Paired Sample T-Test Results:\n",
      "T-statistic: 3.0098960437\n",
      "P-value: 0.003399642\n",
      "Reject the null hypothesis: There is a significant difference between the paired variables.\n",
      "Mean of Differences: 23.88633491905568\n"
     ]
    }
   ],
   "source": [
    "other = df[df['place'] == \"Other Place\"].groupby('ID.1')[('Pur', 'Geo')].mean()\n",
    "\n",
    "# Perform a paired sample t-test\n",
    "t_statistic, p_value = stats.ttest_rel(other['Pur'], other['Geo'])\n",
    "\n",
    "# Display the results\n",
    "print(\"Paired Sample T-Test Results:\")\n",
    "print(f\"T-statistic: {t_statistic}\")\n",
    "print(f\"P-value: {p_value:.9f}\")\n",
    "\n",
    "# Interpret the results\n",
    "alpha = 0.05  # Set your desired level of significance\n",
    "if p_value < alpha:\n",
    "    print(\"Reject the null hypothesis: There is a significant difference between the paired variables.\")\n",
    "else:\n",
    "    print(\"Fail to reject the null hypothesis: There is no significant difference between the paired variables.\")\n",
    "    \n",
    "    \n",
    "# Assuming you have a DataFrame 'df' with columns 'Column1' and 'Column2'\n",
    "mean_difference = (other['Pur'] - other['Geo']).mean()\n",
    "print(\"Mean of Differences:\", mean_difference)"
   ]
  },
  {
   "cell_type": "code",
   "execution_count": 56,
   "id": "e515956b",
   "metadata": {},
   "outputs": [
    {
     "data": {
      "text/plain": [
       "count     90.000000\n",
       "mean      42.321227\n",
       "std       55.697039\n",
       "min        2.352538\n",
       "25%        7.368301\n",
       "50%       18.743655\n",
       "75%       61.058763\n",
       "max      309.483111\n",
       "Name: Pur, dtype: float64"
      ]
     },
     "execution_count": 56,
     "metadata": {},
     "output_type": "execute_result"
    }
   ],
   "source": [
    "other['Pur'].describe()"
   ]
  },
  {
   "cell_type": "code",
   "execution_count": 57,
   "id": "c826d10f",
   "metadata": {},
   "outputs": [
    {
     "data": {
      "text/plain": [
       "count     90.000000\n",
       "mean      18.434892\n",
       "std       54.848963\n",
       "min        1.070000\n",
       "25%        2.264504\n",
       "50%        3.876954\n",
       "75%        7.202634\n",
       "max      429.199613\n",
       "Name: Geo, dtype: float64"
      ]
     },
     "execution_count": 57,
     "metadata": {},
     "output_type": "execute_result"
    }
   ],
   "source": [
    "other['Geo'].describe()"
   ]
  },
  {
   "cell_type": "code",
   "execution_count": 58,
   "id": "7c071ac1",
   "metadata": {},
   "outputs": [
    {
     "data": {
      "image/png": "[encoded data removed]",
      "text/plain": [
       "<Figure size 1200x600 with 1 Axes>"
      ]
     },
     "metadata": {},
     "output_type": "display_data"
    }
   ],
   "source": [
    "## Code of the Line Chart\n",
    "\n",
    "# Set the style of seaborn\n",
    "sns.set(style=\"white\")\n",
    "colors = ['#AE0581', '#97EA36']\n",
    "\n",
    "# Combine 'Pur' and 'Geo' into a single DataFrame for plotting\n",
    "combined_df = pd.melt(df, id_vars=['place'], value_vars=['Pur', 'Geo'], var_name='Feature', value_name='Values')\n",
    "\n",
    "# Create the line plot\n",
    "plt.figure(figsize=(12, 6))\n",
    "sns.lineplot(data=combined_df, x='place', y='Values', hue='Feature', palette=colors, style='Feature', markers=True)\n",
    "\n",
    "sns.despine()\n",
    "\n",
    "# Remove x-label\n",
    "plt.xlabel(None)\n",
    "\n",
    "# Set labels and title\n",
    "\n",
    "plt.ylabel('$PM_{2.5}$ Value')\n",
    "plt.title('')\n",
    "\n",
    "plt.legend(frameon=False)\n",
    "plt.xticks(\n",
    "    rotation=0,\n",
    "    horizontalalignment='center',\n",
    "    fontweight='light',\n",
    "    fontsize='large'\n",
    ")\n",
    "\n",
    "# Show the plot\n",
    "plt.legend(title='Feature')\n",
    "plt.savefig(\"place_linechart.png\")\n",
    "plt.show()"
   ]
  },
  {
   "cell_type": "markdown",
   "id": "66c281a5",
   "metadata": {},
   "source": [
    "# Bias in the Weekdays exposure estimate from the two datasets"
   ]
  },
  {
   "cell_type": "code",
   "execution_count": 59,
   "id": "292f4333",
   "metadata": {},
   "outputs": [
    {
     "name": "stdout",
     "output_type": "stream",
     "text": [
      "Paired Sample T-Test Results:\n",
      "T-statistic: 6.034289113602688\n",
      "P-value: 0.000000028\n",
      "Reject the null hypothesis: There is a significant difference between the paired variables.\n",
      "Mean of Differences: 31.846005942725675\n"
     ]
    }
   ],
   "source": [
    "weekdays = df[df['week_date']==\"Weekday\"].groupby('ID.1')[('Pur', 'Geo')].mean()\n",
    "\n",
    "# Perform a paired sample t-test\n",
    "t_statistic, p_value = stats.ttest_rel(weekdays['Pur'], weekdays['Geo'])\n",
    "\n",
    "# Display the results\n",
    "print(\"Paired Sample T-Test Results:\")\n",
    "print(f\"T-statistic: {t_statistic}\")\n",
    "print(f\"P-value: {p_value:.9f}\")\n",
    "\n",
    "# Interpret the results\n",
    "alpha = 0.05  # Set your desired level of significance\n",
    "if p_value < alpha:\n",
    "    print(\"Reject the null hypothesis: There is a significant difference between the paired variables.\")\n",
    "else:\n",
    "    print(\"Fail to reject the null hypothesis: There is no significant difference between the paired variables.\")\n",
    "    \n",
    "    \n",
    "# Assuming you have a DataFrame 'df' with columns 'Column1' and 'Column2'\n",
    "mean_difference = (weekdays['Pur'] - weekdays['Geo']).mean()\n",
    "print(\"Mean of Differences:\", mean_difference)"
   ]
  },
  {
   "cell_type": "code",
   "execution_count": 60,
   "id": "27307ab3",
   "metadata": {},
   "outputs": [
    {
     "data": {
      "text/plain": [
       "count    100.000000\n",
       "mean      43.926146\n",
       "std       47.357861\n",
       "min        4.043771\n",
       "25%       11.728181\n",
       "50%       23.444073\n",
       "75%       60.717605\n",
       "max      257.291660\n",
       "Name: Pur, dtype: float64"
      ]
     },
     "execution_count": 60,
     "metadata": {},
     "output_type": "execute_result"
    }
   ],
   "source": [
    "weekdays['Pur'].describe()"
   ]
  },
  {
   "cell_type": "code",
   "execution_count": 61,
   "id": "9f6755d8",
   "metadata": {},
   "outputs": [
    {
     "data": {
      "text/plain": [
       "count    100.000000\n",
       "mean      12.080140\n",
       "std       19.590167\n",
       "min        1.543225\n",
       "25%        2.871631\n",
       "50%        4.768475\n",
       "75%        9.313357\n",
       "max      105.877749\n",
       "Name: Geo, dtype: float64"
      ]
     },
     "execution_count": 61,
     "metadata": {},
     "output_type": "execute_result"
    }
   ],
   "source": [
    "weekdays['Geo'].describe()"
   ]
  },
  {
   "cell_type": "markdown",
   "id": "13e4d384",
   "metadata": {},
   "source": [
    "# Bias in the Weekend exposure estimate from the two datasets"
   ]
  },
  {
   "cell_type": "code",
   "execution_count": 62,
   "id": "ed3a076b",
   "metadata": {},
   "outputs": [
    {
     "name": "stdout",
     "output_type": "stream",
     "text": [
      "Paired Sample T-Test Results:\n",
      "T-statistic: 4.748549695139282\n",
      "P-value: 0.000007414\n",
      "Reject the null hypothesis: There is a significant difference between the paired variables.\n",
      "Mean of Differences: 27.866810454010153\n"
     ]
    }
   ],
   "source": [
    "weekend = df[df['week_date']==\"Weekend\"].groupby('ID.1')[('Pur', 'Geo')].mean()\n",
    "\n",
    "# Perform a paired sample t-test\n",
    "t_statistic, p_value = stats.ttest_rel(weekend['Pur'], weekend['Geo'])\n",
    "\n",
    "# Display the results\n",
    "print(\"Paired Sample T-Test Results:\")\n",
    "print(f\"T-statistic: {t_statistic}\")\n",
    "print(f\"P-value: {p_value:.9f}\")\n",
    "\n",
    "\n",
    "# Interpret the results\n",
    "alpha = 0.05  # Set your desired level of significance\n",
    "if p_value < alpha:\n",
    "    print(\"Reject the null hypothesis: There is a significant difference between the paired variables.\")\n",
    "else:\n",
    "    print(\"Fail to reject the null hypothesis: There is no significant difference between the paired variables.\")\n",
    "    \n",
    "    \n",
    "# Assuming you have a DataFrame 'df' with columns 'Column1' and 'Column2'\n",
    "mean_difference = (weekend['Pur'] - weekend['Geo']).mean()\n",
    "print(\"Mean of Differences:\", mean_difference)"
   ]
  },
  {
   "cell_type": "code",
   "execution_count": 63,
   "id": "5b43f8b6",
   "metadata": {},
   "outputs": [
    {
     "data": {
      "text/plain": [
       "count     94.000000\n",
       "mean      43.986899\n",
       "std       50.380478\n",
       "min        2.022399\n",
       "25%        9.193669\n",
       "50%       19.874716\n",
       "75%       64.086042\n",
       "max      279.557421\n",
       "Name: Pur, dtype: float64"
      ]
     },
     "execution_count": 63,
     "metadata": {},
     "output_type": "execute_result"
    }
   ],
   "source": [
    "weekend['Pur'].describe()"
   ]
  },
  {
   "cell_type": "code",
   "execution_count": 64,
   "id": "eb58f3fd",
   "metadata": {},
   "outputs": [
    {
     "data": {
      "text/plain": [
       "count     94.000000\n",
       "mean      16.120089\n",
       "std       29.517084\n",
       "min        1.152201\n",
       "25%        2.698632\n",
       "50%        5.181856\n",
       "75%       12.248934\n",
       "max      173.004238\n",
       "Name: Geo, dtype: float64"
      ]
     },
     "execution_count": 64,
     "metadata": {},
     "output_type": "execute_result"
    }
   ],
   "source": [
    "weekend['Geo'].describe()"
   ]
  },
  {
   "cell_type": "markdown",
   "id": "8fd980f2",
   "metadata": {},
   "source": [
    "# Test-running  Time-Series Graph for the two exposure estimates "
   ]
  },
  {
   "cell_type": "code",
   "execution_count": 65,
   "id": "71e214f3",
   "metadata": {},
   "outputs": [
    {
     "data": {
      "image/png": "[encoded data removed]",
      "text/plain": [
       "<Figure size 1200x800 with 1 Axes>"
      ]
     },
     "metadata": {},
     "output_type": "display_data"
    }
   ],
   "source": [
    "# Create a Datetime index\n",
    "#df.set_index('datetime', inplace=True)\n",
    "\n",
    "# Create a time-series plot\n",
    "plt.figure(figsize=(12, 8))  # Adjust the figure size as needed\n",
    "plt.style.use('fivethirtyeight')\n",
    "\n",
    "# Plot Dataset1\n",
    "plt.plot( a['Pur'], label='purpleair', linestyle='-', marker='o'), \n",
    "\n",
    "# Plot Dataset2\n",
    "plt.plot( a['Geo'], label='geoair', linestyle='--', marker='x')\n",
    "\n",
    "# Add labels and title\n",
    "plt.xlabel('ID')\n",
    "plt.ylabel('PM 2.5')\n",
    "plt.title('Time-Series Plot for purpleair and geoair')\n",
    "\n",
    "# Add a legend\n",
    "plt.legend()\n",
    "\n",
    "# Show the plot\n",
    "plt.grid(True)  # You can remove this line if you don't want grid lines\n",
    "plt.show()"
   ]
  },
  {
   "cell_type": "code",
   "execution_count": 66,
   "id": "c6524be1",
   "metadata": {},
   "outputs": [],
   "source": [
    "# Join the Purpleair data with new income data\n",
    "parameters = a.merge(Variables, on='ID.1', how='left') # Left join"
   ]
  },
  {
   "cell_type": "code",
   "execution_count": 67,
   "id": "cbd57416",
   "metadata": {},
   "outputs": [
    {
     "data": {
      "text/html": [
       "<div>\n",
       "<style scoped>\n",
       "    .dataframe tbody tr th:only-of-type {\n",
       "        vertical-align: middle;\n",
       "    }\n",
       "\n",
       "    .dataframe tbody tr th {\n",
       "        vertical-align: top;\n",
       "    }\n",
       "\n",
       "    .dataframe thead th {\n",
       "        text-align: right;\n",
       "    }\n",
       "</style>\n",
       "<table border=\"1\" class=\"dataframe\">\n",
       "  <thead>\n",
       "    <tr style=\"text-align: right;\">\n",
       "      <th></th>\n",
       "      <th>ID.1</th>\n",
       "      <th>Geo</th>\n",
       "      <th>Pur</th>\n",
       "      <th>gender</th>\n",
       "      <th>gender_status</th>\n",
       "      <th>race_heritage</th>\n",
       "      <th>race_status</th>\n",
       "      <th>home_type</th>\n",
       "      <th>home_status</th>\n",
       "      <th>income_code</th>\n",
       "      <th>address_city</th>\n",
       "      <th>Income_status</th>\n",
       "      <th>address</th>\n",
       "      <th>address_status</th>\n",
       "    </tr>\n",
       "  </thead>\n",
       "  <tbody>\n",
       "    <tr>\n",
       "      <th>0</th>\n",
       "      <td>P100</td>\n",
       "      <td>2.695886</td>\n",
       "      <td>27.301130</td>\n",
       "      <td>1</td>\n",
       "      <td>Male</td>\n",
       "      <td>3</td>\n",
       "      <td>Black</td>\n",
       "      <td>2</td>\n",
       "      <td>Fam_detach</td>\n",
       "      <td>9</td>\n",
       "      <td>Rocky Mount, NC</td>\n",
       "      <td>High Income</td>\n",
       "      <td>2</td>\n",
       "      <td>Rural</td>\n",
       "    </tr>\n",
       "    <tr>\n",
       "      <th>1</th>\n",
       "      <td>P102</td>\n",
       "      <td>19.931826</td>\n",
       "      <td>11.178761</td>\n",
       "      <td>2</td>\n",
       "      <td>Female</td>\n",
       "      <td>3</td>\n",
       "      <td>Black</td>\n",
       "      <td>3</td>\n",
       "      <td>Fam_attach</td>\n",
       "      <td>6</td>\n",
       "      <td>Raleigh, NC</td>\n",
       "      <td>Middle Income</td>\n",
       "      <td>1</td>\n",
       "      <td>Urban</td>\n",
       "    </tr>\n",
       "    <tr>\n",
       "      <th>2</th>\n",
       "      <td>P103</td>\n",
       "      <td>1.699526</td>\n",
       "      <td>11.037757</td>\n",
       "      <td>2</td>\n",
       "      <td>Female</td>\n",
       "      <td>3</td>\n",
       "      <td>Black</td>\n",
       "      <td>3</td>\n",
       "      <td>Fam_attach</td>\n",
       "      <td>7</td>\n",
       "      <td>Raleigh, NC</td>\n",
       "      <td>Middle Income</td>\n",
       "      <td>1</td>\n",
       "      <td>Urban</td>\n",
       "    </tr>\n",
       "    <tr>\n",
       "      <th>3</th>\n",
       "      <td>P104</td>\n",
       "      <td>2.798707</td>\n",
       "      <td>11.246972</td>\n",
       "      <td>2</td>\n",
       "      <td>Female</td>\n",
       "      <td>3</td>\n",
       "      <td>Black</td>\n",
       "      <td>2</td>\n",
       "      <td>Fam_detach</td>\n",
       "      <td>6</td>\n",
       "      <td>Enfield, NC</td>\n",
       "      <td>Middle Income</td>\n",
       "      <td>2</td>\n",
       "      <td>Rural</td>\n",
       "    </tr>\n",
       "    <tr>\n",
       "      <th>4</th>\n",
       "      <td>P105</td>\n",
       "      <td>2.390378</td>\n",
       "      <td>6.772109</td>\n",
       "      <td>1</td>\n",
       "      <td>Male</td>\n",
       "      <td>3</td>\n",
       "      <td>Black</td>\n",
       "      <td>2</td>\n",
       "      <td>Fam_detach</td>\n",
       "      <td>6</td>\n",
       "      <td>Enfield, NC</td>\n",
       "      <td>Middle Income</td>\n",
       "      <td>2</td>\n",
       "      <td>Rural</td>\n",
       "    </tr>\n",
       "    <tr>\n",
       "      <th>...</th>\n",
       "      <td>...</td>\n",
       "      <td>...</td>\n",
       "      <td>...</td>\n",
       "      <td>...</td>\n",
       "      <td>...</td>\n",
       "      <td>...</td>\n",
       "      <td>...</td>\n",
       "      <td>...</td>\n",
       "      <td>...</td>\n",
       "      <td>...</td>\n",
       "      <td>...</td>\n",
       "      <td>...</td>\n",
       "      <td>...</td>\n",
       "      <td>...</td>\n",
       "    </tr>\n",
       "    <tr>\n",
       "      <th>95</th>\n",
       "      <td>P95</td>\n",
       "      <td>12.855662</td>\n",
       "      <td>5.190360</td>\n",
       "      <td>2</td>\n",
       "      <td>Female</td>\n",
       "      <td>2</td>\n",
       "      <td>Non-Hisp</td>\n",
       "      <td>2</td>\n",
       "      <td>Fam_detach</td>\n",
       "      <td>9</td>\n",
       "      <td>Grifton, NC</td>\n",
       "      <td>High Income</td>\n",
       "      <td>2</td>\n",
       "      <td>Rural</td>\n",
       "    </tr>\n",
       "    <tr>\n",
       "      <th>96</th>\n",
       "      <td>P96</td>\n",
       "      <td>5.425578</td>\n",
       "      <td>6.660607</td>\n",
       "      <td>1</td>\n",
       "      <td>Male</td>\n",
       "      <td>2</td>\n",
       "      <td>Non-Hisp</td>\n",
       "      <td>2</td>\n",
       "      <td>Fam_detach</td>\n",
       "      <td>8</td>\n",
       "      <td>Bath, NC</td>\n",
       "      <td>High Income</td>\n",
       "      <td>2</td>\n",
       "      <td>Rural</td>\n",
       "    </tr>\n",
       "    <tr>\n",
       "      <th>97</th>\n",
       "      <td>P97</td>\n",
       "      <td>2.367281</td>\n",
       "      <td>43.184766</td>\n",
       "      <td>2</td>\n",
       "      <td>Female</td>\n",
       "      <td>2</td>\n",
       "      <td>Non-Hisp</td>\n",
       "      <td>2</td>\n",
       "      <td>Fam_detach</td>\n",
       "      <td>9</td>\n",
       "      <td>Chocowinity, NC</td>\n",
       "      <td>High Income</td>\n",
       "      <td>2</td>\n",
       "      <td>Rural</td>\n",
       "    </tr>\n",
       "    <tr>\n",
       "      <th>98</th>\n",
       "      <td>P98</td>\n",
       "      <td>3.007641</td>\n",
       "      <td>28.760200</td>\n",
       "      <td>1</td>\n",
       "      <td>Male</td>\n",
       "      <td>3</td>\n",
       "      <td>Black</td>\n",
       "      <td>2</td>\n",
       "      <td>Fam_detach</td>\n",
       "      <td>4</td>\n",
       "      <td>Enfield, NC</td>\n",
       "      <td>Middle Income</td>\n",
       "      <td>2</td>\n",
       "      <td>Rural</td>\n",
       "    </tr>\n",
       "    <tr>\n",
       "      <th>99</th>\n",
       "      <td>P99</td>\n",
       "      <td>2.082727</td>\n",
       "      <td>37.967318</td>\n",
       "      <td>2</td>\n",
       "      <td>Female</td>\n",
       "      <td>3</td>\n",
       "      <td>Black</td>\n",
       "      <td>2</td>\n",
       "      <td>Fam_detach</td>\n",
       "      <td>9</td>\n",
       "      <td>Rocky Mount, NC</td>\n",
       "      <td>High Income</td>\n",
       "      <td>2</td>\n",
       "      <td>Rural</td>\n",
       "    </tr>\n",
       "  </tbody>\n",
       "</table>\n",
       "<p>100 rows × 14 columns</p>\n",
       "</div>"
      ],
      "text/plain": [
       "    ID.1        Geo        Pur  gender gender_status  race_heritage  \\\n",
       "0   P100   2.695886  27.301130       1          Male              3   \n",
       "1   P102  19.931826  11.178761       2        Female              3   \n",
       "2   P103   1.699526  11.037757       2        Female              3   \n",
       "3   P104   2.798707  11.246972       2        Female              3   \n",
       "4   P105   2.390378   6.772109       1          Male              3   \n",
       "..   ...        ...        ...     ...           ...            ...   \n",
       "95   P95  12.855662   5.190360       2        Female              2   \n",
       "96   P96   5.425578   6.660607       1          Male              2   \n",
       "97   P97   2.367281  43.184766       2        Female              2   \n",
       "98   P98   3.007641  28.760200       1          Male              3   \n",
       "99   P99   2.082727  37.967318       2        Female              3   \n",
       "\n",
       "   race_status  home_type home_status  income_code     address_city  \\\n",
       "0        Black          2  Fam_detach            9  Rocky Mount, NC   \n",
       "1        Black          3  Fam_attach            6      Raleigh, NC   \n",
       "2        Black          3  Fam_attach            7      Raleigh, NC   \n",
       "3        Black          2  Fam_detach            6      Enfield, NC   \n",
       "4        Black          2  Fam_detach            6      Enfield, NC   \n",
       "..         ...        ...         ...          ...              ...   \n",
       "95    Non-Hisp          2  Fam_detach            9      Grifton, NC   \n",
       "96    Non-Hisp          2  Fam_detach            8         Bath, NC   \n",
       "97    Non-Hisp          2  Fam_detach            9  Chocowinity, NC   \n",
       "98       Black          2  Fam_detach            4      Enfield, NC   \n",
       "99       Black          2  Fam_detach            9  Rocky Mount, NC   \n",
       "\n",
       "    Income_status  address address_status  \n",
       "0     High Income        2          Rural  \n",
       "1   Middle Income        1          Urban  \n",
       "2   Middle Income        1          Urban  \n",
       "3   Middle Income        2          Rural  \n",
       "4   Middle Income        2          Rural  \n",
       "..            ...      ...            ...  \n",
       "95    High Income        2          Rural  \n",
       "96    High Income        2          Rural  \n",
       "97    High Income        2          Rural  \n",
       "98  Middle Income        2          Rural  \n",
       "99    High Income        2          Rural  \n",
       "\n",
       "[100 rows x 14 columns]"
      ]
     },
     "execution_count": 67,
     "metadata": {},
     "output_type": "execute_result"
    }
   ],
   "source": [
    "parameters"
   ]
  },
  {
   "cell_type": "code",
   "execution_count": 94,
   "id": "7c4db135",
   "metadata": {},
   "outputs": [
    {
     "data": {
      "image/png": "[encoded data removed]",
      "text/plain": [
       "<Figure size 1200x600 with 1 Axes>"
      ]
     },
     "metadata": {},
     "output_type": "display_data"
    }
   ],
   "source": [
    "# Combine 'Pur' and 'Geo' into a single DataFrame for plotting\n",
    "combined_df = pd.melt(parameters, id_vars=['ID.1'], value_vars=['Pur', 'Geo'], var_name='Feature', value_name='Values')\n",
    "\n",
    "# Set the style of seaborn\n",
    "sns.set(style=\"white\")\n",
    "colors = ['#0a75ad', '#AE0581'] \n",
    "\n",
    "# Create the bar plot\n",
    "plt.figure(figsize=(12, 6))\n",
    "sns.barplot(data=combined_df, x='ID.1', y='Values', hue='Feature', palette=colors, alpha=0.7, edgecolor='none', capsize=0.1)\n",
    "\n",
    "sns.despine()\n",
    "\n",
    "# Set labels and title\n",
    "plt.xlabel('Participants')\n",
    "plt.ylabel(\"Total PM2.5 exposure (μg/m³)\")\n",
    "plt.title('')\n",
    "\n",
    "# Show the legend and rename it with colors\n",
    "plt.legend(labels=['PurpleAir data', 'GeoAir data'], title='', \n",
    "           handles=[plt.Line2D([], [], color='#0a75ad'),\n",
    "                    plt.Line2D([], [], color='#AE0581')])\n",
    "\n",
    "# Show the plot\n",
    "plt.xticks(rotation=90, fontsize='small')\n",
    "plt.tight_layout()\n",
    "plt.savefig(\"all exposure_barchart.png\")\n",
    "plt.show()"
   ]
  },
  {
   "cell_type": "markdown",
   "id": "ad8e8439",
   "metadata": {},
   "source": [
    "# Objective 2 | ASSESSING BASED ON INCOME "
   ]
  },
  {
   "cell_type": "code",
   "execution_count": 95,
   "id": "8538d9ea",
   "metadata": {},
   "outputs": [],
   "source": [
    "# This code removes row that are not relevant to this analysis (i.e., No_response)\n",
    "condition_income = ~(parameters['Income_status'] == 'No_response')  # Using ~ operator\n",
    "income = parameters[condition_income]"
   ]
  },
  {
   "cell_type": "code",
   "execution_count": 96,
   "id": "c17fad2f",
   "metadata": {},
   "outputs": [],
   "source": [
    "lowa = income[income['Income_status'] == 'Low Income'].groupby('ID.1').mean()\n",
    "mida = income[income['Income_status'] == 'Middle Income'].groupby('ID.1').mean()\n",
    "higha = income[income['Income_status'] == 'High Income'].groupby('ID.1').mean()"
   ]
  },
  {
   "cell_type": "code",
   "execution_count": 97,
   "id": "2c089a1d",
   "metadata": {},
   "outputs": [
    {
     "data": {
      "text/html": [
       "<div>\n",
       "<style scoped>\n",
       "    .dataframe tbody tr th:only-of-type {\n",
       "        vertical-align: middle;\n",
       "    }\n",
       "\n",
       "    .dataframe tbody tr th {\n",
       "        vertical-align: top;\n",
       "    }\n",
       "\n",
       "    .dataframe thead th {\n",
       "        text-align: right;\n",
       "    }\n",
       "</style>\n",
       "<table border=\"1\" class=\"dataframe\">\n",
       "  <thead>\n",
       "    <tr style=\"text-align: right;\">\n",
       "      <th></th>\n",
       "      <th>ID.1</th>\n",
       "      <th>Geo</th>\n",
       "      <th>Pur</th>\n",
       "      <th>gender</th>\n",
       "      <th>gender_status</th>\n",
       "      <th>race_heritage</th>\n",
       "      <th>race_status</th>\n",
       "      <th>home_type</th>\n",
       "      <th>home_status</th>\n",
       "      <th>income_code</th>\n",
       "      <th>address_city</th>\n",
       "      <th>Income_status</th>\n",
       "      <th>address</th>\n",
       "      <th>address_status</th>\n",
       "    </tr>\n",
       "  </thead>\n",
       "  <tbody>\n",
       "    <tr>\n",
       "      <th>0</th>\n",
       "      <td>P100</td>\n",
       "      <td>2.695886</td>\n",
       "      <td>27.301130</td>\n",
       "      <td>1</td>\n",
       "      <td>Male</td>\n",
       "      <td>3</td>\n",
       "      <td>Black</td>\n",
       "      <td>2</td>\n",
       "      <td>Fam_detach</td>\n",
       "      <td>9</td>\n",
       "      <td>Rocky Mount, NC</td>\n",
       "      <td>High Income</td>\n",
       "      <td>2</td>\n",
       "      <td>Rural</td>\n",
       "    </tr>\n",
       "    <tr>\n",
       "      <th>1</th>\n",
       "      <td>P102</td>\n",
       "      <td>19.931826</td>\n",
       "      <td>11.178761</td>\n",
       "      <td>2</td>\n",
       "      <td>Female</td>\n",
       "      <td>3</td>\n",
       "      <td>Black</td>\n",
       "      <td>3</td>\n",
       "      <td>Fam_attach</td>\n",
       "      <td>6</td>\n",
       "      <td>Raleigh, NC</td>\n",
       "      <td>Middle Income</td>\n",
       "      <td>1</td>\n",
       "      <td>Urban</td>\n",
       "    </tr>\n",
       "    <tr>\n",
       "      <th>2</th>\n",
       "      <td>P103</td>\n",
       "      <td>1.699526</td>\n",
       "      <td>11.037757</td>\n",
       "      <td>2</td>\n",
       "      <td>Female</td>\n",
       "      <td>3</td>\n",
       "      <td>Black</td>\n",
       "      <td>3</td>\n",
       "      <td>Fam_attach</td>\n",
       "      <td>7</td>\n",
       "      <td>Raleigh, NC</td>\n",
       "      <td>Middle Income</td>\n",
       "      <td>1</td>\n",
       "      <td>Urban</td>\n",
       "    </tr>\n",
       "    <tr>\n",
       "      <th>3</th>\n",
       "      <td>P104</td>\n",
       "      <td>2.798707</td>\n",
       "      <td>11.246972</td>\n",
       "      <td>2</td>\n",
       "      <td>Female</td>\n",
       "      <td>3</td>\n",
       "      <td>Black</td>\n",
       "      <td>2</td>\n",
       "      <td>Fam_detach</td>\n",
       "      <td>6</td>\n",
       "      <td>Enfield, NC</td>\n",
       "      <td>Middle Income</td>\n",
       "      <td>2</td>\n",
       "      <td>Rural</td>\n",
       "    </tr>\n",
       "    <tr>\n",
       "      <th>4</th>\n",
       "      <td>P105</td>\n",
       "      <td>2.390378</td>\n",
       "      <td>6.772109</td>\n",
       "      <td>1</td>\n",
       "      <td>Male</td>\n",
       "      <td>3</td>\n",
       "      <td>Black</td>\n",
       "      <td>2</td>\n",
       "      <td>Fam_detach</td>\n",
       "      <td>6</td>\n",
       "      <td>Enfield, NC</td>\n",
       "      <td>Middle Income</td>\n",
       "      <td>2</td>\n",
       "      <td>Rural</td>\n",
       "    </tr>\n",
       "    <tr>\n",
       "      <th>...</th>\n",
       "      <td>...</td>\n",
       "      <td>...</td>\n",
       "      <td>...</td>\n",
       "      <td>...</td>\n",
       "      <td>...</td>\n",
       "      <td>...</td>\n",
       "      <td>...</td>\n",
       "      <td>...</td>\n",
       "      <td>...</td>\n",
       "      <td>...</td>\n",
       "      <td>...</td>\n",
       "      <td>...</td>\n",
       "      <td>...</td>\n",
       "      <td>...</td>\n",
       "    </tr>\n",
       "    <tr>\n",
       "      <th>95</th>\n",
       "      <td>P95</td>\n",
       "      <td>12.855662</td>\n",
       "      <td>5.190360</td>\n",
       "      <td>2</td>\n",
       "      <td>Female</td>\n",
       "      <td>2</td>\n",
       "      <td>Non-Hisp</td>\n",
       "      <td>2</td>\n",
       "      <td>Fam_detach</td>\n",
       "      <td>9</td>\n",
       "      <td>Grifton, NC</td>\n",
       "      <td>High Income</td>\n",
       "      <td>2</td>\n",
       "      <td>Rural</td>\n",
       "    </tr>\n",
       "    <tr>\n",
       "      <th>96</th>\n",
       "      <td>P96</td>\n",
       "      <td>5.425578</td>\n",
       "      <td>6.660607</td>\n",
       "      <td>1</td>\n",
       "      <td>Male</td>\n",
       "      <td>2</td>\n",
       "      <td>Non-Hisp</td>\n",
       "      <td>2</td>\n",
       "      <td>Fam_detach</td>\n",
       "      <td>8</td>\n",
       "      <td>Bath, NC</td>\n",
       "      <td>High Income</td>\n",
       "      <td>2</td>\n",
       "      <td>Rural</td>\n",
       "    </tr>\n",
       "    <tr>\n",
       "      <th>97</th>\n",
       "      <td>P97</td>\n",
       "      <td>2.367281</td>\n",
       "      <td>43.184766</td>\n",
       "      <td>2</td>\n",
       "      <td>Female</td>\n",
       "      <td>2</td>\n",
       "      <td>Non-Hisp</td>\n",
       "      <td>2</td>\n",
       "      <td>Fam_detach</td>\n",
       "      <td>9</td>\n",
       "      <td>Chocowinity, NC</td>\n",
       "      <td>High Income</td>\n",
       "      <td>2</td>\n",
       "      <td>Rural</td>\n",
       "    </tr>\n",
       "    <tr>\n",
       "      <th>98</th>\n",
       "      <td>P98</td>\n",
       "      <td>3.007641</td>\n",
       "      <td>28.760200</td>\n",
       "      <td>1</td>\n",
       "      <td>Male</td>\n",
       "      <td>3</td>\n",
       "      <td>Black</td>\n",
       "      <td>2</td>\n",
       "      <td>Fam_detach</td>\n",
       "      <td>4</td>\n",
       "      <td>Enfield, NC</td>\n",
       "      <td>Middle Income</td>\n",
       "      <td>2</td>\n",
       "      <td>Rural</td>\n",
       "    </tr>\n",
       "    <tr>\n",
       "      <th>99</th>\n",
       "      <td>P99</td>\n",
       "      <td>2.082727</td>\n",
       "      <td>37.967318</td>\n",
       "      <td>2</td>\n",
       "      <td>Female</td>\n",
       "      <td>3</td>\n",
       "      <td>Black</td>\n",
       "      <td>2</td>\n",
       "      <td>Fam_detach</td>\n",
       "      <td>9</td>\n",
       "      <td>Rocky Mount, NC</td>\n",
       "      <td>High Income</td>\n",
       "      <td>2</td>\n",
       "      <td>Rural</td>\n",
       "    </tr>\n",
       "  </tbody>\n",
       "</table>\n",
       "<p>86 rows × 14 columns</p>\n",
       "</div>"
      ],
      "text/plain": [
       "    ID.1        Geo        Pur  gender gender_status  race_heritage  \\\n",
       "0   P100   2.695886  27.301130       1          Male              3   \n",
       "1   P102  19.931826  11.178761       2        Female              3   \n",
       "2   P103   1.699526  11.037757       2        Female              3   \n",
       "3   P104   2.798707  11.246972       2        Female              3   \n",
       "4   P105   2.390378   6.772109       1          Male              3   \n",
       "..   ...        ...        ...     ...           ...            ...   \n",
       "95   P95  12.855662   5.190360       2        Female              2   \n",
       "96   P96   5.425578   6.660607       1          Male              2   \n",
       "97   P97   2.367281  43.184766       2        Female              2   \n",
       "98   P98   3.007641  28.760200       1          Male              3   \n",
       "99   P99   2.082727  37.967318       2        Female              3   \n",
       "\n",
       "   race_status  home_type home_status  income_code     address_city  \\\n",
       "0        Black          2  Fam_detach            9  Rocky Mount, NC   \n",
       "1        Black          3  Fam_attach            6      Raleigh, NC   \n",
       "2        Black          3  Fam_attach            7      Raleigh, NC   \n",
       "3        Black          2  Fam_detach            6      Enfield, NC   \n",
       "4        Black          2  Fam_detach            6      Enfield, NC   \n",
       "..         ...        ...         ...          ...              ...   \n",
       "95    Non-Hisp          2  Fam_detach            9      Grifton, NC   \n",
       "96    Non-Hisp          2  Fam_detach            8         Bath, NC   \n",
       "97    Non-Hisp          2  Fam_detach            9  Chocowinity, NC   \n",
       "98       Black          2  Fam_detach            4      Enfield, NC   \n",
       "99       Black          2  Fam_detach            9  Rocky Mount, NC   \n",
       "\n",
       "    Income_status  address address_status  \n",
       "0     High Income        2          Rural  \n",
       "1   Middle Income        1          Urban  \n",
       "2   Middle Income        1          Urban  \n",
       "3   Middle Income        2          Rural  \n",
       "4   Middle Income        2          Rural  \n",
       "..            ...      ...            ...  \n",
       "95    High Income        2          Rural  \n",
       "96    High Income        2          Rural  \n",
       "97    High Income        2          Rural  \n",
       "98  Middle Income        2          Rural  \n",
       "99    High Income        2          Rural  \n",
       "\n",
       "[86 rows x 14 columns]"
      ]
     },
     "execution_count": 97,
     "metadata": {},
     "output_type": "execute_result"
    }
   ],
   "source": [
    "income"
   ]
  },
  {
   "cell_type": "markdown",
   "id": "45796fc1",
   "metadata": {},
   "source": [
    "# Exposure difference between Low, middle &High income groups when indoor and outdoor air quality is considered in exposure estimation"
   ]
  },
  {
   "cell_type": "code",
   "execution_count": 98,
   "id": "e97cd38e",
   "metadata": {},
   "outputs": [],
   "source": [
    "import pingouin as pg"
   ]
  },
  {
   "cell_type": "code",
   "execution_count": 99,
   "id": "564302de",
   "metadata": {},
   "outputs": [
    {
     "data": {
      "text/html": [
       "<div>\n",
       "<style scoped>\n",
       "    .dataframe tbody tr th:only-of-type {\n",
       "        vertical-align: middle;\n",
       "    }\n",
       "\n",
       "    .dataframe tbody tr th {\n",
       "        vertical-align: top;\n",
       "    }\n",
       "\n",
       "    .dataframe thead th {\n",
       "        text-align: right;\n",
       "    }\n",
       "</style>\n",
       "<table border=\"1\" class=\"dataframe\">\n",
       "  <thead>\n",
       "    <tr style=\"text-align: right;\">\n",
       "      <th></th>\n",
       "      <th>Source</th>\n",
       "      <th>ddof1</th>\n",
       "      <th>ddof2</th>\n",
       "      <th>F</th>\n",
       "      <th>p-unc</th>\n",
       "      <th>np2</th>\n",
       "    </tr>\n",
       "  </thead>\n",
       "  <tbody>\n",
       "    <tr>\n",
       "      <th>0</th>\n",
       "      <td>Income_status</td>\n",
       "      <td>2</td>\n",
       "      <td>44.251194</td>\n",
       "      <td>7.511673</td>\n",
       "      <td>0.001553</td>\n",
       "      <td>0.099501</td>\n",
       "    </tr>\n",
       "  </tbody>\n",
       "</table>\n",
       "</div>"
      ],
      "text/plain": [
       "          Source  ddof1      ddof2         F     p-unc       np2\n",
       "0  Income_status      2  44.251194  7.511673  0.001553  0.099501"
      ]
     },
     "execution_count": 99,
     "metadata": {},
     "output_type": "execute_result"
    }
   ],
   "source": [
    "aov_g = pg.welch_anova(dv='Geo', between='Income_status', data=income)\n",
    "aov_g"
   ]
  },
  {
   "cell_type": "code",
   "execution_count": 100,
   "id": "da3ecfd6",
   "metadata": {},
   "outputs": [
    {
     "data": {
      "text/html": [
       "<div>\n",
       "<style scoped>\n",
       "    .dataframe tbody tr th:only-of-type {\n",
       "        vertical-align: middle;\n",
       "    }\n",
       "\n",
       "    .dataframe tbody tr th {\n",
       "        vertical-align: top;\n",
       "    }\n",
       "\n",
       "    .dataframe thead th {\n",
       "        text-align: right;\n",
       "    }\n",
       "</style>\n",
       "<table border=\"1\" class=\"dataframe\">\n",
       "  <thead>\n",
       "    <tr style=\"text-align: right;\">\n",
       "      <th></th>\n",
       "      <th>A</th>\n",
       "      <th>B</th>\n",
       "      <th>mean(A)</th>\n",
       "      <th>mean(B)</th>\n",
       "      <th>diff</th>\n",
       "      <th>se</th>\n",
       "      <th>T</th>\n",
       "      <th>df</th>\n",
       "      <th>pval</th>\n",
       "      <th>hedges</th>\n",
       "    </tr>\n",
       "  </thead>\n",
       "  <tbody>\n",
       "    <tr>\n",
       "      <th>0</th>\n",
       "      <td>High Income</td>\n",
       "      <td>Low Income</td>\n",
       "      <td>5.306560</td>\n",
       "      <td>21.186763</td>\n",
       "      <td>-15.880203</td>\n",
       "      <td>4.960331</td>\n",
       "      <td>-3.201440</td>\n",
       "      <td>38.010024</td>\n",
       "      <td>0.007607</td>\n",
       "      <td>-0.670583</td>\n",
       "    </tr>\n",
       "    <tr>\n",
       "      <th>1</th>\n",
       "      <td>High Income</td>\n",
       "      <td>Middle Income</td>\n",
       "      <td>5.306560</td>\n",
       "      <td>11.215246</td>\n",
       "      <td>-5.908685</td>\n",
       "      <td>2.451485</td>\n",
       "      <td>-2.410248</td>\n",
       "      <td>29.950136</td>\n",
       "      <td>0.056366</td>\n",
       "      <td>-0.666759</td>\n",
       "    </tr>\n",
       "    <tr>\n",
       "      <th>2</th>\n",
       "      <td>Low Income</td>\n",
       "      <td>Middle Income</td>\n",
       "      <td>21.186763</td>\n",
       "      <td>11.215246</td>\n",
       "      <td>9.971517</td>\n",
       "      <td>5.409817</td>\n",
       "      <td>1.843226</td>\n",
       "      <td>50.106312</td>\n",
       "      <td>0.166157</td>\n",
       "      <td>0.407231</td>\n",
       "    </tr>\n",
       "  </tbody>\n",
       "</table>\n",
       "</div>"
      ],
      "text/plain": [
       "             A              B    mean(A)    mean(B)       diff        se  \\\n",
       "0  High Income     Low Income   5.306560  21.186763 -15.880203  4.960331   \n",
       "1  High Income  Middle Income   5.306560  11.215246  -5.908685  2.451485   \n",
       "2   Low Income  Middle Income  21.186763  11.215246   9.971517  5.409817   \n",
       "\n",
       "          T         df      pval    hedges  \n",
       "0 -3.201440  38.010024  0.007607 -0.670583  \n",
       "1 -2.410248  29.950136  0.056366 -0.666759  \n",
       "2  1.843226  50.106312  0.166157  0.407231  "
      ]
     },
     "execution_count": 100,
     "metadata": {},
     "output_type": "execute_result"
    }
   ],
   "source": [
    "pg.pairwise_gameshowell(dv='Geo', between='Income_status', data=income)"
   ]
  },
  {
   "cell_type": "markdown",
   "id": "a595d8dc",
   "metadata": {},
   "source": [
    "# Exposure difference between Low, middle &High income groups when only outdoor air quality is considered in exposure estimation"
   ]
  },
  {
   "cell_type": "code",
   "execution_count": 101,
   "id": "485eae56",
   "metadata": {},
   "outputs": [
    {
     "data": {
      "text/html": [
       "<div>\n",
       "<style scoped>\n",
       "    .dataframe tbody tr th:only-of-type {\n",
       "        vertical-align: middle;\n",
       "    }\n",
       "\n",
       "    .dataframe tbody tr th {\n",
       "        vertical-align: top;\n",
       "    }\n",
       "\n",
       "    .dataframe thead th {\n",
       "        text-align: right;\n",
       "    }\n",
       "</style>\n",
       "<table border=\"1\" class=\"dataframe\">\n",
       "  <thead>\n",
       "    <tr style=\"text-align: right;\">\n",
       "      <th></th>\n",
       "      <th>Source</th>\n",
       "      <th>ddof1</th>\n",
       "      <th>ddof2</th>\n",
       "      <th>F</th>\n",
       "      <th>p-unc</th>\n",
       "      <th>np2</th>\n",
       "    </tr>\n",
       "  </thead>\n",
       "  <tbody>\n",
       "    <tr>\n",
       "      <th>0</th>\n",
       "      <td>Income_status</td>\n",
       "      <td>2</td>\n",
       "      <td>54.801</td>\n",
       "      <td>0.756799</td>\n",
       "      <td>0.474006</td>\n",
       "      <td>0.020539</td>\n",
       "    </tr>\n",
       "  </tbody>\n",
       "</table>\n",
       "</div>"
      ],
      "text/plain": [
       "          Source  ddof1   ddof2         F     p-unc       np2\n",
       "0  Income_status      2  54.801  0.756799  0.474006  0.020539"
      ]
     },
     "execution_count": 101,
     "metadata": {},
     "output_type": "execute_result"
    }
   ],
   "source": [
    "aov_p = pg.welch_anova(dv='Pur', between='Income_status', data=income)\n",
    "aov_p"
   ]
  },
  {
   "cell_type": "code",
   "execution_count": 102,
   "id": "cf84ccbe",
   "metadata": {},
   "outputs": [
    {
     "data": {
      "text/html": [
       "<div>\n",
       "<style scoped>\n",
       "    .dataframe tbody tr th:only-of-type {\n",
       "        vertical-align: middle;\n",
       "    }\n",
       "\n",
       "    .dataframe tbody tr th {\n",
       "        vertical-align: top;\n",
       "    }\n",
       "\n",
       "    .dataframe thead th {\n",
       "        text-align: right;\n",
       "    }\n",
       "</style>\n",
       "<table border=\"1\" class=\"dataframe\">\n",
       "  <thead>\n",
       "    <tr style=\"text-align: right;\">\n",
       "      <th></th>\n",
       "      <th>A</th>\n",
       "      <th>B</th>\n",
       "      <th>mean(A)</th>\n",
       "      <th>mean(B)</th>\n",
       "      <th>diff</th>\n",
       "      <th>se</th>\n",
       "      <th>T</th>\n",
       "      <th>df</th>\n",
       "      <th>pval</th>\n",
       "      <th>hedges</th>\n",
       "    </tr>\n",
       "  </thead>\n",
       "  <tbody>\n",
       "    <tr>\n",
       "      <th>0</th>\n",
       "      <td>High Income</td>\n",
       "      <td>Low Income</td>\n",
       "      <td>36.012823</td>\n",
       "      <td>45.537557</td>\n",
       "      <td>-9.524734</td>\n",
       "      <td>10.046158</td>\n",
       "      <td>-0.948097</td>\n",
       "      <td>55.208504</td>\n",
       "      <td>0.612469</td>\n",
       "      <td>-0.214100</td>\n",
       "    </tr>\n",
       "    <tr>\n",
       "      <th>1</th>\n",
       "      <td>High Income</td>\n",
       "      <td>Middle Income</td>\n",
       "      <td>36.012823</td>\n",
       "      <td>32.419626</td>\n",
       "      <td>3.593197</td>\n",
       "      <td>8.092397</td>\n",
       "      <td>0.444021</td>\n",
       "      <td>45.662663</td>\n",
       "      <td>0.897275</td>\n",
       "      <td>0.124304</td>\n",
       "    </tr>\n",
       "    <tr>\n",
       "      <th>2</th>\n",
       "      <td>Low Income</td>\n",
       "      <td>Middle Income</td>\n",
       "      <td>45.537557</td>\n",
       "      <td>32.419626</td>\n",
       "      <td>13.117930</td>\n",
       "      <td>10.654728</td>\n",
       "      <td>1.231184</td>\n",
       "      <td>59.223807</td>\n",
       "      <td>0.439741</td>\n",
       "      <td>0.286517</td>\n",
       "    </tr>\n",
       "  </tbody>\n",
       "</table>\n",
       "</div>"
      ],
      "text/plain": [
       "             A              B    mean(A)    mean(B)       diff         se  \\\n",
       "0  High Income     Low Income  36.012823  45.537557  -9.524734  10.046158   \n",
       "1  High Income  Middle Income  36.012823  32.419626   3.593197   8.092397   \n",
       "2   Low Income  Middle Income  45.537557  32.419626  13.117930  10.654728   \n",
       "\n",
       "          T         df      pval    hedges  \n",
       "0 -0.948097  55.208504  0.612469 -0.214100  \n",
       "1  0.444021  45.662663  0.897275  0.124304  \n",
       "2  1.231184  59.223807  0.439741  0.286517  "
      ]
     },
     "execution_count": 102,
     "metadata": {},
     "output_type": "execute_result"
    }
   ],
   "source": [
    "pg.pairwise_gameshowell(dv='Pur', between='Income_status', data=income)"
   ]
  },
  {
   "cell_type": "code",
   "execution_count": 103,
   "id": "a02ea7a6",
   "metadata": {},
   "outputs": [
    {
     "data": {
      "image/png": "[encoded data removed]",
      "text/plain": [
       "<Figure size 1200x600 with 1 Axes>"
      ]
     },
     "metadata": {},
     "output_type": "display_data"
    },
    {
     "data": {
      "image/png": "[encoded data removed]",
      "text/plain": [
       "<Figure size 1200x600 with 1 Axes>"
      ]
     },
     "metadata": {},
     "output_type": "display_data"
    }
   ],
   "source": [
    "## Code for the BoxPlot\n",
    "\n",
    "# Set the style of seaborn\n",
    "sns.set(style=\"white\")\n",
    "colors = ['#AE0581', '#F0EAD6']\n",
    "\n",
    "# Combine 'Pur' and 'Geo' into a single DataFrame for plotting\n",
    "combined_df = pd.melt(income, id_vars=['Income_status'], value_vars=['Pur', 'Geo'], var_name='Feature', value_name='Values')\n",
    "\n",
    "# Create the boxplot\n",
    "plt.figure(figsize=(12, 6))\n",
    "\n",
    "sns.boxplot(data=combined_df, x='Income_status', y='Values', hue='Feature', palette=colors, width=0.3, dodge=True)  # Set dodge=True to add space between groups\n",
    "sns.set(font_scale=1.0)\n",
    "\n",
    "sns.despine()\n",
    "\n",
    "# Remove x-label\n",
    "plt.xlabel(None)\n",
    "\n",
    "# Set labels and title\n",
    "plt.ylabel('$PM_{2.5}$ Value')\n",
    "plt.title('')\n",
    "\n",
    "plt.legend(frameon=False)\n",
    "plt.xticks(\n",
    "    rotation=0,\n",
    "    horizontalalignment='center',\n",
    "    fontweight='light',\n",
    "    fontsize='medium'\n",
    ")\n",
    "\n",
    "# Show the plot\n",
    "plt.savefig(\"Income_boxplot.png\")\n",
    "plt.show()\n",
    "\n",
    "\n",
    "## Code of the Line Chart\n",
    "\n",
    "# Set the style of seaborn\n",
    "sns.set(style=\"white\")\n",
    "colors = ['#AE0581', '#97EA36']\n",
    "\n",
    "# Combine 'Pur' and 'Geo' into a single DataFrame for plotting\n",
    "combined_df = pd.melt(income, id_vars=['Income_status'], value_vars=['Pur', 'Geo'], var_name='Feature', value_name='Values')\n",
    "\n",
    "# Create the line plot\n",
    "plt.figure(figsize=(12, 6))\n",
    "sns.lineplot(data=combined_df, x='Income_status', y='Values', hue='Feature', palette=colors, style='Feature', markers=True)\n",
    "\n",
    "sns.despine()\n",
    "\n",
    "# Remove x-label\n",
    "plt.xlabel(None)\n",
    "\n",
    "# Set labels and title\n",
    "\n",
    "plt.ylabel('$PM_{2.5}$ Value')\n",
    "plt.title('')\n",
    "\n",
    "plt.legend(frameon=False)\n",
    "plt.xticks(\n",
    "    rotation=0,\n",
    "    horizontalalignment='center',\n",
    "    fontweight='light',\n",
    "    fontsize='medium'\n",
    ")\n",
    "\n",
    "# Show the plot\n",
    "plt.legend(title='Feature')\n",
    "plt.savefig(\"Income_linechart.png\")\n",
    "plt.show()\n"
   ]
  },
  {
   "cell_type": "markdown",
   "id": "d5668bfd",
   "metadata": {},
   "source": [
    "# Descriptive Statistic"
   ]
  },
  {
   "cell_type": "code",
   "execution_count": 104,
   "id": "991858bd",
   "metadata": {},
   "outputs": [
    {
     "data": {
      "text/plain": [
       "count     37.000000\n",
       "mean      45.537557\n",
       "std       52.495622\n",
       "min        4.545853\n",
       "25%       11.112890\n",
       "50%       20.103721\n",
       "75%       61.830527\n",
       "max      240.454879\n",
       "Name: Pur, dtype: float64"
      ]
     },
     "execution_count": 104,
     "metadata": {},
     "output_type": "execute_result"
    }
   ],
   "source": [
    "lowa['Pur'].describe()"
   ]
  },
  {
   "cell_type": "code",
   "execution_count": 105,
   "id": "1f1ad007",
   "metadata": {},
   "outputs": [
    {
     "data": {
      "text/plain": [
       "count     37.000000\n",
       "mean      21.186763\n",
       "std       29.756223\n",
       "min        1.623826\n",
       "25%        4.277864\n",
       "50%        6.199735\n",
       "75%       16.187773\n",
       "max      105.016596\n",
       "Name: Geo, dtype: float64"
      ]
     },
     "execution_count": 105,
     "metadata": {},
     "output_type": "execute_result"
    }
   ],
   "source": [
    "lowa['Geo'].describe()"
   ]
  },
  {
   "cell_type": "code",
   "execution_count": 106,
   "id": "f1b15a01",
   "metadata": {},
   "outputs": [
    {
     "data": {
      "text/plain": [
       "count     25.000000\n",
       "mean      32.419626\n",
       "std       31.241960\n",
       "min        5.233887\n",
       "25%       11.178761\n",
       "50%       18.554935\n",
       "75%       41.583658\n",
       "max      130.935255\n",
       "Name: Pur, dtype: float64"
      ]
     },
     "execution_count": 106,
     "metadata": {},
     "output_type": "execute_result"
    }
   ],
   "source": [
    "mida['Pur'].describe()"
   ]
  },
  {
   "cell_type": "code",
   "execution_count": 107,
   "id": "ec604025",
   "metadata": {},
   "outputs": [
    {
     "data": {
      "text/plain": [
       "count    25.000000\n",
       "mean     11.215246\n",
       "std      11.549358\n",
       "min       1.699526\n",
       "25%       3.007641\n",
       "50%       7.424106\n",
       "75%      16.681480\n",
       "max      43.889332\n",
       "Name: Geo, dtype: float64"
      ]
     },
     "execution_count": 107,
     "metadata": {},
     "output_type": "execute_result"
    }
   ],
   "source": [
    "mida['Geo'].describe()"
   ]
  },
  {
   "cell_type": "code",
   "execution_count": null,
   "id": "e83557a3",
   "metadata": {},
   "outputs": [],
   "source": []
  },
  {
   "cell_type": "code",
   "execution_count": 108,
   "id": "83cb3872",
   "metadata": {},
   "outputs": [
    {
     "data": {
      "text/plain": [
       "count    24.000000\n",
       "mean     36.012823\n",
       "std      25.192608\n",
       "min       4.837753\n",
       "25%       7.396117\n",
       "50%      35.847860\n",
       "75%      59.076721\n",
       "max      83.968039\n",
       "Name: Pur, dtype: float64"
      ]
     },
     "execution_count": 108,
     "metadata": {},
     "output_type": "execute_result"
    }
   ],
   "source": [
    "higha['Pur'].describe()"
   ]
  },
  {
   "cell_type": "code",
   "execution_count": 109,
   "id": "38d02f4a",
   "metadata": {},
   "outputs": [
    {
     "data": {
      "text/plain": [
       "count    24.000000\n",
       "mean      5.306560\n",
       "std       4.022746\n",
       "min       1.891429\n",
       "25%       2.524999\n",
       "50%       3.272261\n",
       "75%       6.612106\n",
       "max      16.205628\n",
       "Name: Geo, dtype: float64"
      ]
     },
     "execution_count": 109,
     "metadata": {},
     "output_type": "execute_result"
    }
   ],
   "source": [
    "higha['Geo'].describe()"
   ]
  },
  {
   "cell_type": "markdown",
   "id": "6d6b8d99",
   "metadata": {},
   "source": [
    "# 2. ASSESSING BASED ON RACIAL "
   ]
  },
  {
   "cell_type": "code",
   "execution_count": 110,
   "id": "a130121a",
   "metadata": {},
   "outputs": [],
   "source": [
    "Hispanic = parameters[parameters['race_status'] == 'Hispanic'].groupby('ID.1').mean()\n",
    "Non_Hispanic = parameters[parameters['race_status'] == 'Non-Hisp'].groupby('ID.1').mean()\n",
    "African_american = parameters[parameters['race_status'] == 'Black'].groupby('ID.1').mean()\n",
    "Asian = parameters[parameters['race_status'] == 'Asian'].groupby('ID.1').mean()"
   ]
  },
  {
   "cell_type": "markdown",
   "id": "43d53a9d",
   "metadata": {},
   "source": [
    "# Racial: Indoor and Outdoor"
   ]
  },
  {
   "cell_type": "code",
   "execution_count": 111,
   "id": "d7cc9ac9",
   "metadata": {},
   "outputs": [
    {
     "data": {
      "text/html": [
       "<div>\n",
       "<style scoped>\n",
       "    .dataframe tbody tr th:only-of-type {\n",
       "        vertical-align: middle;\n",
       "    }\n",
       "\n",
       "    .dataframe tbody tr th {\n",
       "        vertical-align: top;\n",
       "    }\n",
       "\n",
       "    .dataframe thead th {\n",
       "        text-align: right;\n",
       "    }\n",
       "</style>\n",
       "<table border=\"1\" class=\"dataframe\">\n",
       "  <thead>\n",
       "    <tr style=\"text-align: right;\">\n",
       "      <th></th>\n",
       "      <th>Source</th>\n",
       "      <th>ddof1</th>\n",
       "      <th>ddof2</th>\n",
       "      <th>F</th>\n",
       "      <th>p-unc</th>\n",
       "      <th>np2</th>\n",
       "    </tr>\n",
       "  </thead>\n",
       "  <tbody>\n",
       "    <tr>\n",
       "      <th>0</th>\n",
       "      <td>race_status</td>\n",
       "      <td>3</td>\n",
       "      <td>44.916432</td>\n",
       "      <td>4.091803</td>\n",
       "      <td>0.011892</td>\n",
       "      <td>0.038726</td>\n",
       "    </tr>\n",
       "  </tbody>\n",
       "</table>\n",
       "</div>"
      ],
      "text/plain": [
       "        Source  ddof1      ddof2         F     p-unc       np2\n",
       "0  race_status      3  44.916432  4.091803  0.011892  0.038726"
      ]
     },
     "execution_count": 111,
     "metadata": {},
     "output_type": "execute_result"
    }
   ],
   "source": [
    "aov_g = pg.welch_anova(dv='Geo', between='race_status', data=parameters)\n",
    "aov_g"
   ]
  },
  {
   "cell_type": "code",
   "execution_count": 112,
   "id": "00533c9f",
   "metadata": {},
   "outputs": [
    {
     "data": {
      "text/html": [
       "<div>\n",
       "<style scoped>\n",
       "    .dataframe tbody tr th:only-of-type {\n",
       "        vertical-align: middle;\n",
       "    }\n",
       "\n",
       "    .dataframe tbody tr th {\n",
       "        vertical-align: top;\n",
       "    }\n",
       "\n",
       "    .dataframe thead th {\n",
       "        text-align: right;\n",
       "    }\n",
       "</style>\n",
       "<table border=\"1\" class=\"dataframe\">\n",
       "  <thead>\n",
       "    <tr style=\"text-align: right;\">\n",
       "      <th></th>\n",
       "      <th>A</th>\n",
       "      <th>B</th>\n",
       "      <th>mean(A)</th>\n",
       "      <th>mean(B)</th>\n",
       "      <th>diff</th>\n",
       "      <th>se</th>\n",
       "      <th>T</th>\n",
       "      <th>df</th>\n",
       "      <th>pval</th>\n",
       "      <th>hedges</th>\n",
       "    </tr>\n",
       "  </thead>\n",
       "  <tbody>\n",
       "    <tr>\n",
       "      <th>0</th>\n",
       "      <td>Asian</td>\n",
       "      <td>Black</td>\n",
       "      <td>5.145060</td>\n",
       "      <td>15.263565</td>\n",
       "      <td>-10.118505</td>\n",
       "      <td>6.468255</td>\n",
       "      <td>-1.564333</td>\n",
       "      <td>18.296316</td>\n",
       "      <td>0.422088</td>\n",
       "      <td>-0.473338</td>\n",
       "    </tr>\n",
       "    <tr>\n",
       "      <th>1</th>\n",
       "      <td>Asian</td>\n",
       "      <td>Hispanic</td>\n",
       "      <td>5.145060</td>\n",
       "      <td>16.296231</td>\n",
       "      <td>-11.151171</td>\n",
       "      <td>3.647507</td>\n",
       "      <td>-3.057203</td>\n",
       "      <td>52.998105</td>\n",
       "      <td>0.017829</td>\n",
       "      <td>-0.536890</td>\n",
       "    </tr>\n",
       "    <tr>\n",
       "      <th>2</th>\n",
       "      <td>Asian</td>\n",
       "      <td>Non-Hisp</td>\n",
       "      <td>5.145060</td>\n",
       "      <td>10.065485</td>\n",
       "      <td>-4.920425</td>\n",
       "      <td>2.827875</td>\n",
       "      <td>-1.739973</td>\n",
       "      <td>31.867429</td>\n",
       "      <td>0.320535</td>\n",
       "      <td>-0.462040</td>\n",
       "    </tr>\n",
       "    <tr>\n",
       "      <th>3</th>\n",
       "      <td>Black</td>\n",
       "      <td>Hispanic</td>\n",
       "      <td>15.263565</td>\n",
       "      <td>16.296231</td>\n",
       "      <td>-1.032666</td>\n",
       "      <td>7.213824</td>\n",
       "      <td>-0.143151</td>\n",
       "      <td>27.462427</td>\n",
       "      <td>0.998927</td>\n",
       "      <td>-0.042220</td>\n",
       "    </tr>\n",
       "    <tr>\n",
       "      <th>4</th>\n",
       "      <td>Black</td>\n",
       "      <td>Non-Hisp</td>\n",
       "      <td>15.263565</td>\n",
       "      <td>10.065485</td>\n",
       "      <td>5.198080</td>\n",
       "      <td>6.836068</td>\n",
       "      <td>0.760390</td>\n",
       "      <td>22.449842</td>\n",
       "      <td>0.871263</td>\n",
       "      <td>0.255918</td>\n",
       "    </tr>\n",
       "    <tr>\n",
       "      <th>5</th>\n",
       "      <td>Hispanic</td>\n",
       "      <td>Non-Hisp</td>\n",
       "      <td>16.296231</td>\n",
       "      <td>10.065485</td>\n",
       "      <td>6.230745</td>\n",
       "      <td>4.265890</td>\n",
       "      <td>1.460597</td>\n",
       "      <td>66.964771</td>\n",
       "      <td>0.466808</td>\n",
       "      <td>0.307876</td>\n",
       "    </tr>\n",
       "  </tbody>\n",
       "</table>\n",
       "</div>"
      ],
      "text/plain": [
       "          A         B    mean(A)    mean(B)       diff        se         T  \\\n",
       "0     Asian     Black   5.145060  15.263565 -10.118505  6.468255 -1.564333   \n",
       "1     Asian  Hispanic   5.145060  16.296231 -11.151171  3.647507 -3.057203   \n",
       "2     Asian  Non-Hisp   5.145060  10.065485  -4.920425  2.827875 -1.739973   \n",
       "3     Black  Hispanic  15.263565  16.296231  -1.032666  7.213824 -0.143151   \n",
       "4     Black  Non-Hisp  15.263565  10.065485   5.198080  6.836068  0.760390   \n",
       "5  Hispanic  Non-Hisp  16.296231  10.065485   6.230745  4.265890  1.460597   \n",
       "\n",
       "          df      pval    hedges  \n",
       "0  18.296316  0.422088 -0.473338  \n",
       "1  52.998105  0.017829 -0.536890  \n",
       "2  31.867429  0.320535 -0.462040  \n",
       "3  27.462427  0.998927 -0.042220  \n",
       "4  22.449842  0.871263  0.255918  \n",
       "5  66.964771  0.466808  0.307876  "
      ]
     },
     "execution_count": 112,
     "metadata": {},
     "output_type": "execute_result"
    }
   ],
   "source": [
    "pg.pairwise_gameshowell(dv='Geo', between='race_status', data=parameters)"
   ]
  },
  {
   "cell_type": "markdown",
   "id": "1f587e21",
   "metadata": {},
   "source": [
    "# Racial: Outdoor"
   ]
  },
  {
   "cell_type": "code",
   "execution_count": 113,
   "id": "cf6276fe",
   "metadata": {},
   "outputs": [
    {
     "data": {
      "text/html": [
       "<div>\n",
       "<style scoped>\n",
       "    .dataframe tbody tr th:only-of-type {\n",
       "        vertical-align: middle;\n",
       "    }\n",
       "\n",
       "    .dataframe tbody tr th {\n",
       "        vertical-align: top;\n",
       "    }\n",
       "\n",
       "    .dataframe thead th {\n",
       "        text-align: right;\n",
       "    }\n",
       "</style>\n",
       "<table border=\"1\" class=\"dataframe\">\n",
       "  <thead>\n",
       "    <tr style=\"text-align: right;\">\n",
       "      <th></th>\n",
       "      <th>Source</th>\n",
       "      <th>ddof1</th>\n",
       "      <th>ddof2</th>\n",
       "      <th>F</th>\n",
       "      <th>p-unc</th>\n",
       "      <th>np2</th>\n",
       "    </tr>\n",
       "  </thead>\n",
       "  <tbody>\n",
       "    <tr>\n",
       "      <th>0</th>\n",
       "      <td>race_status</td>\n",
       "      <td>3</td>\n",
       "      <td>40.429906</td>\n",
       "      <td>11.037749</td>\n",
       "      <td>0.00002</td>\n",
       "      <td>0.114805</td>\n",
       "    </tr>\n",
       "  </tbody>\n",
       "</table>\n",
       "</div>"
      ],
      "text/plain": [
       "        Source  ddof1      ddof2          F    p-unc       np2\n",
       "0  race_status      3  40.429906  11.037749  0.00002  0.114805"
      ]
     },
     "execution_count": 113,
     "metadata": {},
     "output_type": "execute_result"
    }
   ],
   "source": [
    "aov_g = pg.welch_anova(dv='Pur', between='race_status', data=parameters)\n",
    "aov_g"
   ]
  },
  {
   "cell_type": "code",
   "execution_count": 114,
   "id": "88d2425c",
   "metadata": {},
   "outputs": [
    {
     "data": {
      "text/html": [
       "<div>\n",
       "<style scoped>\n",
       "    .dataframe tbody tr th:only-of-type {\n",
       "        vertical-align: middle;\n",
       "    }\n",
       "\n",
       "    .dataframe tbody tr th {\n",
       "        vertical-align: top;\n",
       "    }\n",
       "\n",
       "    .dataframe thead th {\n",
       "        text-align: right;\n",
       "    }\n",
       "</style>\n",
       "<table border=\"1\" class=\"dataframe\">\n",
       "  <thead>\n",
       "    <tr style=\"text-align: right;\">\n",
       "      <th></th>\n",
       "      <th>A</th>\n",
       "      <th>B</th>\n",
       "      <th>mean(A)</th>\n",
       "      <th>mean(B)</th>\n",
       "      <th>diff</th>\n",
       "      <th>se</th>\n",
       "      <th>T</th>\n",
       "      <th>df</th>\n",
       "      <th>pval</th>\n",
       "      <th>hedges</th>\n",
       "    </tr>\n",
       "  </thead>\n",
       "  <tbody>\n",
       "    <tr>\n",
       "      <th>0</th>\n",
       "      <td>Asian</td>\n",
       "      <td>Black</td>\n",
       "      <td>45.474009</td>\n",
       "      <td>17.716017</td>\n",
       "      <td>27.757992</td>\n",
       "      <td>7.335379</td>\n",
       "      <td>3.784125</td>\n",
       "      <td>15.597750</td>\n",
       "      <td>0.008238</td>\n",
       "      <td>1.498329</td>\n",
       "    </tr>\n",
       "    <tr>\n",
       "      <th>1</th>\n",
       "      <td>Asian</td>\n",
       "      <td>Hispanic</td>\n",
       "      <td>45.474009</td>\n",
       "      <td>60.243635</td>\n",
       "      <td>-14.769626</td>\n",
       "      <td>11.697035</td>\n",
       "      <td>-1.262681</td>\n",
       "      <td>51.034502</td>\n",
       "      <td>0.590513</td>\n",
       "      <td>-0.253178</td>\n",
       "    </tr>\n",
       "    <tr>\n",
       "      <th>2</th>\n",
       "      <td>Asian</td>\n",
       "      <td>Non-Hisp</td>\n",
       "      <td>45.474009</td>\n",
       "      <td>35.145066</td>\n",
       "      <td>10.328943</td>\n",
       "      <td>8.519717</td>\n",
       "      <td>1.212357</td>\n",
       "      <td>24.899414</td>\n",
       "      <td>0.625013</td>\n",
       "      <td>0.407539</td>\n",
       "    </tr>\n",
       "    <tr>\n",
       "      <th>3</th>\n",
       "      <td>Black</td>\n",
       "      <td>Hispanic</td>\n",
       "      <td>17.716017</td>\n",
       "      <td>60.243635</td>\n",
       "      <td>-42.527618</td>\n",
       "      <td>9.847206</td>\n",
       "      <td>-4.318750</td>\n",
       "      <td>50.304803</td>\n",
       "      <td>0.000418</td>\n",
       "      <td>-0.772546</td>\n",
       "    </tr>\n",
       "    <tr>\n",
       "      <th>4</th>\n",
       "      <td>Black</td>\n",
       "      <td>Non-Hisp</td>\n",
       "      <td>17.716017</td>\n",
       "      <td>35.145066</td>\n",
       "      <td>-17.429049</td>\n",
       "      <td>5.721225</td>\n",
       "      <td>-3.046384</td>\n",
       "      <td>33.794256</td>\n",
       "      <td>0.022110</td>\n",
       "      <td>-0.845760</td>\n",
       "    </tr>\n",
       "    <tr>\n",
       "      <th>5</th>\n",
       "      <td>Hispanic</td>\n",
       "      <td>Non-Hisp</td>\n",
       "      <td>60.243635</td>\n",
       "      <td>35.145066</td>\n",
       "      <td>25.098569</td>\n",
       "      <td>10.758497</td>\n",
       "      <td>2.332907</td>\n",
       "      <td>62.928792</td>\n",
       "      <td>0.101445</td>\n",
       "      <td>0.463105</td>\n",
       "    </tr>\n",
       "  </tbody>\n",
       "</table>\n",
       "</div>"
      ],
      "text/plain": [
       "          A         B    mean(A)    mean(B)       diff         se         T  \\\n",
       "0     Asian     Black  45.474009  17.716017  27.757992   7.335379  3.784125   \n",
       "1     Asian  Hispanic  45.474009  60.243635 -14.769626  11.697035 -1.262681   \n",
       "2     Asian  Non-Hisp  45.474009  35.145066  10.328943   8.519717  1.212357   \n",
       "3     Black  Hispanic  17.716017  60.243635 -42.527618   9.847206 -4.318750   \n",
       "4     Black  Non-Hisp  17.716017  35.145066 -17.429049   5.721225 -3.046384   \n",
       "5  Hispanic  Non-Hisp  60.243635  35.145066  25.098569  10.758497  2.332907   \n",
       "\n",
       "          df      pval    hedges  \n",
       "0  15.597750  0.008238  1.498329  \n",
       "1  51.034502  0.590513 -0.253178  \n",
       "2  24.899414  0.625013  0.407539  \n",
       "3  50.304803  0.000418 -0.772546  \n",
       "4  33.794256  0.022110 -0.845760  \n",
       "5  62.928792  0.101445  0.463105  "
      ]
     },
     "execution_count": 114,
     "metadata": {},
     "output_type": "execute_result"
    }
   ],
   "source": [
    "pg.pairwise_gameshowell(dv='Pur', between='race_status', data=parameters)"
   ]
  },
  {
   "cell_type": "code",
   "execution_count": 115,
   "id": "0cea49be",
   "metadata": {},
   "outputs": [
    {
     "data": {
      "image/png": "[encoded data removed]",
      "text/plain": [
       "<Figure size 1200x600 with 1 Axes>"
      ]
     },
     "metadata": {},
     "output_type": "display_data"
    },
    {
     "data": {
      "image/png": "[encoded data removed]",
      "text/plain": [
       "<Figure size 1200x600 with 1 Axes>"
      ]
     },
     "metadata": {},
     "output_type": "display_data"
    }
   ],
   "source": [
    "## Code for the BoxPlot\n",
    "\n",
    "# Set the style of seaborn\n",
    "sns.set(style=\"white\")\n",
    "colors = ['#AE0581', '#F0EAD6']\n",
    "\n",
    "# Combine 'Pur' and 'Geo' into a single DataFrame for plotting\n",
    "combined_df = pd.melt(parameters, id_vars=['race_status'], value_vars=['Pur', 'Geo'], var_name='Feature', value_name='Values')\n",
    "\n",
    "# Create the boxplot\n",
    "plt.figure(figsize=(12, 6))\n",
    "\n",
    "sns.boxplot(data=combined_df, x='race_status', y='Values', hue='Feature', palette=colors, width=0.3, dodge=True)  # Set dodge=True to add space between groups\n",
    "sns.set(font_scale=1.0)\n",
    "\n",
    "sns.despine()\n",
    "\n",
    "# Remove x-label\n",
    "plt.xlabel(None)\n",
    "\n",
    "# Set labels and title\n",
    "plt.ylabel('$PM_{2.5}$ Value')\n",
    "plt.title('')\n",
    "\n",
    "plt.legend(frameon=False)\n",
    "plt.xticks(\n",
    "    rotation=0,\n",
    "    horizontalalignment='center',\n",
    "    fontweight='light',\n",
    "    fontsize='small'\n",
    ")\n",
    "\n",
    "# Show the plot\n",
    "plt.savefig(\"Race_boxplot.png\")\n",
    "plt.show()\n",
    "\n",
    "\n",
    "## Code of the Line Chart\n",
    "\n",
    "# Set the style of seaborn\n",
    "sns.set(style=\"white\")\n",
    "colors = ['#AE0581', '#97EA36']\n",
    "\n",
    "# Combine 'Pur' and 'Geo' into a single DataFrame for plotting\n",
    "combined_df = pd.melt(parameters, id_vars=['race_status'], value_vars=['Pur', 'Geo'], var_name='Feature', value_name='Values')\n",
    "\n",
    "# Create the line plot\n",
    "plt.figure(figsize=(12, 6))\n",
    "sns.lineplot(data=combined_df, x='race_status', y='Values', hue='Feature', palette=colors, style='Feature', markers=True)\n",
    "\n",
    "sns.despine()\n",
    "\n",
    "# Remove x-label\n",
    "plt.xlabel(None)\n",
    "\n",
    "# Set labels and title\n",
    "plt.ylabel('$PM_{2.5}$ Value')\n",
    "plt.title('')\n",
    "\n",
    "plt.legend(frameon=False)\n",
    "plt.xticks(\n",
    "    rotation=0,\n",
    "    horizontalalignment='center',\n",
    "    fontweight='light',\n",
    "    fontsize='medium'\n",
    ")\n",
    "\n",
    "# Show the plot\n",
    "plt.legend(title='Feature')\n",
    "plt.savefig(\"Race_linechart.png\")\n",
    "plt.show()\n"
   ]
  },
  {
   "cell_type": "markdown",
   "id": "3804144a",
   "metadata": {},
   "source": [
    "# Desciptive stat. of Race"
   ]
  },
  {
   "cell_type": "code",
   "execution_count": 116,
   "id": "36c93f2b",
   "metadata": {},
   "outputs": [
    {
     "data": {
      "text/plain": [
       "count     45.000000\n",
       "mean      60.243635\n",
       "std       63.636131\n",
       "min        3.795506\n",
       "25%       11.112890\n",
       "50%       26.935833\n",
       "75%       94.499618\n",
       "max      240.454879\n",
       "Name: Pur, dtype: float64"
      ]
     },
     "execution_count": 116,
     "metadata": {},
     "output_type": "execute_result"
    }
   ],
   "source": [
    "Hispanic['Pur'].describe()"
   ]
  },
  {
   "cell_type": "code",
   "execution_count": 117,
   "id": "8fd11de0",
   "metadata": {},
   "outputs": [
    {
     "data": {
      "text/plain": [
       "count     45.000000\n",
       "mean      16.296231\n",
       "std       22.997133\n",
       "min        2.832403\n",
       "25%        4.895426\n",
       "50%        7.764333\n",
       "75%       14.089366\n",
       "max      105.016596\n",
       "Name: Geo, dtype: float64"
      ]
     },
     "execution_count": 117,
     "metadata": {},
     "output_type": "execute_result"
    }
   ],
   "source": [
    "Hispanic['Geo'].describe()"
   ]
  },
  {
   "cell_type": "code",
   "execution_count": 118,
   "id": "af4783fb",
   "metadata": {},
   "outputs": [
    {
     "data": {
      "text/plain": [
       "count    24.000000\n",
       "mean     35.145066\n",
       "std      24.862072\n",
       "min       5.190360\n",
       "25%      15.870353\n",
       "50%      30.090000\n",
       "75%      52.054434\n",
       "max      90.949754\n",
       "Name: Pur, dtype: float64"
      ]
     },
     "execution_count": 118,
     "metadata": {},
     "output_type": "execute_result"
    }
   ],
   "source": [
    "Non_Hispanic['Pur'].describe()"
   ]
  },
  {
   "cell_type": "code",
   "execution_count": 119,
   "id": "cecd09be",
   "metadata": {},
   "outputs": [
    {
     "data": {
      "text/plain": [
       "count    24.000000\n",
       "mean     10.065485\n",
       "std      12.437226\n",
       "min       1.953736\n",
       "25%       3.688643\n",
       "50%       5.725163\n",
       "75%      10.529820\n",
       "max      55.628892\n",
       "Name: Geo, dtype: float64"
      ]
     },
     "execution_count": 119,
     "metadata": {},
     "output_type": "execute_result"
    }
   ],
   "source": [
    "Non_Hispanic['Geo'].describe()"
   ]
  },
  {
   "cell_type": "code",
   "execution_count": 120,
   "id": "3930c768",
   "metadata": {},
   "outputs": [
    {
     "data": {
      "text/plain": [
       "count    18.000000\n",
       "mean     17.716017\n",
       "std      11.206763\n",
       "min       4.545853\n",
       "25%       9.632657\n",
       "50%      13.143729\n",
       "75%      27.406661\n",
       "max      37.967318\n",
       "Name: Pur, dtype: float64"
      ]
     },
     "execution_count": 120,
     "metadata": {},
     "output_type": "execute_result"
    }
   ],
   "source": [
    "African_american['Pur'].describe()"
   ]
  },
  {
   "cell_type": "code",
   "execution_count": 121,
   "id": "2a44ec56",
   "metadata": {},
   "outputs": [
    {
     "data": {
      "text/plain": [
       "count    18.000000\n",
       "mean     15.263565\n",
       "std      26.928783\n",
       "min       1.699526\n",
       "25%       2.709233\n",
       "50%       3.422079\n",
       "75%       5.232890\n",
       "max      96.468137\n",
       "Name: Geo, dtype: float64"
      ]
     },
     "execution_count": 121,
     "metadata": {},
     "output_type": "execute_result"
    }
   ],
   "source": [
    "African_american['Geo'].describe()"
   ]
  },
  {
   "cell_type": "code",
   "execution_count": 122,
   "id": "47a58b2e",
   "metadata": {},
   "outputs": [
    {
     "data": {
      "text/plain": [
       "count    13.000000\n",
       "mean     45.474009\n",
       "std      24.673796\n",
       "min       9.798477\n",
       "25%      16.866345\n",
       "50%      57.175722\n",
       "75%      60.829365\n",
       "max      83.968039\n",
       "Name: Pur, dtype: float64"
      ]
     },
     "execution_count": 122,
     "metadata": {},
     "output_type": "execute_result"
    }
   ],
   "source": [
    "Asian['Pur'].describe()"
   ]
  },
  {
   "cell_type": "code",
   "execution_count": 123,
   "id": "e32c8443",
   "metadata": {},
   "outputs": [
    {
     "data": {
      "text/plain": [
       "count    13.000000\n",
       "mean      5.145060\n",
       "std       4.491315\n",
       "min       1.623826\n",
       "25%       2.192984\n",
       "50%       2.911311\n",
       "75%       8.585112\n",
       "max      16.205628\n",
       "Name: Geo, dtype: float64"
      ]
     },
     "execution_count": 123,
     "metadata": {},
     "output_type": "execute_result"
    }
   ],
   "source": [
    "Asian['Geo'].describe()"
   ]
  },
  {
   "cell_type": "code",
   "execution_count": null,
   "id": "070f9e8e",
   "metadata": {},
   "outputs": [],
   "source": []
  },
  {
   "cell_type": "markdown",
   "id": "62fb6e41",
   "metadata": {},
   "source": [
    "# 3. Home Type"
   ]
  },
  {
   "cell_type": "code",
   "execution_count": 124,
   "id": "02e8d440",
   "metadata": {},
   "outputs": [],
   "source": [
    "# This code removes row that are not relevant to this analysis (i.e., No_response)\n",
    "condition = ~(parameters['home_status'] == 'No_response')  # Using ~ operator\n",
    "home = parameters[condition]"
   ]
  },
  {
   "cell_type": "code",
   "execution_count": 125,
   "id": "f4f64a54",
   "metadata": {},
   "outputs": [],
   "source": [
    "Mobile = home[home['home_status'] == 'Mobile'].groupby('ID.1').mean()\n",
    "family_detach = home[home['home_status'] == 'Fam_detach'].groupby('ID.1').mean()\n",
    "family_attach = home[home['home_status'] == 'Fam_attach'].groupby('ID.1').mean()\n",
    "Apartment = home[home['home_status'] == 'Apartment'].groupby('ID.1').mean()\n",
    "Condo = home[home['home_status'] == 'Condo'].groupby('ID.1').mean()"
   ]
  },
  {
   "cell_type": "markdown",
   "id": "313598c8",
   "metadata": {},
   "source": [
    "# Home type: Indoor and Outdoor"
   ]
  },
  {
   "cell_type": "code",
   "execution_count": 126,
   "id": "d748fa4a",
   "metadata": {},
   "outputs": [
    {
     "data": {
      "text/html": [
       "<div>\n",
       "<style scoped>\n",
       "    .dataframe tbody tr th:only-of-type {\n",
       "        vertical-align: middle;\n",
       "    }\n",
       "\n",
       "    .dataframe tbody tr th {\n",
       "        vertical-align: top;\n",
       "    }\n",
       "\n",
       "    .dataframe thead th {\n",
       "        text-align: right;\n",
       "    }\n",
       "</style>\n",
       "<table border=\"1\" class=\"dataframe\">\n",
       "  <thead>\n",
       "    <tr style=\"text-align: right;\">\n",
       "      <th></th>\n",
       "      <th>Source</th>\n",
       "      <th>ddof1</th>\n",
       "      <th>ddof2</th>\n",
       "      <th>F</th>\n",
       "      <th>p-unc</th>\n",
       "      <th>np2</th>\n",
       "    </tr>\n",
       "  </thead>\n",
       "  <tbody>\n",
       "    <tr>\n",
       "      <th>0</th>\n",
       "      <td>home_status</td>\n",
       "      <td>4</td>\n",
       "      <td>23.426622</td>\n",
       "      <td>6.387149</td>\n",
       "      <td>0.00126</td>\n",
       "      <td>0.105292</td>\n",
       "    </tr>\n",
       "  </tbody>\n",
       "</table>\n",
       "</div>"
      ],
      "text/plain": [
       "        Source  ddof1      ddof2         F    p-unc       np2\n",
       "0  home_status      4  23.426622  6.387149  0.00126  0.105292"
      ]
     },
     "execution_count": 126,
     "metadata": {},
     "output_type": "execute_result"
    }
   ],
   "source": [
    "aov_g = pg.welch_anova(dv='Geo', between='home_status', data=home)\n",
    "aov_g"
   ]
  },
  {
   "cell_type": "code",
   "execution_count": 127,
   "id": "fabc6943",
   "metadata": {},
   "outputs": [
    {
     "data": {
      "text/html": [
       "<div>\n",
       "<style scoped>\n",
       "    .dataframe tbody tr th:only-of-type {\n",
       "        vertical-align: middle;\n",
       "    }\n",
       "\n",
       "    .dataframe tbody tr th {\n",
       "        vertical-align: top;\n",
       "    }\n",
       "\n",
       "    .dataframe thead th {\n",
       "        text-align: right;\n",
       "    }\n",
       "</style>\n",
       "<table border=\"1\" class=\"dataframe\">\n",
       "  <thead>\n",
       "    <tr style=\"text-align: right;\">\n",
       "      <th></th>\n",
       "      <th>A</th>\n",
       "      <th>B</th>\n",
       "      <th>mean(A)</th>\n",
       "      <th>mean(B)</th>\n",
       "      <th>diff</th>\n",
       "      <th>se</th>\n",
       "      <th>T</th>\n",
       "      <th>df</th>\n",
       "      <th>pval</th>\n",
       "      <th>hedges</th>\n",
       "    </tr>\n",
       "  </thead>\n",
       "  <tbody>\n",
       "    <tr>\n",
       "      <th>0</th>\n",
       "      <td>Apartment</td>\n",
       "      <td>Condo</td>\n",
       "      <td>21.028190</td>\n",
       "      <td>2.983760</td>\n",
       "      <td>18.044430</td>\n",
       "      <td>6.928828</td>\n",
       "      <td>2.604254</td>\n",
       "      <td>20.324595</td>\n",
       "      <td>0.106830</td>\n",
       "      <td>0.577869</td>\n",
       "    </tr>\n",
       "    <tr>\n",
       "      <th>1</th>\n",
       "      <td>Apartment</td>\n",
       "      <td>Fam_attach</td>\n",
       "      <td>21.028190</td>\n",
       "      <td>14.206014</td>\n",
       "      <td>6.822176</td>\n",
       "      <td>9.458791</td>\n",
       "      <td>0.721252</td>\n",
       "      <td>17.258673</td>\n",
       "      <td>0.948685</td>\n",
       "      <td>0.226904</td>\n",
       "    </tr>\n",
       "    <tr>\n",
       "      <th>2</th>\n",
       "      <td>Apartment</td>\n",
       "      <td>Fam_detach</td>\n",
       "      <td>21.028190</td>\n",
       "      <td>6.706939</td>\n",
       "      <td>14.321252</td>\n",
       "      <td>6.978720</td>\n",
       "      <td>2.052132</td>\n",
       "      <td>20.925978</td>\n",
       "      <td>0.277079</td>\n",
       "      <td>0.751480</td>\n",
       "    </tr>\n",
       "    <tr>\n",
       "      <th>3</th>\n",
       "      <td>Apartment</td>\n",
       "      <td>Mobile</td>\n",
       "      <td>21.028190</td>\n",
       "      <td>19.160111</td>\n",
       "      <td>1.868080</td>\n",
       "      <td>8.358882</td>\n",
       "      <td>0.223484</td>\n",
       "      <td>36.439457</td>\n",
       "      <td>0.999419</td>\n",
       "      <td>0.066687</td>\n",
       "    </tr>\n",
       "    <tr>\n",
       "      <th>4</th>\n",
       "      <td>Condo</td>\n",
       "      <td>Fam_attach</td>\n",
       "      <td>2.983760</td>\n",
       "      <td>14.206014</td>\n",
       "      <td>-11.222254</td>\n",
       "      <td>6.501062</td>\n",
       "      <td>-1.726219</td>\n",
       "      <td>5.095284</td>\n",
       "      <td>0.493083</td>\n",
       "      <td>-0.744029</td>\n",
       "    </tr>\n",
       "    <tr>\n",
       "      <th>5</th>\n",
       "      <td>Condo</td>\n",
       "      <td>Fam_detach</td>\n",
       "      <td>2.983760</td>\n",
       "      <td>6.706939</td>\n",
       "      <td>-3.723179</td>\n",
       "      <td>1.223768</td>\n",
       "      <td>-3.042390</td>\n",
       "      <td>20.513494</td>\n",
       "      <td>0.044431</td>\n",
       "      <td>-0.545322</td>\n",
       "    </tr>\n",
       "    <tr>\n",
       "      <th>6</th>\n",
       "      <td>Condo</td>\n",
       "      <td>Mobile</td>\n",
       "      <td>2.983760</td>\n",
       "      <td>19.160111</td>\n",
       "      <td>-16.176351</td>\n",
       "      <td>4.760881</td>\n",
       "      <td>-3.397764</td>\n",
       "      <td>24.777343</td>\n",
       "      <td>0.017780</td>\n",
       "      <td>-0.692807</td>\n",
       "    </tr>\n",
       "    <tr>\n",
       "      <th>7</th>\n",
       "      <td>Fam_attach</td>\n",
       "      <td>Fam_detach</td>\n",
       "      <td>14.206014</td>\n",
       "      <td>6.706939</td>\n",
       "      <td>7.499075</td>\n",
       "      <td>6.554211</td>\n",
       "      <td>1.144161</td>\n",
       "      <td>5.264748</td>\n",
       "      <td>0.780425</td>\n",
       "      <td>0.889429</td>\n",
       "    </tr>\n",
       "    <tr>\n",
       "      <th>8</th>\n",
       "      <td>Fam_attach</td>\n",
       "      <td>Mobile</td>\n",
       "      <td>14.206014</td>\n",
       "      <td>19.160111</td>\n",
       "      <td>-4.954097</td>\n",
       "      <td>8.007875</td>\n",
       "      <td>-0.618653</td>\n",
       "      <td>11.079840</td>\n",
       "      <td>0.969006</td>\n",
       "      <td>-0.214929</td>\n",
       "    </tr>\n",
       "    <tr>\n",
       "      <th>9</th>\n",
       "      <td>Fam_detach</td>\n",
       "      <td>Mobile</td>\n",
       "      <td>6.706939</td>\n",
       "      <td>19.160111</td>\n",
       "      <td>-12.453172</td>\n",
       "      <td>4.833204</td>\n",
       "      <td>-2.576587</td>\n",
       "      <td>26.383967</td>\n",
       "      <td>0.104064</td>\n",
       "      <td>-0.807595</td>\n",
       "    </tr>\n",
       "  </tbody>\n",
       "</table>\n",
       "</div>"
      ],
      "text/plain": [
       "            A           B    mean(A)    mean(B)       diff        se  \\\n",
       "0   Apartment       Condo  21.028190   2.983760  18.044430  6.928828   \n",
       "1   Apartment  Fam_attach  21.028190  14.206014   6.822176  9.458791   \n",
       "2   Apartment  Fam_detach  21.028190   6.706939  14.321252  6.978720   \n",
       "3   Apartment      Mobile  21.028190  19.160111   1.868080  8.358882   \n",
       "4       Condo  Fam_attach   2.983760  14.206014 -11.222254  6.501062   \n",
       "5       Condo  Fam_detach   2.983760   6.706939  -3.723179  1.223768   \n",
       "6       Condo      Mobile   2.983760  19.160111 -16.176351  4.760881   \n",
       "7  Fam_attach  Fam_detach  14.206014   6.706939   7.499075  6.554211   \n",
       "8  Fam_attach      Mobile  14.206014  19.160111  -4.954097  8.007875   \n",
       "9  Fam_detach      Mobile   6.706939  19.160111 -12.453172  4.833204   \n",
       "\n",
       "          T         df      pval    hedges  \n",
       "0  2.604254  20.324595  0.106830  0.577869  \n",
       "1  0.721252  17.258673  0.948685  0.226904  \n",
       "2  2.052132  20.925978  0.277079  0.751480  \n",
       "3  0.223484  36.439457  0.999419  0.066687  \n",
       "4 -1.726219   5.095284  0.493083 -0.744029  \n",
       "5 -3.042390  20.513494  0.044431 -0.545322  \n",
       "6 -3.397764  24.777343  0.017780 -0.692807  \n",
       "7  1.144161   5.264748  0.780425  0.889429  \n",
       "8 -0.618653  11.079840  0.969006 -0.214929  \n",
       "9 -2.576587  26.383967  0.104064 -0.807595  "
      ]
     },
     "execution_count": 127,
     "metadata": {},
     "output_type": "execute_result"
    }
   ],
   "source": [
    "pg.pairwise_gameshowell(dv='Geo', between='home_status', data=home)"
   ]
  },
  {
   "cell_type": "markdown",
   "id": "b23beb33",
   "metadata": {},
   "source": [
    "# Home type: Outdoor"
   ]
  },
  {
   "cell_type": "code",
   "execution_count": 128,
   "id": "8d16b8f8",
   "metadata": {},
   "outputs": [
    {
     "data": {
      "text/html": [
       "<div>\n",
       "<style scoped>\n",
       "    .dataframe tbody tr th:only-of-type {\n",
       "        vertical-align: middle;\n",
       "    }\n",
       "\n",
       "    .dataframe tbody tr th {\n",
       "        vertical-align: top;\n",
       "    }\n",
       "\n",
       "    .dataframe thead th {\n",
       "        text-align: right;\n",
       "    }\n",
       "</style>\n",
       "<table border=\"1\" class=\"dataframe\">\n",
       "  <thead>\n",
       "    <tr style=\"text-align: right;\">\n",
       "      <th></th>\n",
       "      <th>Source</th>\n",
       "      <th>ddof1</th>\n",
       "      <th>ddof2</th>\n",
       "      <th>F</th>\n",
       "      <th>p-unc</th>\n",
       "      <th>np2</th>\n",
       "    </tr>\n",
       "  </thead>\n",
       "  <tbody>\n",
       "    <tr>\n",
       "      <th>0</th>\n",
       "      <td>home_status</td>\n",
       "      <td>4</td>\n",
       "      <td>23.59779</td>\n",
       "      <td>2.00669</td>\n",
       "      <td>0.126247</td>\n",
       "      <td>0.042189</td>\n",
       "    </tr>\n",
       "  </tbody>\n",
       "</table>\n",
       "</div>"
      ],
      "text/plain": [
       "        Source  ddof1     ddof2        F     p-unc       np2\n",
       "0  home_status      4  23.59779  2.00669  0.126247  0.042189"
      ]
     },
     "execution_count": 128,
     "metadata": {},
     "output_type": "execute_result"
    }
   ],
   "source": [
    "aov_g = pg.welch_anova(dv='Pur', between='home_status', data=home)\n",
    "aov_g"
   ]
  },
  {
   "cell_type": "code",
   "execution_count": 129,
   "id": "8d7ceeed",
   "metadata": {},
   "outputs": [
    {
     "data": {
      "text/html": [
       "<div>\n",
       "<style scoped>\n",
       "    .dataframe tbody tr th:only-of-type {\n",
       "        vertical-align: middle;\n",
       "    }\n",
       "\n",
       "    .dataframe tbody tr th {\n",
       "        vertical-align: top;\n",
       "    }\n",
       "\n",
       "    .dataframe thead th {\n",
       "        text-align: right;\n",
       "    }\n",
       "</style>\n",
       "<table border=\"1\" class=\"dataframe\">\n",
       "  <thead>\n",
       "    <tr style=\"text-align: right;\">\n",
       "      <th></th>\n",
       "      <th>A</th>\n",
       "      <th>B</th>\n",
       "      <th>mean(A)</th>\n",
       "      <th>mean(B)</th>\n",
       "      <th>diff</th>\n",
       "      <th>se</th>\n",
       "      <th>T</th>\n",
       "      <th>df</th>\n",
       "      <th>pval</th>\n",
       "      <th>hedges</th>\n",
       "    </tr>\n",
       "  </thead>\n",
       "  <tbody>\n",
       "    <tr>\n",
       "      <th>0</th>\n",
       "      <td>Apartment</td>\n",
       "      <td>Condo</td>\n",
       "      <td>33.180986</td>\n",
       "      <td>30.956973</td>\n",
       "      <td>2.224013</td>\n",
       "      <td>6.735013</td>\n",
       "      <td>0.330217</td>\n",
       "      <td>18.514931</td>\n",
       "      <td>0.997193</td>\n",
       "      <td>0.082231</td>\n",
       "    </tr>\n",
       "    <tr>\n",
       "      <th>1</th>\n",
       "      <td>Apartment</td>\n",
       "      <td>Fam_attach</td>\n",
       "      <td>33.180986</td>\n",
       "      <td>23.155761</td>\n",
       "      <td>10.025225</td>\n",
       "      <td>10.133343</td>\n",
       "      <td>0.989330</td>\n",
       "      <td>10.938779</td>\n",
       "      <td>0.854722</td>\n",
       "      <td>0.373279</td>\n",
       "    </tr>\n",
       "    <tr>\n",
       "      <th>2</th>\n",
       "      <td>Apartment</td>\n",
       "      <td>Fam_detach</td>\n",
       "      <td>33.180986</td>\n",
       "      <td>47.132593</td>\n",
       "      <td>-13.951607</td>\n",
       "      <td>9.327164</td>\n",
       "      <td>-1.495804</td>\n",
       "      <td>59.952239</td>\n",
       "      <td>0.569207</td>\n",
       "      <td>-0.330521</td>\n",
       "    </tr>\n",
       "    <tr>\n",
       "      <th>3</th>\n",
       "      <td>Apartment</td>\n",
       "      <td>Mobile</td>\n",
       "      <td>33.180986</td>\n",
       "      <td>55.830968</td>\n",
       "      <td>-22.649982</td>\n",
       "      <td>14.532639</td>\n",
       "      <td>-1.558559</td>\n",
       "      <td>33.080253</td>\n",
       "      <td>0.533361</td>\n",
       "      <td>-0.425722</td>\n",
       "    </tr>\n",
       "    <tr>\n",
       "      <th>4</th>\n",
       "      <td>Condo</td>\n",
       "      <td>Fam_attach</td>\n",
       "      <td>30.956973</td>\n",
       "      <td>23.155761</td>\n",
       "      <td>7.801212</td>\n",
       "      <td>8.768505</td>\n",
       "      <td>0.889685</td>\n",
       "      <td>6.232770</td>\n",
       "      <td>0.891306</td>\n",
       "      <td>0.403069</td>\n",
       "    </tr>\n",
       "    <tr>\n",
       "      <th>5</th>\n",
       "      <td>Condo</td>\n",
       "      <td>Fam_detach</td>\n",
       "      <td>30.956973</td>\n",
       "      <td>47.132593</td>\n",
       "      <td>-16.175620</td>\n",
       "      <td>7.822918</td>\n",
       "      <td>-2.067722</td>\n",
       "      <td>33.807185</td>\n",
       "      <td>0.257344</td>\n",
       "      <td>-0.345963</td>\n",
       "    </tr>\n",
       "    <tr>\n",
       "      <th>6</th>\n",
       "      <td>Condo</td>\n",
       "      <td>Mobile</td>\n",
       "      <td>30.956973</td>\n",
       "      <td>55.830968</td>\n",
       "      <td>-24.873994</td>\n",
       "      <td>13.616154</td>\n",
       "      <td>-1.826800</td>\n",
       "      <td>25.787913</td>\n",
       "      <td>0.380613</td>\n",
       "      <td>-0.379239</td>\n",
       "    </tr>\n",
       "    <tr>\n",
       "      <th>7</th>\n",
       "      <td>Fam_attach</td>\n",
       "      <td>Fam_detach</td>\n",
       "      <td>23.155761</td>\n",
       "      <td>47.132593</td>\n",
       "      <td>-23.976832</td>\n",
       "      <td>10.886793</td>\n",
       "      <td>-2.202378</td>\n",
       "      <td>14.578575</td>\n",
       "      <td>0.232581</td>\n",
       "      <td>-0.525107</td>\n",
       "    </tr>\n",
       "    <tr>\n",
       "      <th>8</th>\n",
       "      <td>Fam_attach</td>\n",
       "      <td>Mobile</td>\n",
       "      <td>23.155761</td>\n",
       "      <td>55.830968</td>\n",
       "      <td>-32.675206</td>\n",
       "      <td>15.579598</td>\n",
       "      <td>-2.097307</td>\n",
       "      <td>26.954639</td>\n",
       "      <td>0.250344</td>\n",
       "      <td>-0.522959</td>\n",
       "    </tr>\n",
       "    <tr>\n",
       "      <th>9</th>\n",
       "      <td>Fam_detach</td>\n",
       "      <td>Mobile</td>\n",
       "      <td>47.132593</td>\n",
       "      <td>55.830968</td>\n",
       "      <td>-8.698375</td>\n",
       "      <td>15.067688</td>\n",
       "      <td>-0.577287</td>\n",
       "      <td>38.237526</td>\n",
       "      <td>0.977632</td>\n",
       "      <td>-0.156907</td>\n",
       "    </tr>\n",
       "  </tbody>\n",
       "</table>\n",
       "</div>"
      ],
      "text/plain": [
       "            A           B    mean(A)    mean(B)       diff         se  \\\n",
       "0   Apartment       Condo  33.180986  30.956973   2.224013   6.735013   \n",
       "1   Apartment  Fam_attach  33.180986  23.155761  10.025225  10.133343   \n",
       "2   Apartment  Fam_detach  33.180986  47.132593 -13.951607   9.327164   \n",
       "3   Apartment      Mobile  33.180986  55.830968 -22.649982  14.532639   \n",
       "4       Condo  Fam_attach  30.956973  23.155761   7.801212   8.768505   \n",
       "5       Condo  Fam_detach  30.956973  47.132593 -16.175620   7.822918   \n",
       "6       Condo      Mobile  30.956973  55.830968 -24.873994  13.616154   \n",
       "7  Fam_attach  Fam_detach  23.155761  47.132593 -23.976832  10.886793   \n",
       "8  Fam_attach      Mobile  23.155761  55.830968 -32.675206  15.579598   \n",
       "9  Fam_detach      Mobile  47.132593  55.830968  -8.698375  15.067688   \n",
       "\n",
       "          T         df      pval    hedges  \n",
       "0  0.330217  18.514931  0.997193  0.082231  \n",
       "1  0.989330  10.938779  0.854722  0.373279  \n",
       "2 -1.495804  59.952239  0.569207 -0.330521  \n",
       "3 -1.558559  33.080253  0.533361 -0.425722  \n",
       "4  0.889685   6.232770  0.891306  0.403069  \n",
       "5 -2.067722  33.807185  0.257344 -0.345963  \n",
       "6 -1.826800  25.787913  0.380613 -0.379239  \n",
       "7 -2.202378  14.578575  0.232581 -0.525107  \n",
       "8 -2.097307  26.954639  0.250344 -0.522959  \n",
       "9 -0.577287  38.237526  0.977632 -0.156907  "
      ]
     },
     "execution_count": 129,
     "metadata": {},
     "output_type": "execute_result"
    }
   ],
   "source": [
    "pg.pairwise_gameshowell(dv='Pur', between='home_status', data=home)"
   ]
  },
  {
   "cell_type": "code",
   "execution_count": 130,
   "id": "87c197b8",
   "metadata": {},
   "outputs": [
    {
     "data": {
      "image/png": "[encoded data removed]",
      "text/plain": [
       "<Figure size 1200x600 with 1 Axes>"
      ]
     },
     "metadata": {},
     "output_type": "display_data"
    },
    {
     "data": {
      "image/png": "[encoded data removed]",
      "text/plain": [
       "<Figure size 1200x600 with 1 Axes>"
      ]
     },
     "metadata": {},
     "output_type": "display_data"
    }
   ],
   "source": [
    "## Code for the BoxPlot\n",
    "\n",
    "# Set the style of seaborn\n",
    "sns.set(style=\"white\")\n",
    "colors = ['#AE0581', '#F0EAD6']\n",
    "\n",
    "# Combine 'Pur' and 'Geo' into a single DataFrame for plotting\n",
    "combined_df = pd.melt(home, id_vars=['home_status'], value_vars=['Pur', 'Geo'], var_name='Feature', value_name='Values')\n",
    "\n",
    "# Create the boxplot\n",
    "plt.figure(figsize=(12, 6))\n",
    "\n",
    "sns.boxplot(data=combined_df, x='home_status', y='Values', hue='Feature', palette=colors, width=0.3, dodge=True)  # Set dodge=True to add space between groups\n",
    "sns.set(font_scale=1.0)\n",
    "\n",
    "sns.despine()\n",
    "\n",
    "# Remove x-label\n",
    "plt.xlabel(None)\n",
    "\n",
    "# Set labels and title\n",
    "plt.ylabel('$PM_{2.5}$ Value')\n",
    "plt.title('')\n",
    "\n",
    "plt.legend(frameon=False)\n",
    "plt.xticks(\n",
    "    rotation=0,\n",
    "    horizontalalignment='center',\n",
    "    fontweight='light',\n",
    "    fontsize='small'\n",
    ")\n",
    "\n",
    "# Show the plot\n",
    "plt.savefig(\"Home_boxplot.png\")\n",
    "plt.show()\n",
    "\n",
    "\n",
    "## Code of the Line Chart\n",
    "\n",
    "# Set the style of seaborn\n",
    "sns.set(style=\"white\")\n",
    "colors = ['#AE0581', '#97EA36']\n",
    "\n",
    "# Combine 'Pur' and 'Geo' into a single DataFrame for plotting\n",
    "combined_df = pd.melt(home, id_vars=['home_status'], value_vars=['Pur', 'Geo'], var_name='Feature', value_name='Values')\n",
    "\n",
    "# Create the line plot\n",
    "plt.figure(figsize=(12, 6))\n",
    "sns.lineplot(data=combined_df, x='home_status', y='Values', hue='Feature', palette=colors, style='Feature', markers=True)\n",
    "\n",
    "sns.despine()\n",
    "\n",
    "# Remove x-label\n",
    "plt.xlabel(None)\n",
    "\n",
    "# Set labels and title\n",
    "plt.ylabel('$PM_{2.5}$ Value')\n",
    "plt.title('')\n",
    "\n",
    "plt.legend(frameon=False)\n",
    "plt.xticks(\n",
    "    rotation=0,\n",
    "    horizontalalignment='center',\n",
    "    fontweight='light',\n",
    "    fontsize='medium'\n",
    ")\n",
    "\n",
    "# Show the plot\n",
    "plt.legend(title='Feature')\n",
    "plt.savefig(\"Home_linechart.png\")\n",
    "plt.show()"
   ]
  },
  {
   "cell_type": "code",
   "execution_count": 131,
   "id": "6e895ec6",
   "metadata": {},
   "outputs": [
    {
     "data": {
      "text/plain": [
       "count    25.000000\n",
       "mean     19.160111\n",
       "std      23.592436\n",
       "min       2.885877\n",
       "25%       5.365174\n",
       "50%       8.891744\n",
       "75%      16.740477\n",
       "max      96.468137\n",
       "Name: Geo, dtype: float64"
      ]
     },
     "execution_count": 131,
     "metadata": {},
     "output_type": "execute_result"
    }
   ],
   "source": [
    "Mobile['Geo'].describe()"
   ]
  },
  {
   "cell_type": "code",
   "execution_count": 132,
   "id": "e0f40fd5",
   "metadata": {},
   "outputs": [
    {
     "data": {
      "text/plain": [
       "count     25.000000\n",
       "mean      55.830968\n",
       "std       66.260551\n",
       "min        4.506689\n",
       "25%        9.359579\n",
       "50%       21.123941\n",
       "75%       68.893950\n",
       "max      240.454879\n",
       "Name: Pur, dtype: float64"
      ]
     },
     "execution_count": 132,
     "metadata": {},
     "output_type": "execute_result"
    }
   ],
   "source": [
    "Mobile['Pur'].describe()"
   ]
  },
  {
   "cell_type": "code",
   "execution_count": 133,
   "id": "2cc7b34e",
   "metadata": {},
   "outputs": [
    {
     "data": {
      "text/plain": [
       "count    3.000000\n",
       "mean     2.983760\n",
       "std      1.097994\n",
       "min      2.349637\n",
       "25%      2.349833\n",
       "50%      2.350028\n",
       "75%      3.300822\n",
       "max      4.251615\n",
       "Name: Geo, dtype: float64"
      ]
     },
     "execution_count": 133,
     "metadata": {},
     "output_type": "execute_result"
    }
   ],
   "source": [
    "Condo['Geo'].describe()"
   ]
  },
  {
   "cell_type": "code",
   "execution_count": 134,
   "id": "4fb07e3a",
   "metadata": {},
   "outputs": [
    {
     "data": {
      "text/plain": [
       "count     3.000000\n",
       "mean     30.956973\n",
       "std       5.416981\n",
       "min      26.875142\n",
       "25%      27.884219\n",
       "50%      28.893297\n",
       "75%      32.997889\n",
       "max      37.102481\n",
       "Name: Pur, dtype: float64"
      ]
     },
     "execution_count": 134,
     "metadata": {},
     "output_type": "execute_result"
    }
   ],
   "source": [
    "Condo['Pur'].describe()"
   ]
  },
  {
   "cell_type": "code",
   "execution_count": 135,
   "id": "405b61e0",
   "metadata": {},
   "outputs": [
    {
     "data": {
      "text/plain": [
       "count     21.000000\n",
       "mean      21.028190\n",
       "std       31.618707\n",
       "min        1.623826\n",
       "25%        3.212970\n",
       "50%        6.199735\n",
       "75%       18.086490\n",
       "max      105.016596\n",
       "Name: Geo, dtype: float64"
      ]
     },
     "execution_count": 135,
     "metadata": {},
     "output_type": "execute_result"
    }
   ],
   "source": [
    "Apartment['Geo'].describe()"
   ]
  },
  {
   "cell_type": "code",
   "execution_count": 136,
   "id": "d3c96797",
   "metadata": {
    "scrolled": true
   },
   "outputs": [
    {
     "data": {
      "text/plain": [
       "count    21.000000\n",
       "mean     33.180986\n",
       "std      27.334276\n",
       "min       5.964154\n",
       "25%      14.194144\n",
       "50%      18.102272\n",
       "75%      44.973628\n",
       "max      94.499618\n",
       "Name: Pur, dtype: float64"
      ]
     },
     "execution_count": 136,
     "metadata": {},
     "output_type": "execute_result"
    }
   ],
   "source": [
    "Apartment['Pur'].describe()"
   ]
  },
  {
   "cell_type": "code",
   "execution_count": 137,
   "id": "b43edf45",
   "metadata": {},
   "outputs": [
    {
     "data": {
      "text/plain": [
       "count     6.000000\n",
       "mean     14.206014\n",
       "std      15.848395\n",
       "min       1.699526\n",
       "25%       5.227150\n",
       "50%       7.248199\n",
       "75%      17.260070\n",
       "max      43.889332\n",
       "Name: Geo, dtype: float64"
      ]
     },
     "execution_count": 137,
     "metadata": {},
     "output_type": "execute_result"
    }
   ],
   "source": [
    "family_attach['Geo'].describe()"
   ]
  },
  {
   "cell_type": "code",
   "execution_count": 138,
   "id": "4836fd95",
   "metadata": {},
   "outputs": [
    {
     "data": {
      "text/plain": [
       "count     6.000000\n",
       "mean     23.155761\n",
       "std      20.065711\n",
       "min       9.798477\n",
       "25%      11.073008\n",
       "50%      14.412984\n",
       "75%      24.993180\n",
       "max      61.830527\n",
       "Name: Pur, dtype: float64"
      ]
     },
     "execution_count": 138,
     "metadata": {},
     "output_type": "execute_result"
    }
   ],
   "source": [
    "family_attach['Pur'].describe()"
   ]
  },
  {
   "cell_type": "code",
   "execution_count": 139,
   "id": "119451ad",
   "metadata": {},
   "outputs": [
    {
     "data": {
      "text/plain": [
       "count    43.000000\n",
       "mean      6.706939\n",
       "std       6.864181\n",
       "min       1.891429\n",
       "25%       2.762867\n",
       "50%       4.140902\n",
       "75%       8.504536\n",
       "max      41.021146\n",
       "Name: Geo, dtype: float64"
      ]
     },
     "execution_count": 139,
     "metadata": {},
     "output_type": "execute_result"
    }
   ],
   "source": [
    "family_detach['Geo'].describe()"
   ]
  },
  {
   "cell_type": "code",
   "execution_count": 140,
   "id": "33e257bc",
   "metadata": {},
   "outputs": [
    {
     "data": {
      "text/plain": [
       "count     43.000000\n",
       "mean      47.132593\n",
       "std       47.020451\n",
       "min        3.795506\n",
       "25%       10.341693\n",
       "50%       33.728402\n",
       "75%       61.779747\n",
       "max      200.618932\n",
       "Name: Pur, dtype: float64"
      ]
     },
     "execution_count": 140,
     "metadata": {},
     "output_type": "execute_result"
    }
   ],
   "source": [
    "family_detach['Pur'].describe()"
   ]
  },
  {
   "cell_type": "code",
   "execution_count": 141,
   "id": "d59f3798",
   "metadata": {},
   "outputs": [
    {
     "data": {
      "text/plain": [
       "count    3.000000\n",
       "mean     2.983760\n",
       "std      1.097994\n",
       "min      2.349637\n",
       "25%      2.349833\n",
       "50%      2.350028\n",
       "75%      3.300822\n",
       "max      4.251615\n",
       "Name: Geo, dtype: float64"
      ]
     },
     "execution_count": 141,
     "metadata": {},
     "output_type": "execute_result"
    }
   ],
   "source": [
    "Condo['Geo'].describe()"
   ]
  },
  {
   "cell_type": "code",
   "execution_count": 142,
   "id": "90bf090f",
   "metadata": {},
   "outputs": [
    {
     "data": {
      "text/plain": [
       "count     3.000000\n",
       "mean     30.956973\n",
       "std       5.416981\n",
       "min      26.875142\n",
       "25%      27.884219\n",
       "50%      28.893297\n",
       "75%      32.997889\n",
       "max      37.102481\n",
       "Name: Pur, dtype: float64"
      ]
     },
     "execution_count": 142,
     "metadata": {},
     "output_type": "execute_result"
    }
   ],
   "source": [
    "Condo['Pur'].describe()"
   ]
  },
  {
   "cell_type": "markdown",
   "id": "ee8877f4",
   "metadata": {},
   "source": [
    "# 4. Area type"
   ]
  },
  {
   "cell_type": "code",
   "execution_count": 143,
   "id": "a5583168",
   "metadata": {},
   "outputs": [],
   "source": [
    "Rural = parameters[parameters['address_status'] == 'Rural'].groupby('ID.1').mean()\n",
    "Urban = parameters[parameters['address_status'] == 'Urban'].groupby('ID.1').mean()"
   ]
  },
  {
   "cell_type": "markdown",
   "id": "a177be14",
   "metadata": {},
   "source": [
    "# City Type - Outdoor and Indoor "
   ]
  },
  {
   "cell_type": "code",
   "execution_count": 144,
   "id": "dd7e92fe",
   "metadata": {},
   "outputs": [
    {
     "data": {
      "text/html": [
       "<div>\n",
       "<style scoped>\n",
       "    .dataframe tbody tr th:only-of-type {\n",
       "        vertical-align: middle;\n",
       "    }\n",
       "\n",
       "    .dataframe tbody tr th {\n",
       "        vertical-align: top;\n",
       "    }\n",
       "\n",
       "    .dataframe thead th {\n",
       "        text-align: right;\n",
       "    }\n",
       "</style>\n",
       "<table border=\"1\" class=\"dataframe\">\n",
       "  <thead>\n",
       "    <tr style=\"text-align: right;\">\n",
       "      <th></th>\n",
       "      <th>Source</th>\n",
       "      <th>ddof1</th>\n",
       "      <th>ddof2</th>\n",
       "      <th>F</th>\n",
       "      <th>p-unc</th>\n",
       "      <th>np2</th>\n",
       "    </tr>\n",
       "  </thead>\n",
       "  <tbody>\n",
       "    <tr>\n",
       "      <th>0</th>\n",
       "      <td>address_status</td>\n",
       "      <td>1</td>\n",
       "      <td>85.78295</td>\n",
       "      <td>0.16714</td>\n",
       "      <td>0.683685</td>\n",
       "      <td>0.001707</td>\n",
       "    </tr>\n",
       "  </tbody>\n",
       "</table>\n",
       "</div>"
      ],
      "text/plain": [
       "           Source  ddof1     ddof2        F     p-unc       np2\n",
       "0  address_status      1  85.78295  0.16714  0.683685  0.001707"
      ]
     },
     "execution_count": 144,
     "metadata": {},
     "output_type": "execute_result"
    }
   ],
   "source": [
    "# Welch's ANOVA\n",
    "aov_g = pg.welch_anova(dv='Geo', between='address_status', data=parameters)\n",
    "aov_g"
   ]
  },
  {
   "cell_type": "code",
   "execution_count": 145,
   "id": "ba9eb562",
   "metadata": {},
   "outputs": [
    {
     "data": {
      "text/html": [
       "<div>\n",
       "<style scoped>\n",
       "    .dataframe tbody tr th:only-of-type {\n",
       "        vertical-align: middle;\n",
       "    }\n",
       "\n",
       "    .dataframe tbody tr th {\n",
       "        vertical-align: top;\n",
       "    }\n",
       "\n",
       "    .dataframe thead th {\n",
       "        text-align: right;\n",
       "    }\n",
       "</style>\n",
       "<table border=\"1\" class=\"dataframe\">\n",
       "  <thead>\n",
       "    <tr style=\"text-align: right;\">\n",
       "      <th></th>\n",
       "      <th>A</th>\n",
       "      <th>B</th>\n",
       "      <th>mean(A)</th>\n",
       "      <th>mean(B)</th>\n",
       "      <th>diff</th>\n",
       "      <th>se</th>\n",
       "      <th>T</th>\n",
       "      <th>df</th>\n",
       "      <th>pval</th>\n",
       "      <th>hedges</th>\n",
       "    </tr>\n",
       "  </thead>\n",
       "  <tbody>\n",
       "    <tr>\n",
       "      <th>0</th>\n",
       "      <td>Rural</td>\n",
       "      <td>Urban</td>\n",
       "      <td>14.168774</td>\n",
       "      <td>12.468005</td>\n",
       "      <td>1.700769</td>\n",
       "      <td>4.160119</td>\n",
       "      <td>0.408827</td>\n",
       "      <td>85.78295</td>\n",
       "      <td>0.683685</td>\n",
       "      <td>0.082599</td>\n",
       "    </tr>\n",
       "  </tbody>\n",
       "</table>\n",
       "</div>"
      ],
      "text/plain": [
       "       A      B    mean(A)    mean(B)      diff        se         T        df  \\\n",
       "0  Rural  Urban  14.168774  12.468005  1.700769  4.160119  0.408827  85.78295   \n",
       "\n",
       "       pval    hedges  \n",
       "0  0.683685  0.082599  "
      ]
     },
     "execution_count": 145,
     "metadata": {},
     "output_type": "execute_result"
    }
   ],
   "source": [
    "# Game Howell\n",
    "pg.pairwise_gameshowell(dv='Geo', between='address_status', data=parameters)"
   ]
  },
  {
   "cell_type": "markdown",
   "id": "0241fa74",
   "metadata": {},
   "source": [
    "# City Type - Outdoor "
   ]
  },
  {
   "cell_type": "code",
   "execution_count": 146,
   "id": "c8ebc959",
   "metadata": {},
   "outputs": [
    {
     "data": {
      "text/html": [
       "<div>\n",
       "<style scoped>\n",
       "    .dataframe tbody tr th:only-of-type {\n",
       "        vertical-align: middle;\n",
       "    }\n",
       "\n",
       "    .dataframe tbody tr th {\n",
       "        vertical-align: top;\n",
       "    }\n",
       "\n",
       "    .dataframe thead th {\n",
       "        text-align: right;\n",
       "    }\n",
       "</style>\n",
       "<table border=\"1\" class=\"dataframe\">\n",
       "  <thead>\n",
       "    <tr style=\"text-align: right;\">\n",
       "      <th></th>\n",
       "      <th>Source</th>\n",
       "      <th>ddof1</th>\n",
       "      <th>ddof2</th>\n",
       "      <th>F</th>\n",
       "      <th>p-unc</th>\n",
       "      <th>np2</th>\n",
       "    </tr>\n",
       "  </thead>\n",
       "  <tbody>\n",
       "    <tr>\n",
       "      <th>0</th>\n",
       "      <td>address_status</td>\n",
       "      <td>1</td>\n",
       "      <td>69.55479</td>\n",
       "      <td>0.000429</td>\n",
       "      <td>0.983535</td>\n",
       "      <td>0.000005</td>\n",
       "    </tr>\n",
       "  </tbody>\n",
       "</table>\n",
       "</div>"
      ],
      "text/plain": [
       "           Source  ddof1     ddof2         F     p-unc       np2\n",
       "0  address_status      1  69.55479  0.000429  0.983535  0.000005"
      ]
     },
     "execution_count": 146,
     "metadata": {},
     "output_type": "execute_result"
    }
   ],
   "source": [
    "# Welch's ANOVA\n",
    "aov_g = pg.welch_anova(dv='Pur', between='address_status', data=parameters)\n",
    "aov_g"
   ]
  },
  {
   "cell_type": "code",
   "execution_count": 147,
   "id": "8d3b4ff9",
   "metadata": {},
   "outputs": [
    {
     "data": {
      "text/html": [
       "<div>\n",
       "<style scoped>\n",
       "    .dataframe tbody tr th:only-of-type {\n",
       "        vertical-align: middle;\n",
       "    }\n",
       "\n",
       "    .dataframe tbody tr th {\n",
       "        vertical-align: top;\n",
       "    }\n",
       "\n",
       "    .dataframe thead th {\n",
       "        text-align: right;\n",
       "    }\n",
       "</style>\n",
       "<table border=\"1\" class=\"dataframe\">\n",
       "  <thead>\n",
       "    <tr style=\"text-align: right;\">\n",
       "      <th></th>\n",
       "      <th>A</th>\n",
       "      <th>B</th>\n",
       "      <th>mean(A)</th>\n",
       "      <th>mean(B)</th>\n",
       "      <th>diff</th>\n",
       "      <th>se</th>\n",
       "      <th>T</th>\n",
       "      <th>df</th>\n",
       "      <th>pval</th>\n",
       "      <th>hedges</th>\n",
       "    </tr>\n",
       "  </thead>\n",
       "  <tbody>\n",
       "    <tr>\n",
       "      <th>0</th>\n",
       "      <td>Rural</td>\n",
       "      <td>Urban</td>\n",
       "      <td>44.518658</td>\n",
       "      <td>44.732723</td>\n",
       "      <td>-0.214065</td>\n",
       "      <td>10.335405</td>\n",
       "      <td>-0.020712</td>\n",
       "      <td>69.55479</td>\n",
       "      <td>0.983535</td>\n",
       "      <td>-0.004404</td>\n",
       "    </tr>\n",
       "  </tbody>\n",
       "</table>\n",
       "</div>"
      ],
      "text/plain": [
       "       A      B    mean(A)    mean(B)      diff         se         T  \\\n",
       "0  Rural  Urban  44.518658  44.732723 -0.214065  10.335405 -0.020712   \n",
       "\n",
       "         df      pval    hedges  \n",
       "0  69.55479  0.983535 -0.004404  "
      ]
     },
     "execution_count": 147,
     "metadata": {},
     "output_type": "execute_result"
    }
   ],
   "source": [
    "# Game Howell\n",
    "pg.pairwise_gameshowell(dv='Pur', between='address_status', data=parameters)"
   ]
  },
  {
   "cell_type": "code",
   "execution_count": 148,
   "id": "34799ca0",
   "metadata": {},
   "outputs": [
    {
     "data": {
      "image/png": "[encoded data removed]",
      "text/plain": [
       "<Figure size 1200x600 with 1 Axes>"
      ]
     },
     "metadata": {},
     "output_type": "display_data"
    },
    {
     "data": {
      "image/png": "[encoded data removed]",
      "text/plain": [
       "<Figure size 1200x600 with 1 Axes>"
      ]
     },
     "metadata": {},
     "output_type": "display_data"
    }
   ],
   "source": [
    "## Code for the BoxPlot\n",
    "\n",
    "# Set the style of seaborn\n",
    "sns.set(style=\"white\")\n",
    "colors = ['#AE0581', '#F0EAD6']\n",
    "\n",
    "# Combine 'Pur' and 'Geo' into a single DataFrame for plotting\n",
    "combined_df = pd.melt(parameters, id_vars=['address_status'], value_vars=['Pur', 'Geo'], var_name='Feature', value_name='Values')\n",
    "\n",
    "# Create the boxplot\n",
    "plt.figure(figsize=(12, 6))\n",
    "\n",
    "sns.boxplot(data=combined_df, x='address_status', y='Values', hue='Feature', palette=colors, width=0.3, dodge=True)  # Set dodge=True to add space between groups\n",
    "sns.set(font_scale=1.0)\n",
    "\n",
    "sns.despine()\n",
    "\n",
    "# Remove x-label\n",
    "plt.xlabel(None)\n",
    "\n",
    "# Set labels and title\n",
    "plt.ylabel('$PM_{2.5}$ Value')\n",
    "plt.title('')\n",
    "\n",
    "plt.legend(frameon=False)\n",
    "plt.xticks(\n",
    "    rotation=0,\n",
    "    horizontalalignment='center',\n",
    "    fontweight='light',\n",
    "    fontsize='small'\n",
    ")\n",
    "\n",
    "# Show the plot\n",
    "plt.savefig(\"Area_boxplot.png\")\n",
    "plt.show()\n",
    "\n",
    "\n",
    "## Code of the Line Chart\n",
    "\n",
    "# Set the style of seaborn\n",
    "sns.set(style=\"white\")\n",
    "colors = ['#AE0581', '#97EA36']\n",
    "\n",
    "# Combine 'Pur' and 'Geo' into a single DataFrame for plotting\n",
    "combined_df = pd.melt(parameters, id_vars=['address_status'], value_vars=['Pur', 'Geo'], var_name='Feature', value_name='Values')\n",
    "\n",
    "# Create the line plot\n",
    "plt.figure(figsize=(12, 6))\n",
    "sns.lineplot(data=combined_df, x='address_status', y='Values', hue='Feature', palette=colors, style='Feature', markers=True)\n",
    "\n",
    "sns.despine()\n",
    "\n",
    "# Remove x-label\n",
    "plt.xlabel(None)\n",
    "\n",
    "# Set labels and title\n",
    "plt.ylabel('$PM_{2.5}$ Value')\n",
    "plt.title('')\n",
    "\n",
    "plt.legend(frameon=False)\n",
    "plt.xticks(\n",
    "    rotation=0,\n",
    "    horizontalalignment='center',\n",
    "    fontweight='light',\n",
    "    fontsize='medium'\n",
    ")\n",
    "\n",
    "# Show the plot\n",
    "plt.legend(title='Feature')\n",
    "plt.savefig(\"Area_linechart.png\")\n",
    "plt.show()"
   ]
  },
  {
   "cell_type": "markdown",
   "id": "b48b25f8",
   "metadata": {},
   "source": [
    "# Descriptive Statistics"
   ]
  },
  {
   "cell_type": "code",
   "execution_count": 149,
   "id": "e2f8205f",
   "metadata": {},
   "outputs": [
    {
     "data": {
      "text/plain": [
       "count     41.000000\n",
       "mean      44.518658\n",
       "std       56.251032\n",
       "min        3.795506\n",
       "25%        9.156132\n",
       "50%       23.255924\n",
       "75%       60.407920\n",
       "max      240.454879\n",
       "Name: Pur, dtype: float64"
      ]
     },
     "execution_count": 149,
     "metadata": {},
     "output_type": "execute_result"
    }
   ],
   "source": [
    "Rural['Pur'].describe()"
   ]
  },
  {
   "cell_type": "code",
   "execution_count": 150,
   "id": "4b21647d",
   "metadata": {},
   "outputs": [
    {
     "data": {
      "text/plain": [
       "count    41.000000\n",
       "mean     14.168774\n",
       "std      20.523953\n",
       "min       2.082727\n",
       "25%       3.007641\n",
       "50%       5.425578\n",
       "75%      12.855662\n",
       "max      96.468137\n",
       "Name: Geo, dtype: float64"
      ]
     },
     "execution_count": 150,
     "metadata": {},
     "output_type": "execute_result"
    }
   ],
   "source": [
    "Rural['Geo'].describe()"
   ]
  },
  {
   "cell_type": "code",
   "execution_count": 151,
   "id": "c01e2d71",
   "metadata": {},
   "outputs": [
    {
     "data": {
      "text/plain": [
       "count     59.000000\n",
       "mean      44.732723\n",
       "std       41.822067\n",
       "min        5.233887\n",
       "25%       14.228287\n",
       "50%       33.728402\n",
       "75%       61.354989\n",
       "max      200.618932\n",
       "Name: Pur, dtype: float64"
      ]
     },
     "execution_count": 151,
     "metadata": {},
     "output_type": "execute_result"
    }
   ],
   "source": [
    "Urban['Pur'].describe()"
   ]
  },
  {
   "cell_type": "code",
   "execution_count": 152,
   "id": "919fd9ab",
   "metadata": {},
   "outputs": [
    {
     "data": {
      "text/plain": [
       "count     59.000000\n",
       "mean      12.468005\n",
       "std       20.369702\n",
       "min        1.623826\n",
       "25%        3.133357\n",
       "50%        6.161406\n",
       "75%       10.271236\n",
       "max      105.016596\n",
       "Name: Geo, dtype: float64"
      ]
     },
     "execution_count": 152,
     "metadata": {},
     "output_type": "execute_result"
    }
   ],
   "source": [
    "Urban['Geo'].describe()"
   ]
  }
 ],
 "metadata": {
  "kernelspec": {
   "display_name": "Python 3 (ipykernel)",
   "language": "python",
   "name": "python3"
  },
  "language_info": {
   "codemirror_mode": {
    "name": "ipython",
    "version": 3
   },
   "file_extension": ".py",
   "mimetype": "text/x-python",
   "name": "python",
   "nbconvert_exporter": "python",
   "pygments_lexer": "ipython3",
   "version": "3.9.16"
  }
 },
 "nbformat": 4,
 "nbformat_minor": 5
}
